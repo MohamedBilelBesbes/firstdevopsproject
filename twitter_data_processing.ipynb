{
  "nbformat": 4,
  "nbformat_minor": 0,
  "metadata": {
    "colab": {
      "provenance": []
    },
    "kernelspec": {
      "name": "python3",
      "display_name": "Python 3"
    },
    "language_info": {
      "name": "python"
    }
  },
  "cells": [
    {
      "cell_type": "code",
      "metadata": {
        "colab": {
          "base_uri": "https://localhost:8080/"
        },
        "id": "ZDXqSEhjPOHM",
        "outputId": "29824be7-76de-4d9a-d9c9-20872a9f7c0b"
      },
      "source": [
        "!pip install googletrans==4.0.0-rc1"
      ],
      "execution_count": null,
      "outputs": [
        {
          "output_type": "stream",
          "text": [
            "Requirement already satisfied: googletrans==4.0.0-rc1 in /usr/local/lib/python3.7/dist-packages (4.0.0rc1)\n",
            "Requirement already satisfied: httpx==0.13.3 in /usr/local/lib/python3.7/dist-packages (from googletrans==4.0.0-rc1) (0.13.3)\n",
            "Requirement already satisfied: rfc3986<2,>=1.3 in /usr/local/lib/python3.7/dist-packages (from httpx==0.13.3->googletrans==4.0.0-rc1) (1.5.0)\n",
            "Requirement already satisfied: certifi in /usr/local/lib/python3.7/dist-packages (from httpx==0.13.3->googletrans==4.0.0-rc1) (2021.5.30)\n",
            "Requirement already satisfied: hstspreload in /usr/local/lib/python3.7/dist-packages (from httpx==0.13.3->googletrans==4.0.0-rc1) (2021.7.5)\n",
            "Requirement already satisfied: chardet==3.* in /usr/local/lib/python3.7/dist-packages (from httpx==0.13.3->googletrans==4.0.0-rc1) (3.0.4)\n",
            "Requirement already satisfied: sniffio in /usr/local/lib/python3.7/dist-packages (from httpx==0.13.3->googletrans==4.0.0-rc1) (1.2.0)\n",
            "Requirement already satisfied: httpcore==0.9.* in /usr/local/lib/python3.7/dist-packages (from httpx==0.13.3->googletrans==4.0.0-rc1) (0.9.1)\n",
            "Requirement already satisfied: idna==2.* in /usr/local/lib/python3.7/dist-packages (from httpx==0.13.3->googletrans==4.0.0-rc1) (2.10)\n",
            "Requirement already satisfied: h11<0.10,>=0.8 in /usr/local/lib/python3.7/dist-packages (from httpcore==0.9.*->httpx==0.13.3->googletrans==4.0.0-rc1) (0.9.0)\n",
            "Requirement already satisfied: h2==3.* in /usr/local/lib/python3.7/dist-packages (from httpcore==0.9.*->httpx==0.13.3->googletrans==4.0.0-rc1) (3.2.0)\n",
            "Requirement already satisfied: hpack<4,>=3.0 in /usr/local/lib/python3.7/dist-packages (from h2==3.*->httpcore==0.9.*->httpx==0.13.3->googletrans==4.0.0-rc1) (3.0.0)\n",
            "Requirement already satisfied: hyperframe<6,>=5.2.0 in /usr/local/lib/python3.7/dist-packages (from h2==3.*->httpcore==0.9.*->httpx==0.13.3->googletrans==4.0.0-rc1) (5.2.0)\n"
          ],
          "name": "stdout"
        }
      ]
    },
    {
      "cell_type": "code",
      "metadata": {
        "id": "JymMwX8cPhU6"
      },
      "source": [
        "import pandas as pd\n",
        "import math\n",
        "from datetime import datetime , timedelta\n",
        "from googletrans import Translator"
      ],
      "execution_count": null,
      "outputs": []
    },
    {
      "cell_type": "code",
      "metadata": {
        "id": "fwownWOu6uxY"
      },
      "source": [
        "df1 = pd.read_csv('/content/drive/MyDrive/colab_datasets/twitterscraping/datasetprime.csv', index_col=None)\n",
        "df2 = pd.read_csv('/content/drive/MyDrive/colab_datasets/twitterscraping/datasetsdatasetprime.csv', index_col=None)\n",
        "df3 = pd.read_csv('/content/drive/MyDrive/colab_datasets/twitterscraping/datasetprimer.csv', index_col=None)\n",
        "df4 = pd.read_csv('/content/drive/MyDrive/colab_datasets/twitterscraping/datasetpriming.csv', index_col=None)\n",
        "dfs = [df1,df2,df3,df4]\n",
        "df = pd.concat(dfs).drop_duplicates()"
      ],
      "execution_count": null,
      "outputs": []
    },
    {
      "cell_type": "code",
      "metadata": {
        "id": "QK82v8MkN99v"
      },
      "source": [
        "testdf = df.copy().drop(columns=['Retweet']).drop_duplicates()"
      ],
      "execution_count": null,
      "outputs": []
    },
    {
      "cell_type": "code",
      "metadata": {
        "id": "rfv66KWoMfCr"
      },
      "source": [
        "testdf = testdf.drop([testdf[testdf['Content'] == 'Content'].index[0]])"
      ],
      "execution_count": null,
      "outputs": []
    },
    {
      "cell_type": "code",
      "metadata": {
        "id": "1wRWZ3b68TRp"
      },
      "source": [
        "def pipelinenumberoftweets(df):\n",
        "  for i in range(df['NumberofTweets'].shape[0]):\n",
        "    if (df['NumberofTweets'].iloc[i].find(\"Tweet\") != -1):\n",
        "      itm = df['NumberofTweets'].iloc[i][:-7]\n",
        "      if itm == 'Numbero':\n",
        "        df.drop([i])\n",
        "      if ',' in itm:\n",
        "        itm = itm.split(',')[0] + itm.split(',')[1]\n",
        "      if 'K' in itm:\n",
        "        try:\n",
        "          itm = itm[:-1].split('.')[0] + itm[:-1].split('.')[1] + '00'\n",
        "        except:\n",
        "          itm = itm[:-1] + '000'\n",
        "      if 'M' in itm:\n",
        "        try:\n",
        "          itm = itm[:-1].split('.')[0] + itm[:-1].split('.')[1] + '00000'\n",
        "        except:\n",
        "          itm = itm[:-1] + '000000'\n",
        "      if itm == '':\n",
        "        df['NumberofTweets'].iloc[i] = \"0\"\n",
        "      else:\n",
        "        df['NumberofTweets'].iloc[i] = itm\n",
        "  df['NumberofTweets'] = pd.to_numeric(df['NumberofTweets'])"
      ],
      "execution_count": null,
      "outputs": []
    },
    {
      "cell_type": "code",
      "metadata": {
        "id": "YvTj_CpbS1Xy"
      },
      "source": [
        "def pipelinenumberoffollow(df):\n",
        "  for j in ['NumberofFollowing','NumberofFollowers']:\n",
        "    for i in range(df[j].shape[0]):\n",
        "      itm = df[j].iloc[i]\n",
        "      if itm[:14] == 'NumberofFollow':\n",
        "        df.drop([i])\n",
        "      if ',' in itm:\n",
        "        itm = itm.split(',')[0] + itm.split(',')[1]\n",
        "      if 'K' in itm:\n",
        "        try:\n",
        "          itm = itm[:-1].split('.')[0] + itm[:-1].split('.')[1] + '00'\n",
        "        except:\n",
        "          itm = itm[:-1] + '000'\n",
        "      if 'M' in itm:\n",
        "        try:\n",
        "          itm = itm[:-1].split('.')[0] + itm[:-1].split('.')[1] + '00000'\n",
        "        except:\n",
        "          itm = itm[:-1] + '000000'\n",
        "      if itm == '':\n",
        "        df[j].iloc[i] = \"0\"\n",
        "      else:\n",
        "        df[j].iloc[i] = itm\n",
        "    df[j] = pd.to_numeric(df[j])"
      ],
      "execution_count": null,
      "outputs": []
    },
    {
      "cell_type": "code",
      "metadata": {
        "id": "EFFgLiZh93_B"
      },
      "source": [
        "def pipelinenumberofys(df):\n",
        "  for j in ['NumberOfComments','NumberOfRetweets','NumberOfLikes']:\n",
        "    print(j)\n",
        "    for i in range(df[j].shape[0]):\n",
        "      itm = df[j].iloc[i]\n",
        "      if (isinstance(itm, str)) :\n",
        "        if ('\\n' in itm):\n",
        "          itm = itm.split('\\n')[0]\n",
        "        if (itm[:8] == 'NumberOf'):\n",
        "          df.drop([i])\n",
        "        if ',' in itm:\n",
        "          itm = itm.split(',')[0] + itm.split(',')[1]\n",
        "        if 'K' in itm:\n",
        "          try:\n",
        "            itm = itm[:-1].split('.')[0] + itm[:-1].split('.')[1] + '00'\n",
        "          except:\n",
        "            itm = itm[:-1] + '000'\n",
        "        if 'M' in itm:\n",
        "          try:\n",
        "            itm = itm[:-1].split('.')[0] + itm[:-1].split('.')[1] + '00000'\n",
        "          except:\n",
        "            itm = itm[:-1] + '000000'\n",
        "        if itm == '':\n",
        "          df[j].iloc[i] = \"0\"\n",
        "        else:\n",
        "          df[j].iloc[i] = itm\n",
        "      elif isinstance(itm, float):\n",
        "        df[j].iloc[i] = \"0\"\n",
        "    df[j] = pd.to_numeric(df[j])"
      ],
      "execution_count": null,
      "outputs": []
    },
    {
      "cell_type": "code",
      "metadata": {
        "id": "Tm8DSwTDDwLB"
      },
      "source": [
        "def guesslang(df):\n",
        "  translator = Translator()\n",
        "  df['language'] = 'unknown'\n",
        "  for i in range(df['Content'].shape[0]):\n",
        "    if isinstance(df['Content'].iloc[i],str):\n",
        "      try:\n",
        "        df['language'].iloc[i] = translator.detect(df['Content'].iloc[i]).lang\n",
        "      except:\n",
        "        pass"
      ],
      "execution_count": null,
      "outputs": []
    },
    {
      "cell_type": "code",
      "metadata": {
        "id": "C6FlKoCmNE1_"
      },
      "source": [],
      "execution_count": null,
      "outputs": []
    },
    {
      "cell_type": "code",
      "metadata": {
        "id": "0Qcu0o91y-LB"
      },
      "source": [
        "def countnumberoftags(df):\n",
        "  df['numberOfHashtags'] = 0\n",
        "  df['numberOfTags'] = 0\n",
        "  df['numberOfURLs'] = 0\n",
        "  for i in range(df['Content'].shape[0]):\n",
        "    if isinstance(df['Content'].iloc[i],str):\n",
        "      df['numberOfHashtags'].iloc[i] = df['Content'].iloc[i].count('#')\n",
        "      df['numberOfTags'].iloc[i] = df['Content'].iloc[i].count('@')\n",
        "      df['numberOfURLs'].iloc[i] = df['Content'].iloc[i].count('http')"
      ],
      "execution_count": null,
      "outputs": []
    },
    {
      "cell_type": "code",
      "metadata": {
        "id": "z938sDtlWSsH",
        "colab": {
          "base_uri": "https://localhost:8080/"
        },
        "outputId": "beae2dc4-523c-47c3-e492-802bd4656a51"
      },
      "source": [
        "pipelinenumberoftweets(testdf)\n",
        "pipelinenumberoffollow(testdf)\n",
        "pipelinenumberofys(testdf)"
      ],
      "execution_count": null,
      "outputs": [
        {
          "output_type": "stream",
          "text": [
            "/usr/local/lib/python3.7/dist-packages/pandas/core/indexing.py:670: SettingWithCopyWarning: \n",
            "A value is trying to be set on a copy of a slice from a DataFrame\n",
            "\n",
            "See the caveats in the documentation: https://pandas.pydata.org/pandas-docs/stable/user_guide/indexing.html#returning-a-view-versus-a-copy\n",
            "  iloc._setitem_with_indexer(indexer, value)\n"
          ],
          "name": "stderr"
        },
        {
          "output_type": "stream",
          "text": [
            "NumberOfComments\n",
            "NumberOfRetweets\n",
            "NumberOfLikes\n"
          ],
          "name": "stdout"
        }
      ]
    },
    {
      "cell_type": "code",
      "metadata": {
        "id": "f4cWmJF9K6I3"
      },
      "source": [
        "testdf = testdf.drop(columns=['NumberOfCommentslast','NumberOfRetweetslast','NumberOfLikeslast'])"
      ],
      "execution_count": null,
      "outputs": []
    },
    {
      "cell_type": "code",
      "metadata": {
        "id": "6yNBcoTF8FIF"
      },
      "source": [
        "testdf['timeoftweet'] = testdf.timeoftweet.apply(lambda x: x[:10] + ' ' + x[11:19])\n",
        "testdf['timeoftweet'] = pd.to_datetime(testdf['timeoftweet'], format='%Y-%m-%d %H:%M:%S')"
      ],
      "execution_count": null,
      "outputs": []
    },
    {
      "cell_type": "code",
      "metadata": {
        "id": "rS_kU0aPNJCl"
      },
      "source": [
        "testdf['timeofscraping'] = testdf.timeofscraping.apply(lambda x: x[:10] + ' ' + x[11:19])\n",
        "testdf['timeofscraping'] = pd.to_datetime(testdf['timeofscraping'], format='%Y-%m-%d %H:%M:%S') + timedelta(hours=-1)"
      ],
      "execution_count": null,
      "outputs": []
    },
    {
      "cell_type": "code",
      "metadata": {
        "id": "ONLMRXAuWrS4",
        "colab": {
          "base_uri": "https://localhost:8080/"
        },
        "outputId": "bb59a5cc-9e95-4868-e8f5-322b8a4020af"
      },
      "source": [
        "testdf['tweetage'] = 1\n",
        "for i in range(testdf.shape[0]):\n",
        "  if (pd.Timedelta(\"1 hours\") < testdf['timeofscraping'].iloc[i] - testdf['timeoftweet'].iloc[i] <= pd.Timedelta(\"12 hours\")):\n",
        "    testdf[\"tweetage\"].iloc[i] = 2\n",
        "  if (pd.Timedelta(\"12 hours\") < testdf['timeofscraping'].iloc[i] - testdf['timeoftweet'].iloc[i] <= pd.Timedelta(\"1 days\")):\n",
        "    testdf[\"tweetage\"].iloc[i] = 3\n",
        "  if (testdf['timeofscraping'].iloc[i] - testdf['timeoftweet'].iloc[i] > pd.Timedelta(\"1 days\")):\n",
        "    testdf[\"tweetage\"].iloc[i] = 4"
      ],
      "execution_count": null,
      "outputs": [
        {
          "output_type": "stream",
          "text": [
            "/usr/local/lib/python3.7/dist-packages/pandas/core/indexing.py:670: SettingWithCopyWarning: \n",
            "A value is trying to be set on a copy of a slice from a DataFrame\n",
            "\n",
            "See the caveats in the documentation: https://pandas.pydata.org/pandas-docs/stable/user_guide/indexing.html#returning-a-view-versus-a-copy\n",
            "  iloc._setitem_with_indexer(indexer, value)\n"
          ],
          "name": "stderr"
        }
      ]
    },
    {
      "cell_type": "code",
      "metadata": {
        "id": "JsR_Xwqzw1aL"
      },
      "source": [
        "testdf = testdf.drop(columns=['timeoftweet','timeofscraping'])"
      ],
      "execution_count": null,
      "outputs": []
    },
    {
      "cell_type": "code",
      "metadata": {
        "id": "VlrmoZ9jyuR2",
        "colab": {
          "base_uri": "https://localhost:8080/"
        },
        "outputId": "bf375a8b-f931-4e4e-9d35-b9d2a0f2bff8"
      },
      "source": [
        "countnumberoftags(testdf)"
      ],
      "execution_count": null,
      "outputs": [
        {
          "output_type": "stream",
          "text": [
            "/usr/local/lib/python3.7/dist-packages/pandas/core/indexing.py:670: SettingWithCopyWarning: \n",
            "A value is trying to be set on a copy of a slice from a DataFrame\n",
            "\n",
            "See the caveats in the documentation: https://pandas.pydata.org/pandas-docs/stable/user_guide/indexing.html#returning-a-view-versus-a-copy\n",
            "  iloc._setitem_with_indexer(indexer, value)\n"
          ],
          "name": "stderr"
        }
      ]
    },
    {
      "cell_type": "code",
      "metadata": {
        "id": "HgkZfeqVhcIh"
      },
      "source": [
        "testdf = testdf.drop_duplicates()"
      ],
      "execution_count": null,
      "outputs": []
    },
    {
      "cell_type": "code",
      "metadata": {
        "id": "dfTjRbOcFY-M",
        "colab": {
          "base_uri": "https://localhost:8080/"
        },
        "outputId": "0fdc44b7-2533-4e2b-d5b5-95dff97c59a4"
      },
      "source": [
        "guesslang(testdf)"
      ],
      "execution_count": null,
      "outputs": [
        {
          "output_type": "stream",
          "text": [
            "/usr/local/lib/python3.7/dist-packages/pandas/core/indexing.py:670: SettingWithCopyWarning: \n",
            "A value is trying to be set on a copy of a slice from a DataFrame\n",
            "\n",
            "See the caveats in the documentation: https://pandas.pydata.org/pandas-docs/stable/user_guide/indexing.html#returning-a-view-versus-a-copy\n",
            "  iloc._setitem_with_indexer(indexer, value)\n"
          ],
          "name": "stderr"
        }
      ]
    },
    {
      "cell_type": "code",
      "metadata": {
        "id": "YSg6LS1Z_7co"
      },
      "source": [
        "#testdf['NumberofComments'] = testdf['NumberOfComments']\n",
        "#testdf['NumberofRetweets'] = testdf['NumberOfRetweets']\n",
        "#testdf['NumberofLikes'] = testdf['NumberOfLikes']\n",
        "#testdf = testdf.drop(columns=['NumberOfRetweets','NumberOfComments','NumberOfLikes'])"
      ],
      "execution_count": null,
      "outputs": []
    },
    {
      "cell_type": "code",
      "metadata": {
        "id": "webIM9VuAquR"
      },
      "source": [
        "testdf.to_csv('/content/drive/MyDrive/colab_datasets/twitterscraping/alldatacleaned.csv',index=False)"
      ],
      "execution_count": null,
      "outputs": []
    }
  ]
}