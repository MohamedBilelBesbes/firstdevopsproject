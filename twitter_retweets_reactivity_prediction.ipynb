{
  "nbformat": 4,
  "nbformat_minor": 0,
  "metadata": {
    "colab": {
      "provenance": []
    },
    "kernelspec": {
      "name": "python3",
      "display_name": "Python 3"
    },
    "language_info": {
      "name": "python"
    }
  },
  "cells": [
    {
      "cell_type": "markdown",
      "metadata": {
        "id": "HS2aeaiih6J4"
      },
      "source": [
        "These are the necessary imports"
      ]
    },
    {
      "cell_type": "code",
      "metadata": {
        "colab": {
          "base_uri": "https://localhost:8080/"
        },
        "id": "e26A_XV6n6Oi",
        "outputId": "baa787e2-33c2-4dea-fe84-74248f6a0e7d"
      },
      "source": [
        "!pip install sklearn"
      ],
      "execution_count": null,
      "outputs": [
        {
          "output_type": "stream",
          "text": [
            "Requirement already satisfied: sklearn in /usr/local/lib/python3.7/dist-packages (0.0)\n",
            "Requirement already satisfied: scikit-learn in /usr/local/lib/python3.7/dist-packages (from sklearn) (0.22.2.post1)\n",
            "Requirement already satisfied: joblib>=0.11 in /usr/local/lib/python3.7/dist-packages (from scikit-learn->sklearn) (1.0.1)\n",
            "Requirement already satisfied: scipy>=0.17.0 in /usr/local/lib/python3.7/dist-packages (from scikit-learn->sklearn) (1.4.1)\n",
            "Requirement already satisfied: numpy>=1.11.0 in /usr/local/lib/python3.7/dist-packages (from scikit-learn->sklearn) (1.19.5)\n"
          ],
          "name": "stdout"
        }
      ]
    },
    {
      "cell_type": "code",
      "metadata": {
        "id": "wNYRxqVlCGxN"
      },
      "source": [
        "import pandas as pd\n",
        "import numpy as np\n",
        "import matplotlib.pyplot as plt\n",
        "import seaborn as sns\n",
        "from sklearn.model_selection import train_test_split\n",
        "from sklearn.preprocessing import OrdinalEncoder\n",
        "from sklearn.preprocessing import StandardScaler\n",
        "from sklearn.ensemble import RandomForestRegressor as rfr\n",
        "from sklearn.ensemble import RandomForestRegressor\n",
        "from sklearn.model_selection import GridSearchCV\n",
        "from sklearn.metrics import mean_absolute_error\n",
        "from sklearn.ensemble import GradientBoostingRegressor\n",
        "from sklearn.metrics import mean_squared_error\n",
        "from sklearn.decomposition import PCA\n",
        "import xgboost as xgb\n",
        "from xgboost import XGBRegressor"
      ],
      "execution_count": null,
      "outputs": []
    },
    {
      "cell_type": "markdown",
      "metadata": {
        "id": "bU7zXVWviMD5"
      },
      "source": [
        "Getting the dataframe from a csv"
      ]
    },
    {
      "cell_type": "code",
      "metadata": {
        "colab": {
          "base_uri": "https://localhost:8080/"
        },
        "id": "0c-uJXV1bJe6",
        "outputId": "a768e3c6-8ea2-4ff2-a2fa-340e71af5b85"
      },
      "source": [
        "from google.colab import drive\n",
        "drive.mount('/content/drive')"
      ],
      "execution_count": null,
      "outputs": [
        {
          "output_type": "stream",
          "name": "stdout",
          "text": [
            "Mounted at /content/drive\n"
          ]
        }
      ]
    },
    {
      "cell_type": "code",
      "metadata": {
        "id": "qJFGKF_0DMnM"
      },
      "source": [
        "df = pd.read_csv('/content/drive/MyDrive/colab_datasets/twitterscraping/alldatacleaned.csv', index_col=None)\n",
        "df = df.drop_duplicates()"
      ],
      "execution_count": null,
      "outputs": []
    },
    {
      "cell_type": "markdown",
      "metadata": {
        "id": "P4ZhaLqAiTbt"
      },
      "source": [
        "Making a copy of the dataframe to work on it so initial state of the dataset can be restored in case something bad happens.\n",
        "**Note : *** I will be referencing to the number of likes, number of comments, and number of retweets as **reaction indices**"
      ]
    },
    {
      "cell_type": "code",
      "metadata": {
        "id": "VamsBGAyfMy1"
      },
      "source": [
        "dfcopy = df.copy()"
      ],
      "execution_count": null,
      "outputs": []
    },
    {
      "cell_type": "markdown",
      "metadata": {
        "id": "xTbr0wgBjh6h"
      },
      "source": [
        "Dropping the 'Content' column because we cannot extract useful data from it anymore"
      ]
    },
    {
      "cell_type": "code",
      "metadata": {
        "id": "hRz_JyUDgGX0"
      },
      "source": [
        "dfcopy = dfcopy.drop(columns=['Content'])"
      ],
      "execution_count": null,
      "outputs": []
    },
    {
      "cell_type": "code",
      "metadata": {
        "id": "lUASu3a-hkux"
      },
      "source": [
        "#page 186\n",
        "#models are :\n",
        "#bagging tree classifier\n",
        "#random forest\n",
        "#extra forest\n",
        "#ways to optimize :\n",
        "#grid search\n",
        "#cross validation\n",
        "#selecting the best estimator (find the best metric : MSE , MAE , R-Squarred)"
      ],
      "execution_count": null,
      "outputs": []
    },
    {
      "cell_type": "markdown",
      "metadata": {
        "id": "z9ocnsVojsNn"
      },
      "source": [
        "Some of the data has zero as the number of likes, retweets, and comments respectively, which means that the extraction of the data was wrong (as observed in the dataset, some users have tousands of followers and thousands of tweets but have not a single intercation on a post that was putted more than a day ago). However, some users who have less than five followers and less than five posts have no interaction on their last post, which makes sense. So, I created a function that drops rows where there is no interaction (zero likes, comments, and retweets) if their correspondant user have more than five followers or more than five posts"
      ]
    },
    {
      "cell_type": "code",
      "metadata": {
        "id": "tEFODlfkKRPI"
      },
      "source": [
        "def dropzeros(df):\n",
        "  l = []\n",
        "  for i in range(df.shape[0]):\n",
        "    if (df['NumberOfLikes'].iloc[i] == 0 and df['NumberOfRetweets'].iloc[i] == 0 and df['NumberOfComments'].iloc[i] == 0 and (df['NumberofTweets'].iloc[i] < 6 or df['NumberofFollowers'].iloc[i] < 6)):\n",
        "      l.append(i)\n",
        "  df.drop(df.index[l], inplace=True)"
      ],
      "execution_count": null,
      "outputs": []
    },
    {
      "cell_type": "code",
      "metadata": {
        "id": "aw2jvif8NhoR"
      },
      "source": [
        "dropzeros(dfcopy)"
      ],
      "execution_count": null,
      "outputs": []
    },
    {
      "cell_type": "markdown",
      "metadata": {
        "id": "7FMYFgeHmcdD"
      },
      "source": [
        "The correlation map shows that the number of reaction indices' columns are weakly correlated to other columns"
      ]
    },
    {
      "cell_type": "code",
      "metadata": {
        "id": "e8UFAlGOguJj",
        "colab": {
          "base_uri": "https://localhost:8080/",
          "height": 381
        },
        "outputId": "efc39339-2aa3-41ab-e840-c5c92f93948e"
      },
      "source": [
        "corr = dfcopy.corr()\n",
        "sns.heatmap(corr)"
      ],
      "execution_count": null,
      "outputs": [
        {
          "output_type": "execute_result",
          "data": {
            "text/plain": [
              "<matplotlib.axes._subplots.AxesSubplot at 0x7fb554c11050>"
            ]
          },
          "metadata": {
            "tags": []
          },
          "execution_count": 34
        },
        {
          "output_type": "display_data",
          "data": {
            "image/png": "[encoded data removed]",
            "text/plain": [
              "<Figure size 432x288 with 2 Axes>"
            ]
          },
          "metadata": {
            "tags": [],
            "needs_background": "light"
          }
        }
      ]
    },
    {
      "cell_type": "code",
      "metadata": {
        "id": "2Uhq8wg_kJRa"
      },
      "source": [
        "#corr"
      ],
      "execution_count": null,
      "outputs": []
    },
    {
      "cell_type": "markdown",
      "metadata": {
        "id": "yQU0jMAJnrIu"
      },
      "source": [
        "This shows that only a small percentage of the rows actually have a video content in them"
      ]
    },
    {
      "cell_type": "code",
      "metadata": {
        "id": "TOsxmt-Jk92A",
        "colab": {
          "base_uri": "https://localhost:8080/",
          "height": 405
        },
        "outputId": "e11f44b4-0025-4059-a8a3-fe8b246c70f9"
      },
      "source": [
        "plt.figure(figsize=(15, 6))\n",
        "sns.countplot(data = dfcopy , x = 'Video')"
      ],
      "execution_count": null,
      "outputs": [
        {
          "output_type": "execute_result",
          "data": {
            "text/plain": [
              "<matplotlib.axes._subplots.AxesSubplot at 0x7fb55364e4d0>"
            ]
          },
          "metadata": {
            "tags": []
          },
          "execution_count": 36
        },
        {
          "output_type": "display_data",
          "data": {
            "image/png": "[encoded data removed]",
            "text/plain": [
              "<Figure size 1080x432 with 1 Axes>"
            ]
          },
          "metadata": {
            "tags": [],
            "needs_background": "light"
          }
        }
      ]
    },
    {
      "cell_type": "code",
      "metadata": {
        "id": "YquIMZPvzYm4"
      },
      "source": [
        "dff = dfcopy.copy()"
      ],
      "execution_count": null,
      "outputs": []
    },
    {
      "cell_type": "markdown",
      "metadata": {
        "id": "sLv4stMYoR10"
      },
      "source": [
        "The 'language' column is categorical and have 55 values, so we will transform it using the Ordinal Encoder"
      ]
    },
    {
      "cell_type": "code",
      "metadata": {
        "id": "5ptcYGvkEHO2"
      },
      "source": [
        "prelan = dff[['language']].rename(columns={'language':'prelan'})"
      ],
      "execution_count": null,
      "outputs": []
    },
    {
      "cell_type": "code",
      "metadata": {
        "id": "M7dakV0DzFKp"
      },
      "source": [
        "Encoder = OrdinalEncoder(dtype=int)\n",
        "Encoder.fit(dff[['language']])\n",
        "dff[['language']] = Encoder.transform(dff[['language']])"
      ],
      "execution_count": null,
      "outputs": []
    },
    {
      "cell_type": "code",
      "metadata": {
        "id": "PBT3ZcrKEMIx"
      },
      "source": [
        "postlan = dff[['language']].rename(columns={'language':'postlan'})"
      ],
      "execution_count": null,
      "outputs": []
    },
    {
      "cell_type": "code",
      "metadata": {
        "id": "Gv_RQDQYE0JE"
      },
      "source": [
        "langdf = pd.concat([prelan,postlan],axis=1).drop_duplicates()"
      ],
      "execution_count": null,
      "outputs": []
    },
    {
      "cell_type": "code",
      "metadata": {
        "id": "HuzPQLOBE8b-"
      },
      "source": [
        "d = {}\n",
        "for i in range(langdf.shape[0]):\n",
        "  d[langdf.iloc[i][0]] = langdf.iloc[i][1]"
      ],
      "execution_count": null,
      "outputs": []
    },
    {
      "cell_type": "code",
      "metadata": {
        "id": "LQCx3hzQziq0",
        "colab": {
          "base_uri": "https://localhost:8080/",
          "height": 224
        },
        "outputId": "412cf784-bcb0-469e-eb0e-a4d05d028893"
      },
      "source": [
        "dff.head()"
      ],
      "execution_count": null,
      "outputs": [
        {
          "output_type": "execute_result",
          "data": {
            "text/html": [
              "<div>\n",
              "<style scoped>\n",
              "    .dataframe tbody tr th:only-of-type {\n",
              "        vertical-align: middle;\n",
              "    }\n",
              "\n",
              "    .dataframe tbody tr th {\n",
              "        vertical-align: top;\n",
              "    }\n",
              "\n",
              "    .dataframe thead th {\n",
              "        text-align: right;\n",
              "    }\n",
              "</style>\n",
              "<table border=\"1\" class=\"dataframe\">\n",
              "  <thead>\n",
              "    <tr style=\"text-align: right;\">\n",
              "      <th></th>\n",
              "      <th>NumberofTweets</th>\n",
              "      <th>NumberofFollowing</th>\n",
              "      <th>NumberofFollowers</th>\n",
              "      <th>Picture</th>\n",
              "      <th>Video</th>\n",
              "      <th>NumberOfComments</th>\n",
              "      <th>NumberOfRetweets</th>\n",
              "      <th>NumberOfLikes</th>\n",
              "      <th>tweetage</th>\n",
              "      <th>numberOfHashtags</th>\n",
              "      <th>numberOfTags</th>\n",
              "      <th>numberOfURLs</th>\n",
              "      <th>language</th>\n",
              "    </tr>\n",
              "  </thead>\n",
              "  <tbody>\n",
              "    <tr>\n",
              "      <th>0</th>\n",
              "      <td>2610</td>\n",
              "      <td>51</td>\n",
              "      <td>35700</td>\n",
              "      <td>1</td>\n",
              "      <td>0</td>\n",
              "      <td>14</td>\n",
              "      <td>25</td>\n",
              "      <td>186</td>\n",
              "      <td>4</td>\n",
              "      <td>0</td>\n",
              "      <td>1</td>\n",
              "      <td>0</td>\n",
              "      <td>10</td>\n",
              "    </tr>\n",
              "    <tr>\n",
              "      <th>1</th>\n",
              "      <td>1390</td>\n",
              "      <td>277</td>\n",
              "      <td>159100</td>\n",
              "      <td>1</td>\n",
              "      <td>0</td>\n",
              "      <td>68</td>\n",
              "      <td>186</td>\n",
              "      <td>3700</td>\n",
              "      <td>4</td>\n",
              "      <td>0</td>\n",
              "      <td>1</td>\n",
              "      <td>0</td>\n",
              "      <td>9</td>\n",
              "    </tr>\n",
              "    <tr>\n",
              "      <th>2</th>\n",
              "      <td>6088</td>\n",
              "      <td>431</td>\n",
              "      <td>45600</td>\n",
              "      <td>1</td>\n",
              "      <td>0</td>\n",
              "      <td>0</td>\n",
              "      <td>19</td>\n",
              "      <td>255</td>\n",
              "      <td>4</td>\n",
              "      <td>1</td>\n",
              "      <td>0</td>\n",
              "      <td>0</td>\n",
              "      <td>49</td>\n",
              "    </tr>\n",
              "    <tr>\n",
              "      <th>3</th>\n",
              "      <td>408</td>\n",
              "      <td>71</td>\n",
              "      <td>49800</td>\n",
              "      <td>0</td>\n",
              "      <td>0</td>\n",
              "      <td>64</td>\n",
              "      <td>91</td>\n",
              "      <td>2200</td>\n",
              "      <td>4</td>\n",
              "      <td>0</td>\n",
              "      <td>0</td>\n",
              "      <td>0</td>\n",
              "      <td>9</td>\n",
              "    </tr>\n",
              "    <tr>\n",
              "      <th>4</th>\n",
              "      <td>2126</td>\n",
              "      <td>143</td>\n",
              "      <td>13200</td>\n",
              "      <td>0</td>\n",
              "      <td>0</td>\n",
              "      <td>68</td>\n",
              "      <td>183</td>\n",
              "      <td>1700</td>\n",
              "      <td>4</td>\n",
              "      <td>0</td>\n",
              "      <td>0</td>\n",
              "      <td>0</td>\n",
              "      <td>9</td>\n",
              "    </tr>\n",
              "  </tbody>\n",
              "</table>\n",
              "</div>"
            ],
            "text/plain": [
              "   NumberofTweets  NumberofFollowing  ...  numberOfURLs  language\n",
              "0            2610                 51  ...             0        10\n",
              "1            1390                277  ...             0         9\n",
              "2            6088                431  ...             0        49\n",
              "3             408                 71  ...             0         9\n",
              "4            2126                143  ...             0         9\n",
              "\n",
              "[5 rows x 13 columns]"
            ]
          },
          "metadata": {
            "tags": []
          },
          "execution_count": 14
        }
      ]
    },
    {
      "cell_type": "code",
      "metadata": {
        "id": "tBytNh4hQ_xj"
      },
      "source": [
        "#plt.figure(figsize=(6,6))\n",
        "#sns.distplot(dff.language.astype('str'),color='c')"
      ],
      "execution_count": null,
      "outputs": []
    },
    {
      "cell_type": "markdown",
      "metadata": {
        "id": "veqFHYyps53D"
      },
      "source": [
        "The boxplot shows significant imbalance in the y axis"
      ]
    },
    {
      "cell_type": "code",
      "metadata": {
        "id": "M14ouZ_utHjb",
        "colab": {
          "base_uri": "https://localhost:8080/",
          "height": 296
        },
        "outputId": "8e4797f4-81cf-489e-fa9a-61c043d2a23e"
      },
      "source": [
        "sns.boxplot(x=dff['NumberOfRetweets'])"
      ],
      "execution_count": null,
      "outputs": [
        {
          "output_type": "execute_result",
          "data": {
            "text/plain": [
              "<matplotlib.axes._subplots.AxesSubplot at 0x7f7766c45fd0>"
            ]
          },
          "metadata": {
            "tags": []
          },
          "execution_count": 16
        },
        {
          "output_type": "display_data",
          "data": {
            "image/png": "[encoded data removed]",
            "text/plain": [
              "<Figure size 432x288 with 1 Axes>"
            ]
          },
          "metadata": {
            "tags": [],
            "needs_background": "light"
          }
        }
      ]
    },
    {
      "cell_type": "markdown",
      "metadata": {
        "id": "hGo24qGKpEBy"
      },
      "source": [
        "The following histogram shows the distribution of the number of retweets and it shows that a large number of the data points are under the value of 2000, on the other hand, there are values that extend to more than 20 tousands which is surely indicates the existence of outliers."
      ]
    },
    {
      "cell_type": "code",
      "metadata": {
        "id": "HQcYuGkC-AFe",
        "colab": {
          "base_uri": "https://localhost:8080/",
          "height": 225
        },
        "outputId": "821bccdd-fcda-4792-e043-036b18fd6df8"
      },
      "source": [
        "plt.figure(figsize=(5, 3))\n",
        "dff.NumberOfRetweets.plot.hist(grid=True,range=[0,dff.NumberOfRetweets.max()], bins=100, rwidth=0.9)\n",
        "plt.xlabel('Number of Retweets')\n",
        "plt.grid(axis='y', alpha=0.75)\n",
        "#dff = dff[dff.NumberOfRetweets < 1001]"
      ],
      "execution_count": null,
      "outputs": [
        {
          "output_type": "display_data",
          "data": {
            "image/png": "[encoded data removed]",
            "text/plain": [
              "<Figure size 360x216 with 1 Axes>"
            ]
          },
          "metadata": {
            "tags": [],
            "needs_background": "light"
          }
        }
      ]
    },
    {
      "cell_type": "markdown",
      "metadata": {
        "id": "Ad7uQysuq7O7"
      },
      "source": [
        "There are also outliers that does not appear in the y columns (the 'NumberOfRetweets' column) but can rather be observed in the proportion between the number of retweets with the number of followers, followinf, and tweets, which indicates the existance of outliers. So there should be an outlier deletion technique that takes into account all the columns, not just the y column"
      ]
    },
    {
      "cell_type": "code",
      "metadata": {
        "id": "a0baF4WiQANQ",
        "colab": {
          "base_uri": "https://localhost:8080/",
          "height": 606
        },
        "outputId": "96d6be15-942d-41ea-e8cb-8275eee96049"
      },
      "source": [
        "fig, ax = plt.subplots(3,figsize=(4,10))\n",
        "ax[0].scatter(dff['NumberofFollowing'],dff['NumberOfRetweets'])\n",
        "ax[0].set_xlabel('number of following')\n",
        "ax[0].set_ylabel('number of retweets')\n",
        "ax[1].scatter(dff['NumberofFollowers'],dff['NumberOfRetweets'])\n",
        "ax[1].set_xlabel('number of followers')\n",
        "ax[1].set_ylabel('number of retweets')\n",
        "ax[2].scatter(dff['NumberofTweets'],dff['NumberOfRetweets'])\n",
        "ax[2].set_xlabel('number of tweets')\n",
        "ax[2].set_ylabel('number of retweets')\n",
        "plt.show()"
      ],
      "execution_count": null,
      "outputs": [
        {
          "output_type": "display_data",
          "data": {
            "image/png": "[encoded data removed]",
            "text/plain": [
              "<Figure size 288x720 with 3 Axes>"
            ]
          },
          "metadata": {
            "tags": [],
            "needs_background": "light"
          }
        }
      ]
    },
    {
      "cell_type": "code",
      "metadata": {
        "id": "bChwN3Y8gJmL"
      },
      "source": [
        "#d = dff['NumberOfRetweets'].value_counts().to_dict()\n",
        "#d = sorted(d.items(), key=lambda x: x[1])"
      ],
      "execution_count": null,
      "outputs": []
    },
    {
      "cell_type": "markdown",
      "metadata": {
        "id": "XZoSXHJ-tMqZ"
      },
      "source": [
        "\"**the Z-score : The intuition behind Z-score is to describe any data point by finding their relationship with the Standard Deviation and Mean of the group of data points. Z-score is finding the distribution of data where mean is 0 and standard deviation is 1 i.e. normal distribution.**\"\n",
        "\n",
        "To take into account all the columns upon performing the outlier rows selection, we use the z score which will give a good set of rows that are cadidated to be deleted"
      ]
    },
    {
      "cell_type": "code",
      "metadata": {
        "id": "vkjOyufDXwFk"
      },
      "source": [
        "from scipy import stats\n",
        "import numpy as np\n",
        "z = np.abs(stats.zscore(dff))"
      ],
      "execution_count": null,
      "outputs": []
    },
    {
      "cell_type": "markdown",
      "metadata": {
        "id": "Hyt-etWwu2zx"
      },
      "source": [
        "\"**You must be wondering that, how does this help in identifying the outliers? Well, while calculating the Z-score we re-scale and center the data and look for data points which are too far from zero. These data points which are way too far from zero will be treated as the outliers. In most of the cases a threshold of 3 or -3 is used i.e if the Z-score value is greater than or less than 3 or -3 respectively, that data point will be identified as outliers.**\"\n",
        "\n",
        "This is a sorted list with all the rows that were considered as outliers by the z-score criterion (if abs of z score is above 3, than it is to be considered as an outlier), we will use it to delete them fro mthe dataset"
      ]
    },
    {
      "cell_type": "code",
      "metadata": {
        "id": "V8Xe7AI4QgMr"
      },
      "source": [
        "l = sorted(list(set.union(set(np.where(z > 3)[0]),set(np.where(z < -3)[0]))))\n",
        "dff.drop(dff.index[l], inplace=True,axis=0)"
      ],
      "execution_count": null,
      "outputs": []
    },
    {
      "cell_type": "markdown",
      "metadata": {
        "id": "FqiGsfRaxsaE"
      },
      "source": [
        "Now, even the outliers related to the propotion between the number of retweets and the number of floowers, following, and number of tweets, are gone"
      ]
    },
    {
      "cell_type": "code",
      "metadata": {
        "id": "qQlvUskUsxZ0",
        "colab": {
          "base_uri": "https://localhost:8080/",
          "height": 1000
        },
        "outputId": "6a5ef310-8e36-4d21-c155-58f1077791f5"
      },
      "source": [
        "fig, ax = plt.subplots(3,figsize=(8,20))\n",
        "ax[0].scatter(dff['NumberofFollowing'],dff['NumberOfRetweets'])\n",
        "ax[0].set_xlabel('number of following')\n",
        "ax[0].set_ylabel('number of retweets')\n",
        "ax[1].scatter(dff['NumberofFollowers'],dff['NumberOfRetweets'])\n",
        "ax[1].set_xlabel('number of followers')\n",
        "ax[1].set_ylabel('number of retweets')\n",
        "ax[2].scatter(dff['NumberofTweets'],dff['NumberOfRetweets'])\n",
        "ax[2].set_xlabel('number of tweets')\n",
        "ax[2].set_ylabel('number of retweets')\n",
        "plt.show()"
      ],
      "execution_count": null,
      "outputs": [
        {
          "output_type": "display_data",
          "data": {
            "image/png": "[encoded data removed]",
            "text/plain": [
              "<Figure size 576x1440 with 3 Axes>"
            ]
          },
          "metadata": {
            "tags": [],
            "needs_background": "light"
          }
        }
      ]
    },
    {
      "cell_type": "markdown",
      "metadata": {
        "id": "7w3yuoylx-OX"
      },
      "source": [
        "The dataset is being split into x and y, with the 'NumberOfRetweets' column is the the y"
      ]
    },
    {
      "cell_type": "code",
      "metadata": {
        "id": "1V-ZhRv57bQ2"
      },
      "source": [
        "dff = dff[dff.NumberOfRetweets < 100]"
      ],
      "execution_count": null,
      "outputs": []
    },
    {
      "cell_type": "code",
      "metadata": {
        "id": "oZyRbuyCUhiQ"
      },
      "source": [
        "x = dff[['NumberofTweets', 'NumberofFollowing', 'NumberofFollowers', 'Picture',\n",
        "       'Video', 'tweetage', 'numberOfHashtags', 'numberOfTags', 'numberOfURLs','language']]\n",
        "y = np.log10(dff['NumberOfRetweets'] + 1)"
      ],
      "execution_count": null,
      "outputs": []
    },
    {
      "cell_type": "markdown",
      "metadata": {
        "id": "KbKvR11ByMaE"
      },
      "source": [
        "The dataset is bring split into train and test datasets, with the test dataset being 12% of the original dataset"
      ]
    },
    {
      "cell_type": "code",
      "metadata": {
        "id": "0jWKz4XgTadu"
      },
      "source": [
        "x_train , x_test , y_train , y_test = train_test_split(x,y,test_size=0.12,random_state=25)"
      ],
      "execution_count": null,
      "outputs": []
    },
    {
      "cell_type": "code",
      "metadata": {
        "id": "At0MLWt61R02",
        "colab": {
          "base_uri": "https://localhost:8080/"
        },
        "outputId": "02a9453d-f637-4f0c-e548-bf3f30ceb958"
      },
      "source": [
        "Scaler = StandardScaler()\n",
        "Scaler.fit(x_train[['NumberofTweets', 'NumberofFollowing', 'NumberofFollowers', 'numberOfHashtags', 'numberOfTags', 'numberOfURLs','tweetage','language']])\n",
        "x_train[['NumberofTweets', 'NumberofFollowing', 'NumberofFollowers', 'numberOfHashtags', 'numberOfTags', 'numberOfURLs','tweetage','language']] = Scaler.transform(x_train[['NumberofTweets', 'NumberofFollowing', 'NumberofFollowers', 'numberOfHashtags', 'numberOfTags', 'numberOfURLs','tweetage','language']])\n",
        "x_test[['NumberofTweets', 'NumberofFollowing', 'NumberofFollowers', 'numberOfHashtags', 'numberOfTags', 'numberOfURLs','tweetage','language']] = Scaler.transform(x_test[['NumberofTweets', 'NumberofFollowing', 'NumberofFollowers', 'numberOfHashtags', 'numberOfTags', 'numberOfURLs','tweetage','language']])"
      ],
      "execution_count": null,
      "outputs": [
        {
          "output_type": "stream",
          "text": [
            "/usr/local/lib/python3.7/dist-packages/ipykernel_launcher.py:3: SettingWithCopyWarning: \n",
            "A value is trying to be set on a copy of a slice from a DataFrame.\n",
            "Try using .loc[row_indexer,col_indexer] = value instead\n",
            "\n",
            "See the caveats in the documentation: https://pandas.pydata.org/pandas-docs/stable/user_guide/indexing.html#returning-a-view-versus-a-copy\n",
            "  This is separate from the ipykernel package so we can avoid doing imports until\n",
            "/usr/local/lib/python3.7/dist-packages/pandas/core/indexing.py:1734: SettingWithCopyWarning: \n",
            "A value is trying to be set on a copy of a slice from a DataFrame.\n",
            "Try using .loc[row_indexer,col_indexer] = value instead\n",
            "\n",
            "See the caveats in the documentation: https://pandas.pydata.org/pandas-docs/stable/user_guide/indexing.html#returning-a-view-versus-a-copy\n",
            "  isetter(loc, value[:, i].tolist())\n",
            "/usr/local/lib/python3.7/dist-packages/ipykernel_launcher.py:4: SettingWithCopyWarning: \n",
            "A value is trying to be set on a copy of a slice from a DataFrame.\n",
            "Try using .loc[row_indexer,col_indexer] = value instead\n",
            "\n",
            "See the caveats in the documentation: https://pandas.pydata.org/pandas-docs/stable/user_guide/indexing.html#returning-a-view-versus-a-copy\n",
            "  after removing the cwd from sys.path.\n",
            "/usr/local/lib/python3.7/dist-packages/pandas/core/indexing.py:1734: SettingWithCopyWarning: \n",
            "A value is trying to be set on a copy of a slice from a DataFrame.\n",
            "Try using .loc[row_indexer,col_indexer] = value instead\n",
            "\n",
            "See the caveats in the documentation: https://pandas.pydata.org/pandas-docs/stable/user_guide/indexing.html#returning-a-view-versus-a-copy\n",
            "  isetter(loc, value[:, i].tolist())\n"
          ],
          "name": "stderr"
        }
      ]
    },
    {
      "cell_type": "markdown",
      "metadata": {
        "id": "teQ5Cbdyyo6U"
      },
      "source": [
        "**\"The Mutual Information is a measure of the similarity between two labels of the same data\"**\n",
        "\n",
        "\"**We will use mutual information regression for feature ranking and selection. This metric measures the dependence between two random variables, in this case each feature in the data set and the number of retweets. Note that this doesn't consider combinations of feature values (for example, the dependence between number of followers and the y combined with number of tweets), which may also be useful**\"\n",
        "\n",
        "the mutual information score gives an idea on the important features in the x compared to the y"
      ]
    },
    {
      "cell_type": "code",
      "metadata": {
        "id": "rFlBSVCXcwQh",
        "colab": {
          "base_uri": "https://localhost:8080/"
        },
        "outputId": "e6cc3373-8c39-42ea-9988-9ba2ea500191"
      },
      "source": [
        "import sklearn.feature_selection as fs\n",
        "yt = [i for i in y_train]\n",
        "featurerank = fs.mutual_info_regression(x_train,yt)\n",
        "feature_scores = []\n",
        "included_features = x_train.columns\n",
        "for i in np.arange(len(included_features)):\n",
        "  feature_scores.append([included_features[i],featurerank[i]])\n",
        "sorted_scores = sorted(np.array(feature_scores),key=lambda s: float(s[1]), reverse=True)\n",
        "print(np.array(sorted_scores))"
      ],
      "execution_count": null,
      "outputs": [
        {
          "output_type": "stream",
          "text": [
            "[['NumberofTweets' '0.42620381894032366']\n",
            " ['NumberofFollowers' '0.3955997167038925']\n",
            " ['NumberofFollowing' '0.35308393362895973']\n",
            " ['tweetage' '0.09822574614159274']\n",
            " ['language' '0.07230777513248787']\n",
            " ['numberOfHashtags' '0.060764607703728046']\n",
            " ['numberOfTags' '0.050479342296559704']\n",
            " ['Video' '0.030139274478119926']\n",
            " ['numberOfURLs' '0.021162305189661']\n",
            " ['Picture' '0.018158512074870625']]\n"
          ],
          "name": "stdout"
        }
      ]
    },
    {
      "cell_type": "markdown",
      "metadata": {
        "id": "GKSYpALY1EhN"
      },
      "source": [
        "**\"Linear model for testing the individual effect of each of many regressors. This is a scoring function to be used in a feature selection procedure, not a free standing feature selection procedure\"**\n",
        "\n",
        "f_regression is just another metric to help us in feature selection"
      ]
    },
    {
      "cell_type": "code",
      "metadata": {
        "id": "k2XD5trXlLdG",
        "colab": {
          "base_uri": "https://localhost:8080/"
        },
        "outputId": "b97a24ee-46f5-48dc-f2d8-f75dcf2482db"
      },
      "source": [
        "featureranking = fs.f_regression(x_train,yt)\n",
        "feature_scoring = []\n",
        "for i in np.arange(len(included_features)):\n",
        "  feature_scoring.append([included_features[i],featureranking[0][i]])\n",
        "sorted_sc = sorted(np.array(feature_scoring),key=lambda s: float(s[1]), reverse=True)\n",
        "print(np.array(sorted_sc))"
      ],
      "execution_count": null,
      "outputs": [
        {
          "output_type": "stream",
          "text": [
            "[['NumberofFollowers' '292.3604652927977']\n",
            " ['NumberofTweets' '151.60038968738937']\n",
            " ['Video' '59.9419645598059']\n",
            " ['numberOfURLs' '56.51019091921548']\n",
            " ['numberOfTags' '36.38374858254056']\n",
            " ['numberOfHashtags' '30.103505047338658']\n",
            " ['tweetage' '27.46039899703687']\n",
            " ['Picture' '8.845355987362442']\n",
            " ['language' '4.445001624157204']\n",
            " ['NumberofFollowing' '0.08895294349382263']]\n"
          ],
          "name": "stdout"
        }
      ]
    },
    {
      "cell_type": "markdown",
      "metadata": {
        "id": "htNHT-ZeEhy3"
      },
      "source": [
        "**Selecting the most relevant columns :**\n",
        "\n",
        "some columns are very very relevant to the y, and some others aren't that relevant. So, the irrelevant columns should be known to try to find a solution for them"
      ]
    },
    {
      "cell_type": "code",
      "metadata": {
        "id": "FY6ppQkekTl4",
        "colab": {
          "base_uri": "https://localhost:8080/"
        },
        "outputId": "51bfd085-d75b-42ee-a51f-058c56657e46"
      },
      "source": [
        "from sklearn.feature_selection import SelectFromModel\n",
        "sel = SelectFromModel(rfr(n_estimators = 100))\n",
        "sel.fit(x_train, y_train)\n",
        "sel.get_support()\n",
        "x_train.columns[(sel.get_support())]"
      ],
      "execution_count": null,
      "outputs": [
        {
          "output_type": "execute_result",
          "data": {
            "text/plain": [
              "Index(['NumberofTweets', 'NumberofFollowing', 'NumberofFollowers'], dtype='object')"
            ]
          },
          "metadata": {
            "tags": []
          },
          "execution_count": 29
        }
      ]
    },
    {
      "cell_type": "markdown",
      "metadata": {
        "id": "wyd7d9GelXxS"
      },
      "source": [
        "So it turned out, only the 'NumberofTweets', 'NumberofFollowing', 'NumberofFollowers' columns are the most relevant and informative to the model concerning the y column.\n",
        "Now, let's try to reduce the number of columns by using PCA on the least relevant columns to the y column"
      ]
    },
    {
      "cell_type": "code",
      "metadata": {
        "id": "hZ77NVMJYHs5",
        "colab": {
          "base_uri": "https://localhost:8080/"
        },
        "outputId": "c728d0d8-7b9b-437d-ec87-878294596230"
      },
      "source": [
        "d = {}\n",
        "for i in range(len(x_train.columns)-1):\n",
        "  for j in range(i+1,len(x_train.columns)):\n",
        "    aa = x_train[[x_train.columns[i],x_train.columns[j]]]\n",
        "    pca = PCA(n_components=1)\n",
        "    aa = pca.fit_transform(aa)\n",
        "    d[x_train.columns[i] + ' ' + x_train.columns[j]] = pca.explained_variance_ratio_\n",
        "d"
      ],
      "execution_count": null,
      "outputs": [
        {
          "output_type": "execute_result",
          "data": {
            "text/plain": [
              "{'NumberofFollowers Picture': array([0.85632528]),\n",
              " 'NumberofFollowers Video': array([0.91129804]),\n",
              " 'NumberofFollowers language': array([0.55188684]),\n",
              " 'NumberofFollowers numberOfHashtags': array([0.57973968]),\n",
              " 'NumberofFollowers numberOfTags': array([0.56629367]),\n",
              " 'NumberofFollowers numberOfURLs': array([0.66577926]),\n",
              " 'NumberofFollowers tweetage': array([0.75108461]),\n",
              " 'NumberofFollowing NumberofFollowers': array([0.60794348]),\n",
              " 'NumberofFollowing Picture': array([0.8557637]),\n",
              " 'NumberofFollowing Video': array([0.91125775]),\n",
              " 'NumberofFollowing language': array([0.50571649]),\n",
              " 'NumberofFollowing numberOfHashtags': array([0.52025655]),\n",
              " 'NumberofFollowing numberOfTags': array([0.50684281]),\n",
              " 'NumberofFollowing numberOfURLs': array([0.55431913]),\n",
              " 'NumberofFollowing tweetage': array([0.57283322]),\n",
              " 'NumberofTweets NumberofFollowers': array([0.91996296]),\n",
              " 'NumberofTweets NumberofFollowing': array([0.56520993]),\n",
              " 'NumberofTweets Picture': array([0.85576277]),\n",
              " 'NumberofTweets Video': array([0.9120549]),\n",
              " 'NumberofTweets language': array([0.54140144]),\n",
              " 'NumberofTweets numberOfHashtags': array([0.61134114]),\n",
              " 'NumberofTweets numberOfTags': array([0.52572813]),\n",
              " 'NumberofTweets numberOfURLs': array([0.62696505]),\n",
              " 'NumberofTweets tweetage': array([0.80538164]),\n",
              " 'Picture Video': array([0.6602745]),\n",
              " 'Picture language': array([0.85601297]),\n",
              " 'Picture numberOfHashtags': array([0.85761431]),\n",
              " 'Picture numberOfTags': array([0.85636793]),\n",
              " 'Picture numberOfURLs': array([0.85911687]),\n",
              " 'Picture tweetage': array([0.85599921]),\n",
              " 'Video language': array([0.91125725]),\n",
              " 'Video numberOfHashtags': array([0.91260916]),\n",
              " 'Video numberOfTags': array([0.91125949]),\n",
              " 'Video numberOfURLs': array([0.91245017]),\n",
              " 'Video tweetage': array([0.91175234]),\n",
              " 'numberOfHashtags language': array([0.5468676]),\n",
              " 'numberOfHashtags numberOfTags': array([0.52568432]),\n",
              " 'numberOfHashtags numberOfURLs': array([0.58706012]),\n",
              " 'numberOfTags language': array([0.53630144]),\n",
              " 'numberOfTags numberOfURLs': array([0.5457035]),\n",
              " 'numberOfURLs language': array([0.5607618]),\n",
              " 'tweetage language': array([0.52017036]),\n",
              " 'tweetage numberOfHashtags': array([0.59150749]),\n",
              " 'tweetage numberOfTags': array([0.53159876]),\n",
              " 'tweetage numberOfURLs': array([0.60798427])}"
            ]
          },
          "metadata": {
            "tags": []
          },
          "execution_count": 30
        }
      ]
    },
    {
      "cell_type": "markdown",
      "metadata": {
        "id": "gSDc-Be9mwV4"
      },
      "source": [
        "So basically, the Video and Picture columns are very good for preserving the information along with any other column that is not very relevant to the model, especially NumberOfTags, NumberOfHashtags, and NumberOfLinks. It is observable that the results between these three and column Video or column Picture is very close so the selection will not be on the basis of the highest explained_variance_ratio_ value, but rather will be on the basis of how closely relevant the column is to the y column where the most relevant among the will stay 'unmerged' with another column.\n",
        "Looking back to the result that we get from the mutual information score which measures the dependance between the x columns and the y column. We got this previously :\n",
        " \n",
        "                 ['numberOfHashtags' '0.08560174137269616']\n",
        "\n",
        "                 ['numberOfTags' '0.0500935962796909']\n",
        "\n",
        "                 ['numberOfURLs' '0.04733436430045623']\n",
        "\n",
        " which indicates that we will merge the NumberOfTags and NumberOfURLs columns together with the Video and Picture columns.\n",
        "\n",
        " Choosing the correspondance of the pairs is done on the basis of the explained_variance_ratio_ value; the pairs to be putten through the PCA process are :\n",
        "\n",
        "                ['Video' , 'numberOfTags']\n",
        "                \n",
        "                ['Picture' , 'numberOfURLs']\n"
      ]
    },
    {
      "cell_type": "code",
      "metadata": {
        "id": "ZKCABuX-rJH9",
        "colab": {
          "base_uri": "https://localhost:8080/"
        },
        "outputId": "cd9fcf28-2ffc-415d-ed6b-20d81e7ecc92"
      },
      "source": [
        "videotagstrain = x_train[['Video' , 'numberOfTags']]\n",
        "picurlstrain = x_train[['Picture' , 'numberOfURLs']]\n",
        "videotagstest = x_test[['Video' , 'numberOfTags']]\n",
        "picurlstest = x_test[['Picture' , 'numberOfURLs']]\n",
        "pcavtag = PCA(n_components=1)\n",
        "pcapurl = PCA(n_components=1)\n",
        "pcavtag.fit(videotagstrain)\n",
        "pcapurl.fit(picurlstrain)\n",
        "videotagstrain = pcavtag.transform(videotagstrain)\n",
        "picurlstrain = pcapurl.transform(picurlstrain)\n",
        "x_train['VideoNTags'] = 0\n",
        "x_train['PictureNURL'] = 0\n",
        "x_train['VideoNTags'] = videotagstrain.reshape(1,-1)[0]\n",
        "x_train['PictureNURL'] = picurlstrain.reshape(1,-1)[0]\n",
        "videotagstest = pcavtag.transform(videotagstest)\n",
        "picurlstest = pcapurl.transform(picurlstest)\n",
        "x_test['VideoNTags'] = 0\n",
        "x_test['PictureNURL'] = 0\n",
        "x_test['VideoNTags'] = videotagstest.reshape(1,-1)[0]\n",
        "x_test['PictureNURL'] = picurlstest.reshape(1,-1)[0]"
      ],
      "execution_count": null,
      "outputs": [
        {
          "output_type": "stream",
          "text": [
            "/usr/local/lib/python3.7/dist-packages/ipykernel_launcher.py:11: SettingWithCopyWarning: \n",
            "A value is trying to be set on a copy of a slice from a DataFrame.\n",
            "Try using .loc[row_indexer,col_indexer] = value instead\n",
            "\n",
            "See the caveats in the documentation: https://pandas.pydata.org/pandas-docs/stable/user_guide/indexing.html#returning-a-view-versus-a-copy\n",
            "  # This is added back by InteractiveShellApp.init_path()\n",
            "/usr/local/lib/python3.7/dist-packages/ipykernel_launcher.py:12: SettingWithCopyWarning: \n",
            "A value is trying to be set on a copy of a slice from a DataFrame.\n",
            "Try using .loc[row_indexer,col_indexer] = value instead\n",
            "\n",
            "See the caveats in the documentation: https://pandas.pydata.org/pandas-docs/stable/user_guide/indexing.html#returning-a-view-versus-a-copy\n",
            "  if sys.path[0] == '':\n",
            "/usr/local/lib/python3.7/dist-packages/ipykernel_launcher.py:13: SettingWithCopyWarning: \n",
            "A value is trying to be set on a copy of a slice from a DataFrame.\n",
            "Try using .loc[row_indexer,col_indexer] = value instead\n",
            "\n",
            "See the caveats in the documentation: https://pandas.pydata.org/pandas-docs/stable/user_guide/indexing.html#returning-a-view-versus-a-copy\n",
            "  del sys.path[0]\n",
            "/usr/local/lib/python3.7/dist-packages/ipykernel_launcher.py:14: SettingWithCopyWarning: \n",
            "A value is trying to be set on a copy of a slice from a DataFrame.\n",
            "Try using .loc[row_indexer,col_indexer] = value instead\n",
            "\n",
            "See the caveats in the documentation: https://pandas.pydata.org/pandas-docs/stable/user_guide/indexing.html#returning-a-view-versus-a-copy\n",
            "  \n",
            "/usr/local/lib/python3.7/dist-packages/ipykernel_launcher.py:17: SettingWithCopyWarning: \n",
            "A value is trying to be set on a copy of a slice from a DataFrame.\n",
            "Try using .loc[row_indexer,col_indexer] = value instead\n",
            "\n",
            "See the caveats in the documentation: https://pandas.pydata.org/pandas-docs/stable/user_guide/indexing.html#returning-a-view-versus-a-copy\n",
            "/usr/local/lib/python3.7/dist-packages/ipykernel_launcher.py:18: SettingWithCopyWarning: \n",
            "A value is trying to be set on a copy of a slice from a DataFrame.\n",
            "Try using .loc[row_indexer,col_indexer] = value instead\n",
            "\n",
            "See the caveats in the documentation: https://pandas.pydata.org/pandas-docs/stable/user_guide/indexing.html#returning-a-view-versus-a-copy\n",
            "/usr/local/lib/python3.7/dist-packages/ipykernel_launcher.py:19: SettingWithCopyWarning: \n",
            "A value is trying to be set on a copy of a slice from a DataFrame.\n",
            "Try using .loc[row_indexer,col_indexer] = value instead\n",
            "\n",
            "See the caveats in the documentation: https://pandas.pydata.org/pandas-docs/stable/user_guide/indexing.html#returning-a-view-versus-a-copy\n",
            "/usr/local/lib/python3.7/dist-packages/ipykernel_launcher.py:20: SettingWithCopyWarning: \n",
            "A value is trying to be set on a copy of a slice from a DataFrame.\n",
            "Try using .loc[row_indexer,col_indexer] = value instead\n",
            "\n",
            "See the caveats in the documentation: https://pandas.pydata.org/pandas-docs/stable/user_guide/indexing.html#returning-a-view-versus-a-copy\n"
          ],
          "name": "stderr"
        }
      ]
    },
    {
      "cell_type": "code",
      "metadata": {
        "id": "ZPtjpEq6xegv"
      },
      "source": [
        "x_train = x_train.drop(columns=['Video' , 'numberOfTags' , 'Picture' , 'numberOfURLs'])\n",
        "x_test = x_test.drop(columns=['Video' , 'numberOfTags' , 'Picture' , 'numberOfURLs'])"
      ],
      "execution_count": null,
      "outputs": []
    },
    {
      "cell_type": "markdown",
      "metadata": {
        "id": "LmU2M9mSC3MK"
      },
      "source": [
        "**HyperParameter tuning :**\n",
        "\n",
        "The RandomForestRegressor model will be used due to its good reoutation in finding a good estimator and the fact that it doesn't overfit easily. So a hyperparameter tuning procedure is necessary to get a good estimator"
      ]
    },
    {
      "cell_type": "code",
      "metadata": {
        "id": "wdZnr1Kk49UF"
      },
      "source": [
        "param_grid = {\n",
        "    'bootstrap': [True],\n",
        "    'max_depth': [2, 12],\n",
        "    'n_estimators': [10, 50, 70, 100]\n",
        "}\n",
        "rrf = rfr()\n",
        "grids_search = GridSearchCV(estimator = rrf, param_grid = param_grid,\n",
        "                          cv = 10, n_jobs = -1, verbose = 2)\n",
        "grids_search.fit(x_train,y_train)\n",
        "classfff = grids_search.best_estimator_\n",
        "y_preds = classfff.predict(x_test)\n",
        "y_t = y_test.apply(lambda x: 10**x)- 1\n",
        "y_preds = pd.Series(y_preds).apply(lambda x: 10**x) - 1\n",
        "vals_error = mean_absolute_error(y_t, y_preds)\n",
        "vals_error"
      ],
      "execution_count": null,
      "outputs": []
    },
    {
      "cell_type": "code",
      "metadata": {
        "id": "f7E26RsZ6rEd"
      },
      "source": [
        "(1/y_test.shape[0])*(y_test - y_preds).abs().divide(y_test + 1,fill_value=0).sum()"
      ],
      "execution_count": null,
      "outputs": []
    },
    {
      "cell_type": "code",
      "metadata": {
        "id": "sgdkOm-FaEjq"
      },
      "source": [
        "(y_train.apply(lambda x: 10**x) - 1).mean()"
      ],
      "execution_count": null,
      "outputs": []
    },
    {
      "cell_type": "code",
      "metadata": {
        "id": "AM4mrrHRaXFs"
      },
      "source": [
        "y_test.median()"
      ],
      "execution_count": null,
      "outputs": []
    },
    {
      "cell_type": "code",
      "metadata": {
        "colab": {
          "base_uri": "https://localhost:8080/"
        },
        "id": "m20LwL4Sah5a",
        "outputId": "9ece76d7-ceb8-45fd-a365-7d4a1df225b4"
      },
      "source": [
        "dff[dff.NumberOfRetweets < 100].shape"
      ],
      "execution_count": null,
      "outputs": [
        {
          "output_type": "execute_result",
          "data": {
            "text/plain": [
              "(3066, 13)"
            ]
          },
          "metadata": {
            "tags": []
          },
          "execution_count": 38
        }
      ]
    },
    {
      "cell_type": "code",
      "metadata": {
        "id": "HVoGs5Z91JVO",
        "colab": {
          "base_uri": "https://localhost:8080/",
          "height": 493
        },
        "outputId": "cf64e55a-7bc1-4602-a34c-b3b0d0509157"
      },
      "source": [
        "param_grid = {'bootstrap': [True],\n",
        " 'criterion': ['mse'],\n",
        " 'max_depth': [2, 12],\n",
        " 'n_estimators': [100, 200, 300, 1000],\n",
        " 'max_features': [3 , 5 , 10],\n",
        " 'min_samples_leaf': [3, 4, 5],\n",
        " 'min_samples_split': [8, 10, 12],\n",
        " 'max_leaf_nodes': [None],\n",
        " 'min_impurity_decrease': [0.0],\n",
        " 'min_impurity_split': [None],\n",
        " 'min_weight_fraction_leaf': [0.0],\n",
        " 'oob_score': [False],\n",
        " 'random_state': [42],\n",
        " 'warm_start': [True,False],\n",
        " }\n",
        "rrf = rfr()\n",
        "grids_search = GridSearchCV(estimator = rrf, param_grid = param_grid,\n",
        "                          cv = 10, n_jobs = -1, verbose = 2)\n",
        "grids_search.fit(x_train,y_train)\n",
        "classfff = grids_search.best_estimator_\n",
        "y_t = y_test.apply(lambda x: 10**x)- 1\n",
        "y_preds = classfff.predict(x_test)\n",
        "vals_error = mean_absolute_error(y_t, y_preds)\n",
        "vals_error"
      ],
      "execution_count": null,
      "outputs": [
        {
          "output_type": "stream",
          "text": [
            "Fitting 10 folds for each of 432 candidates, totalling 4320 fits\n"
          ],
          "name": "stdout"
        },
        {
          "output_type": "stream",
          "text": [
            "[Parallel(n_jobs=-1)]: Using backend LokyBackend with 2 concurrent workers.\n",
            "[Parallel(n_jobs=-1)]: Done  37 tasks      | elapsed:    9.7s\n",
            "[Parallel(n_jobs=-1)]: Done 158 tasks      | elapsed:  1.5min\n",
            "[Parallel(n_jobs=-1)]: Done 361 tasks      | elapsed:  3.2min\n",
            "[Parallel(n_jobs=-1)]: Done 644 tasks      | elapsed:  6.1min\n",
            "[Parallel(n_jobs=-1)]: Done 1009 tasks      | elapsed:  9.7min\n"
          ],
          "name": "stderr"
        },
        {
          "output_type": "error",
          "ename": "KeyboardInterrupt",
          "evalue": "ignored",
          "traceback": [
            "\u001b[0;31m---------------------------------------------------------------------------\u001b[0m",
            "\u001b[0;31mKeyboardInterrupt\u001b[0m                         Traceback (most recent call last)",
            "\u001b[0;32m<ipython-input-38-174dc4c91cdc>\u001b[0m in \u001b[0;36m<module>\u001b[0;34m()\u001b[0m\n\u001b[1;32m     17\u001b[0m grids_search = GridSearchCV(estimator = rrf, param_grid = param_grid,\n\u001b[1;32m     18\u001b[0m                           cv = 10, n_jobs = -1, verbose = 2)\n\u001b[0;32m---> 19\u001b[0;31m \u001b[0mgrids_search\u001b[0m\u001b[0;34m.\u001b[0m\u001b[0mfit\u001b[0m\u001b[0;34m(\u001b[0m\u001b[0mx_train\u001b[0m\u001b[0;34m,\u001b[0m\u001b[0my_train\u001b[0m\u001b[0;34m)\u001b[0m\u001b[0;34m\u001b[0m\u001b[0;34m\u001b[0m\u001b[0m\n\u001b[0m\u001b[1;32m     20\u001b[0m \u001b[0mclassfff\u001b[0m \u001b[0;34m=\u001b[0m \u001b[0mgrids_search\u001b[0m\u001b[0;34m.\u001b[0m\u001b[0mbest_estimator_\u001b[0m\u001b[0;34m\u001b[0m\u001b[0;34m\u001b[0m\u001b[0m\n\u001b[1;32m     21\u001b[0m \u001b[0my_t\u001b[0m \u001b[0;34m=\u001b[0m \u001b[0my_test\u001b[0m\u001b[0;34m.\u001b[0m\u001b[0mapply\u001b[0m\u001b[0;34m(\u001b[0m\u001b[0;32mlambda\u001b[0m \u001b[0mx\u001b[0m\u001b[0;34m:\u001b[0m \u001b[0;36m10\u001b[0m\u001b[0;34m**\u001b[0m\u001b[0mx\u001b[0m\u001b[0;34m)\u001b[0m\u001b[0;34m-\u001b[0m \u001b[0;36m1\u001b[0m\u001b[0;34m\u001b[0m\u001b[0;34m\u001b[0m\u001b[0m\n",
            "\u001b[0;32m/usr/local/lib/python3.7/dist-packages/sklearn/model_selection/_search.py\u001b[0m in \u001b[0;36mfit\u001b[0;34m(self, X, y, groups, **fit_params)\u001b[0m\n\u001b[1;32m    708\u001b[0m                 \u001b[0;32mreturn\u001b[0m \u001b[0mresults\u001b[0m\u001b[0;34m\u001b[0m\u001b[0;34m\u001b[0m\u001b[0m\n\u001b[1;32m    709\u001b[0m \u001b[0;34m\u001b[0m\u001b[0m\n\u001b[0;32m--> 710\u001b[0;31m             \u001b[0mself\u001b[0m\u001b[0;34m.\u001b[0m\u001b[0m_run_search\u001b[0m\u001b[0;34m(\u001b[0m\u001b[0mevaluate_candidates\u001b[0m\u001b[0;34m)\u001b[0m\u001b[0;34m\u001b[0m\u001b[0;34m\u001b[0m\u001b[0m\n\u001b[0m\u001b[1;32m    711\u001b[0m \u001b[0;34m\u001b[0m\u001b[0m\n\u001b[1;32m    712\u001b[0m         \u001b[0;31m# For multi-metric evaluation, store the best_index_, best_params_ and\u001b[0m\u001b[0;34m\u001b[0m\u001b[0;34m\u001b[0m\u001b[0;34m\u001b[0m\u001b[0m\n",
            "\u001b[0;32m/usr/local/lib/python3.7/dist-packages/sklearn/model_selection/_search.py\u001b[0m in \u001b[0;36m_run_search\u001b[0;34m(self, evaluate_candidates)\u001b[0m\n\u001b[1;32m   1149\u001b[0m     \u001b[0;32mdef\u001b[0m \u001b[0m_run_search\u001b[0m\u001b[0;34m(\u001b[0m\u001b[0mself\u001b[0m\u001b[0;34m,\u001b[0m \u001b[0mevaluate_candidates\u001b[0m\u001b[0;34m)\u001b[0m\u001b[0;34m:\u001b[0m\u001b[0;34m\u001b[0m\u001b[0;34m\u001b[0m\u001b[0m\n\u001b[1;32m   1150\u001b[0m         \u001b[0;34m\"\"\"Search all candidates in param_grid\"\"\"\u001b[0m\u001b[0;34m\u001b[0m\u001b[0;34m\u001b[0m\u001b[0m\n\u001b[0;32m-> 1151\u001b[0;31m         \u001b[0mevaluate_candidates\u001b[0m\u001b[0;34m(\u001b[0m\u001b[0mParameterGrid\u001b[0m\u001b[0;34m(\u001b[0m\u001b[0mself\u001b[0m\u001b[0;34m.\u001b[0m\u001b[0mparam_grid\u001b[0m\u001b[0;34m)\u001b[0m\u001b[0;34m)\u001b[0m\u001b[0;34m\u001b[0m\u001b[0;34m\u001b[0m\u001b[0m\n\u001b[0m\u001b[1;32m   1152\u001b[0m \u001b[0;34m\u001b[0m\u001b[0m\n\u001b[1;32m   1153\u001b[0m \u001b[0;34m\u001b[0m\u001b[0m\n",
            "\u001b[0;32m/usr/local/lib/python3.7/dist-packages/sklearn/model_selection/_search.py\u001b[0m in \u001b[0;36mevaluate_candidates\u001b[0;34m(candidate_params)\u001b[0m\n\u001b[1;32m    687\u001b[0m                                \u001b[0;32mfor\u001b[0m \u001b[0mparameters\u001b[0m\u001b[0;34m,\u001b[0m \u001b[0;34m(\u001b[0m\u001b[0mtrain\u001b[0m\u001b[0;34m,\u001b[0m \u001b[0mtest\u001b[0m\u001b[0;34m)\u001b[0m\u001b[0;34m\u001b[0m\u001b[0;34m\u001b[0m\u001b[0m\n\u001b[1;32m    688\u001b[0m                                in product(candidate_params,\n\u001b[0;32m--> 689\u001b[0;31m                                           cv.split(X, y, groups)))\n\u001b[0m\u001b[1;32m    690\u001b[0m \u001b[0;34m\u001b[0m\u001b[0m\n\u001b[1;32m    691\u001b[0m                 \u001b[0;32mif\u001b[0m \u001b[0mlen\u001b[0m\u001b[0;34m(\u001b[0m\u001b[0mout\u001b[0m\u001b[0;34m)\u001b[0m \u001b[0;34m<\u001b[0m \u001b[0;36m1\u001b[0m\u001b[0;34m:\u001b[0m\u001b[0;34m\u001b[0m\u001b[0;34m\u001b[0m\u001b[0m\n",
            "\u001b[0;32m/usr/local/lib/python3.7/dist-packages/joblib/parallel.py\u001b[0m in \u001b[0;36m__call__\u001b[0;34m(self, iterable)\u001b[0m\n\u001b[1;32m   1052\u001b[0m \u001b[0;34m\u001b[0m\u001b[0m\n\u001b[1;32m   1053\u001b[0m             \u001b[0;32mwith\u001b[0m \u001b[0mself\u001b[0m\u001b[0;34m.\u001b[0m\u001b[0m_backend\u001b[0m\u001b[0;34m.\u001b[0m\u001b[0mretrieval_context\u001b[0m\u001b[0;34m(\u001b[0m\u001b[0;34m)\u001b[0m\u001b[0;34m:\u001b[0m\u001b[0;34m\u001b[0m\u001b[0;34m\u001b[0m\u001b[0m\n\u001b[0;32m-> 1054\u001b[0;31m                 \u001b[0mself\u001b[0m\u001b[0;34m.\u001b[0m\u001b[0mretrieve\u001b[0m\u001b[0;34m(\u001b[0m\u001b[0;34m)\u001b[0m\u001b[0;34m\u001b[0m\u001b[0;34m\u001b[0m\u001b[0m\n\u001b[0m\u001b[1;32m   1055\u001b[0m             \u001b[0;31m# Make sure that we get a last message telling us we are done\u001b[0m\u001b[0;34m\u001b[0m\u001b[0;34m\u001b[0m\u001b[0;34m\u001b[0m\u001b[0m\n\u001b[1;32m   1056\u001b[0m             \u001b[0melapsed_time\u001b[0m \u001b[0;34m=\u001b[0m \u001b[0mtime\u001b[0m\u001b[0;34m.\u001b[0m\u001b[0mtime\u001b[0m\u001b[0;34m(\u001b[0m\u001b[0;34m)\u001b[0m \u001b[0;34m-\u001b[0m \u001b[0mself\u001b[0m\u001b[0;34m.\u001b[0m\u001b[0m_start_time\u001b[0m\u001b[0;34m\u001b[0m\u001b[0;34m\u001b[0m\u001b[0m\n",
            "\u001b[0;32m/usr/local/lib/python3.7/dist-packages/joblib/parallel.py\u001b[0m in \u001b[0;36mretrieve\u001b[0;34m(self)\u001b[0m\n\u001b[1;32m    931\u001b[0m             \u001b[0;32mtry\u001b[0m\u001b[0;34m:\u001b[0m\u001b[0;34m\u001b[0m\u001b[0;34m\u001b[0m\u001b[0m\n\u001b[1;32m    932\u001b[0m                 \u001b[0;32mif\u001b[0m \u001b[0mgetattr\u001b[0m\u001b[0;34m(\u001b[0m\u001b[0mself\u001b[0m\u001b[0;34m.\u001b[0m\u001b[0m_backend\u001b[0m\u001b[0;34m,\u001b[0m \u001b[0;34m'supports_timeout'\u001b[0m\u001b[0;34m,\u001b[0m \u001b[0;32mFalse\u001b[0m\u001b[0;34m)\u001b[0m\u001b[0;34m:\u001b[0m\u001b[0;34m\u001b[0m\u001b[0;34m\u001b[0m\u001b[0m\n\u001b[0;32m--> 933\u001b[0;31m                     \u001b[0mself\u001b[0m\u001b[0;34m.\u001b[0m\u001b[0m_output\u001b[0m\u001b[0;34m.\u001b[0m\u001b[0mextend\u001b[0m\u001b[0;34m(\u001b[0m\u001b[0mjob\u001b[0m\u001b[0;34m.\u001b[0m\u001b[0mget\u001b[0m\u001b[0;34m(\u001b[0m\u001b[0mtimeout\u001b[0m\u001b[0;34m=\u001b[0m\u001b[0mself\u001b[0m\u001b[0;34m.\u001b[0m\u001b[0mtimeout\u001b[0m\u001b[0;34m)\u001b[0m\u001b[0;34m)\u001b[0m\u001b[0;34m\u001b[0m\u001b[0;34m\u001b[0m\u001b[0m\n\u001b[0m\u001b[1;32m    934\u001b[0m                 \u001b[0;32melse\u001b[0m\u001b[0;34m:\u001b[0m\u001b[0;34m\u001b[0m\u001b[0;34m\u001b[0m\u001b[0m\n\u001b[1;32m    935\u001b[0m                     \u001b[0mself\u001b[0m\u001b[0;34m.\u001b[0m\u001b[0m_output\u001b[0m\u001b[0;34m.\u001b[0m\u001b[0mextend\u001b[0m\u001b[0;34m(\u001b[0m\u001b[0mjob\u001b[0m\u001b[0;34m.\u001b[0m\u001b[0mget\u001b[0m\u001b[0;34m(\u001b[0m\u001b[0;34m)\u001b[0m\u001b[0;34m)\u001b[0m\u001b[0;34m\u001b[0m\u001b[0;34m\u001b[0m\u001b[0m\n",
            "\u001b[0;32m/usr/local/lib/python3.7/dist-packages/joblib/_parallel_backends.py\u001b[0m in \u001b[0;36mwrap_future_result\u001b[0;34m(future, timeout)\u001b[0m\n\u001b[1;32m    540\u001b[0m         AsyncResults.get from multiprocessing.\"\"\"\n\u001b[1;32m    541\u001b[0m         \u001b[0;32mtry\u001b[0m\u001b[0;34m:\u001b[0m\u001b[0;34m\u001b[0m\u001b[0;34m\u001b[0m\u001b[0m\n\u001b[0;32m--> 542\u001b[0;31m             \u001b[0;32mreturn\u001b[0m \u001b[0mfuture\u001b[0m\u001b[0;34m.\u001b[0m\u001b[0mresult\u001b[0m\u001b[0;34m(\u001b[0m\u001b[0mtimeout\u001b[0m\u001b[0;34m=\u001b[0m\u001b[0mtimeout\u001b[0m\u001b[0;34m)\u001b[0m\u001b[0;34m\u001b[0m\u001b[0;34m\u001b[0m\u001b[0m\n\u001b[0m\u001b[1;32m    543\u001b[0m         \u001b[0;32mexcept\u001b[0m \u001b[0mCfTimeoutError\u001b[0m \u001b[0;32mas\u001b[0m \u001b[0me\u001b[0m\u001b[0;34m:\u001b[0m\u001b[0;34m\u001b[0m\u001b[0;34m\u001b[0m\u001b[0m\n\u001b[1;32m    544\u001b[0m             \u001b[0;32mraise\u001b[0m \u001b[0mTimeoutError\u001b[0m \u001b[0;32mfrom\u001b[0m \u001b[0me\u001b[0m\u001b[0;34m\u001b[0m\u001b[0;34m\u001b[0m\u001b[0m\n",
            "\u001b[0;32m/usr/lib/python3.7/concurrent/futures/_base.py\u001b[0m in \u001b[0;36mresult\u001b[0;34m(self, timeout)\u001b[0m\n\u001b[1;32m    428\u001b[0m                 \u001b[0;32mreturn\u001b[0m \u001b[0mself\u001b[0m\u001b[0;34m.\u001b[0m\u001b[0m__get_result\u001b[0m\u001b[0;34m(\u001b[0m\u001b[0;34m)\u001b[0m\u001b[0;34m\u001b[0m\u001b[0;34m\u001b[0m\u001b[0m\n\u001b[1;32m    429\u001b[0m \u001b[0;34m\u001b[0m\u001b[0m\n\u001b[0;32m--> 430\u001b[0;31m             \u001b[0mself\u001b[0m\u001b[0;34m.\u001b[0m\u001b[0m_condition\u001b[0m\u001b[0;34m.\u001b[0m\u001b[0mwait\u001b[0m\u001b[0;34m(\u001b[0m\u001b[0mtimeout\u001b[0m\u001b[0;34m)\u001b[0m\u001b[0;34m\u001b[0m\u001b[0;34m\u001b[0m\u001b[0m\n\u001b[0m\u001b[1;32m    431\u001b[0m \u001b[0;34m\u001b[0m\u001b[0m\n\u001b[1;32m    432\u001b[0m             \u001b[0;32mif\u001b[0m \u001b[0mself\u001b[0m\u001b[0;34m.\u001b[0m\u001b[0m_state\u001b[0m \u001b[0;32min\u001b[0m \u001b[0;34m[\u001b[0m\u001b[0mCANCELLED\u001b[0m\u001b[0;34m,\u001b[0m \u001b[0mCANCELLED_AND_NOTIFIED\u001b[0m\u001b[0;34m]\u001b[0m\u001b[0;34m:\u001b[0m\u001b[0;34m\u001b[0m\u001b[0;34m\u001b[0m\u001b[0m\n",
            "\u001b[0;32m/usr/lib/python3.7/threading.py\u001b[0m in \u001b[0;36mwait\u001b[0;34m(self, timeout)\u001b[0m\n\u001b[1;32m    294\u001b[0m         \u001b[0;32mtry\u001b[0m\u001b[0;34m:\u001b[0m    \u001b[0;31m# restore state no matter what (e.g., KeyboardInterrupt)\u001b[0m\u001b[0;34m\u001b[0m\u001b[0;34m\u001b[0m\u001b[0m\n\u001b[1;32m    295\u001b[0m             \u001b[0;32mif\u001b[0m \u001b[0mtimeout\u001b[0m \u001b[0;32mis\u001b[0m \u001b[0;32mNone\u001b[0m\u001b[0;34m:\u001b[0m\u001b[0;34m\u001b[0m\u001b[0;34m\u001b[0m\u001b[0m\n\u001b[0;32m--> 296\u001b[0;31m                 \u001b[0mwaiter\u001b[0m\u001b[0;34m.\u001b[0m\u001b[0macquire\u001b[0m\u001b[0;34m(\u001b[0m\u001b[0;34m)\u001b[0m\u001b[0;34m\u001b[0m\u001b[0;34m\u001b[0m\u001b[0m\n\u001b[0m\u001b[1;32m    297\u001b[0m                 \u001b[0mgotit\u001b[0m \u001b[0;34m=\u001b[0m \u001b[0;32mTrue\u001b[0m\u001b[0;34m\u001b[0m\u001b[0;34m\u001b[0m\u001b[0m\n\u001b[1;32m    298\u001b[0m             \u001b[0;32melse\u001b[0m\u001b[0;34m:\u001b[0m\u001b[0;34m\u001b[0m\u001b[0;34m\u001b[0m\u001b[0m\n",
            "\u001b[0;31mKeyboardInterrupt\u001b[0m: "
          ]
        }
      ]
    },
    {
      "cell_type": "code",
      "metadata": {
        "id": "vtQYhS_Jy65c"
      },
      "source": [
        "xtrain = x_train.drop(columns=['language'])\n",
        "xtest = x_test.drop(columns=['language'])"
      ],
      "execution_count": null,
      "outputs": []
    },
    {
      "cell_type": "code",
      "metadata": {
        "colab": {
          "base_uri": "https://localhost:8080/"
        },
        "id": "qJByaCVTmiow",
        "outputId": "d1a6b932-85db-421b-a15e-d60bb10c8d75"
      },
      "source": [
        "param_tuning = {\n",
        "        'max_depth': [12],\n",
        "        'min_child_weight': [1],\n",
        "        'subsample': [0.7],\n",
        "        'colsample_bytree': [0.7],\n",
        "        'n_estimators' : [2000],\n",
        "        'objective': ['reg:squarederror']\n",
        "}\n",
        "\n",
        "xgb_model = XGBRegressor()\n",
        "\n",
        "gsearch = GridSearchCV(estimator = xgb_model,\n",
        "                           param_grid = param_tuning,                        \n",
        "                           scoring = 'neg_median_absolute_error',\n",
        "                           cv = 20,\n",
        "                           n_jobs = -1,\n",
        "                           verbose = 1)\n",
        "\n",
        "gsearch.fit(x_train,y_train)\n"
      ],
      "execution_count": null,
      "outputs": [
        {
          "output_type": "stream",
          "text": [
            "Fitting 20 folds for each of 1 candidates, totalling 20 fits\n"
          ],
          "name": "stdout"
        },
        {
          "output_type": "stream",
          "text": [
            "[Parallel(n_jobs=-1)]: Using backend LokyBackend with 2 concurrent workers.\n",
            "[Parallel(n_jobs=-1)]: Done  20 out of  20 | elapsed:  2.3min finished\n"
          ],
          "name": "stderr"
        },
        {
          "output_type": "execute_result",
          "data": {
            "text/plain": [
              "GridSearchCV(cv=20, error_score=nan,\n",
              "             estimator=XGBRegressor(base_score=0.5, booster='gbtree',\n",
              "                                    colsample_bylevel=1, colsample_bynode=1,\n",
              "                                    colsample_bytree=1, gamma=0,\n",
              "                                    importance_type='gain', learning_rate=0.1,\n",
              "                                    max_delta_step=0, max_depth=3,\n",
              "                                    min_child_weight=1, missing=None,\n",
              "                                    n_estimators=100, n_jobs=1, nthread=None,\n",
              "                                    objective='reg:linear', random_state=0,\n",
              "                                    reg_alpha=0, reg...\n",
              "                                    scale_pos_weight=1, seed=None, silent=None,\n",
              "                                    subsample=1, verbosity=1),\n",
              "             iid='deprecated', n_jobs=-1,\n",
              "             param_grid={'colsample_bytree': [0.7], 'max_depth': [12],\n",
              "                         'min_child_weight': [1], 'n_estimators': [2000],\n",
              "                         'objective': ['reg:squarederror'],\n",
              "                         'subsample': [0.7]},\n",
              "             pre_dispatch='2*n_jobs', refit=True, return_train_score=False,\n",
              "             scoring='neg_median_absolute_error', verbose=1)"
            ]
          },
          "metadata": {
            "tags": []
          },
          "execution_count": 33
        }
      ]
    },
    {
      "cell_type": "code",
      "metadata": {
        "colab": {
          "base_uri": "https://localhost:8080/"
        },
        "id": "r39uDZpYmy7M",
        "outputId": "4ed454c2-b4f3-4e10-c5a8-6ab4a6937533"
      },
      "source": [
        "bst = gsearch.best_estimator_\n",
        "bst.fit(x_train,y_train)"
      ],
      "execution_count": null,
      "outputs": [
        {
          "output_type": "execute_result",
          "data": {
            "text/plain": [
              "XGBRegressor(base_score=0.5, booster='gbtree', colsample_bylevel=1,\n",
              "             colsample_bynode=1, colsample_bytree=0.7, gamma=0,\n",
              "             importance_type='gain', learning_rate=0.1, max_delta_step=0,\n",
              "             max_depth=12, min_child_weight=1, missing=None, n_estimators=2000,\n",
              "             n_jobs=1, nthread=None, objective='reg:squarederror',\n",
              "             random_state=0, reg_alpha=0, reg_lambda=1, scale_pos_weight=1,\n",
              "             seed=None, silent=None, subsample=0.7, verbosity=1)"
            ]
          },
          "metadata": {
            "tags": []
          },
          "execution_count": 34
        }
      ]
    },
    {
      "cell_type": "code",
      "metadata": {
        "id": "QrBQL1D6jOEh"
      },
      "source": [
        "bst.save_model(\"retweetmodel.bin\")\n",
        "model_xgb_2 = xgb.Booster()\n",
        "model_xgb_2.load_model(\"retweetmodel.bin\")"
      ],
      "execution_count": null,
      "outputs": []
    },
    {
      "cell_type": "code",
      "metadata": {
        "id": "ZG6ArwQ_s2hR"
      },
      "source": [
        "y_pr = pd.Series(bst.predict(x_test))"
      ],
      "execution_count": null,
      "outputs": []
    },
    {
      "cell_type": "code",
      "metadata": {
        "id": "Qxh0PcE9m8EX"
      },
      "source": [
        "y_pr = pd.Series(bst.predict(x_test)).apply(lambda x : 10**x) - 1"
      ],
      "execution_count": null,
      "outputs": []
    },
    {
      "cell_type": "code",
      "metadata": {
        "id": "zeZA0YS9pg9W"
      },
      "source": [
        "y_t = y_test.apply(lambda x : 10**x) - 1"
      ],
      "execution_count": null,
      "outputs": []
    },
    {
      "cell_type": "code",
      "metadata": {
        "colab": {
          "base_uri": "https://localhost:8080/"
        },
        "id": "Mr9TmavonRXo",
        "outputId": "8e1aa0a6-d08a-4d95-84f9-c14d247efb5c"
      },
      "source": [
        "mean_absolute_error(y_t, y_pr)"
      ],
      "execution_count": null,
      "outputs": [
        {
          "output_type": "execute_result",
          "data": {
            "text/plain": [
              "7.241505034316807"
            ]
          },
          "metadata": {
            "tags": []
          },
          "execution_count": 44
        }
      ]
    },
    {
      "cell_type": "code",
      "metadata": {
        "id": "P4Y8vEOJ6CsU"
      },
      "source": [
        "p = [y_t.reset_index().drop(columns=['index']),y_pr.astype('int64')]\n",
        "pd.concat(p,axis=1).head(60)"
      ],
      "execution_count": null,
      "outputs": []
    },
    {
      "cell_type": "code",
      "metadata": {
        "colab": {
          "base_uri": "https://localhost:8080/"
        },
        "id": "m-lhNbB-trI0",
        "outputId": "b7db1df1-8ac2-4f79-fe62-b3bc29807884"
      },
      "source": [
        "(1/y_t.shape[0])*(y_t - y_pr).abs().divide(y_t + 1,fill_value=0).sum()"
      ],
      "execution_count": null,
      "outputs": [
        {
          "output_type": "execute_result",
          "data": {
            "text/plain": [
              "0.3444575189575136"
            ]
          },
          "metadata": {
            "tags": []
          },
          "execution_count": 46
        }
      ]
    },
    {
      "cell_type": "markdown",
      "metadata": {
        "id": "dbSkWig1D0E8"
      },
      "source": [
        "Saving the model :\n",
        "\n",
        "So for saving the model, it should be done"
      ]
    },
    {
      "cell_type": "code",
      "metadata": {
        "id": "Vpi_-lexDK9H"
      },
      "source": [
        "import joblib\n",
        "filename = 'examplemodel.sav'\n",
        "joblib.dump(bst, filename)\n",
        "loaded_model = joblib.load(filename)"
      ],
      "execution_count": null,
      "outputs": []
    },
    {
      "cell_type": "code",
      "metadata": {
        "id": "X9QcDKQeDFTx"
      },
      "source": [
        "import pickle\n",
        "with open('exemplemodel.pkl', 'wb') as pkl:\n",
        "    pickle.dump(bst, pkl)\n",
        "with open('exemplemodel.pkl', 'rb') as pkl:\n",
        "    pickle_preds = pickle.load(pkl)"
      ],
      "execution_count": null,
      "outputs": []
    },
    {
      "cell_type": "code",
      "metadata": {
        "id": "rEvw8Iqdh3k8"
      },
      "source": [
        "import joblib\n",
        "filename = 'Scaler.sav'\n",
        "joblib.dump(Scaler, filename)\n",
        "loaded_model = joblib.load(filename)"
      ],
      "execution_count": null,
      "outputs": []
    },
    {
      "cell_type": "code",
      "metadata": {
        "id": "RAkfx8zNhNAU"
      },
      "source": [
        "import pickle\n",
        "with open('Scaler.pkl', 'wb') as pkl:\n",
        "    pickle.dump(Scaler, pkl)\n",
        "with open('Scaler.pkl', 'rb') as pkl:\n",
        "    pickle_preds = pickle.load(pkl)"
      ],
      "execution_count": null,
      "outputs": []
    },
    {
      "cell_type": "code",
      "metadata": {
        "id": "6npAHALkh2wO"
      },
      "source": [
        "import joblib\n",
        "filename = 'Encoder.sav'\n",
        "joblib.dump(bst, filename)\n",
        "loaded_model = joblib.load(filename)"
      ],
      "execution_count": null,
      "outputs": []
    },
    {
      "cell_type": "code",
      "metadata": {
        "id": "3ivdaowIhOdg"
      },
      "source": [
        "import pickle\n",
        "with open('Encoder.pkl', 'wb') as pkl:\n",
        "    pickle.dump(Encoder, pkl)\n",
        "with open('Encoder.pkl', 'rb') as pkl:\n",
        "    pickle_preds = pickle.load(pkl)"
      ],
      "execution_count": null,
      "outputs": []
    },
    {
      "cell_type": "code",
      "metadata": {
        "id": "_hPxD6A0h3I5"
      },
      "source": [
        "import joblib\n",
        "filename = 'pcavtag.sav'\n",
        "joblib.dump(bst, filename)\n",
        "loaded_model = joblib.load(filename)"
      ],
      "execution_count": null,
      "outputs": []
    },
    {
      "cell_type": "code",
      "metadata": {
        "id": "fqF4RxEzhPEK"
      },
      "source": [
        "import pickle\n",
        "with open('pcavtag.pkl', 'wb') as pkl:\n",
        "    pickle.dump(pcavtag, pkl)\n",
        "with open('pcavtag.pkl', 'rb') as pkl:\n",
        "    pickle_preds = pickle.load(pkl)"
      ],
      "execution_count": null,
      "outputs": []
    },
    {
      "cell_type": "code",
      "metadata": {
        "id": "5MwO9gKSiBbp"
      },
      "source": [
        "import joblib\n",
        "filename = 'pcapurl.sav'\n",
        "joblib.dump(bst, filename)\n",
        "loaded_model = joblib.load(filename)"
      ],
      "execution_count": null,
      "outputs": []
    },
    {
      "cell_type": "code",
      "metadata": {
        "id": "ZW9rnkVAplwh",
        "colab": {
          "base_uri": "https://localhost:8080/"
        },
        "outputId": "13e73ced-29b2-4b1e-c2e6-7c6d5dc5fe68"
      },
      "source": [
        "!pip list"
      ],
      "execution_count": null,
      "outputs": [
        {
          "output_type": "stream",
          "text": [
            "Package                       Version\n",
            "----------------------------- -------------------\n",
            "absl-py                       0.12.0\n",
            "alabaster                     0.7.12\n",
            "albumentations                0.1.12\n",
            "altair                        4.1.0\n",
            "appdirs                       1.4.4\n",
            "argon2-cffi                   20.1.0\n",
            "arviz                         0.11.2\n",
            "astor                         0.8.1\n",
            "astropy                       4.2.1\n",
            "astunparse                    1.6.3\n",
            "async-generator               1.10\n",
            "atari-py                      0.2.9\n",
            "atomicwrites                  1.4.0\n",
            "attrs                         21.2.0\n",
            "audioread                     2.1.9\n",
            "autograd                      1.3\n",
            "Babel                         2.9.1\n",
            "backcall                      0.2.0\n",
            "beautifulsoup4                4.6.3\n",
            "bleach                        3.3.0\n",
            "blis                          0.4.1\n",
            "bokeh                         2.3.3\n",
            "Bottleneck                    1.3.2\n",
            "branca                        0.4.2\n",
            "bs4                           0.0.1\n",
            "CacheControl                  0.12.6\n",
            "cached-property               1.5.2\n",
            "cachetools                    4.2.2\n",
            "catalogue                     1.0.0\n",
            "certifi                       2021.5.30\n",
            "cffi                          1.14.6\n",
            "cftime                        1.5.0\n",
            "chardet                       3.0.4\n",
            "charset-normalizer            2.0.2\n",
            "click                         7.1.2\n",
            "cloudpickle                   1.3.0\n",
            "cmake                         3.12.0\n",
            "cmdstanpy                     0.9.5\n",
            "colorcet                      2.0.6\n",
            "colorlover                    0.3.0\n",
            "community                     1.0.0b1\n",
            "contextlib2                   0.5.5\n",
            "convertdate                   2.3.2\n",
            "coverage                      3.7.1\n",
            "coveralls                     0.5\n",
            "crcmod                        1.7\n",
            "cufflinks                     0.17.3\n",
            "cvxopt                        1.2.6\n",
            "cvxpy                         1.0.31\n",
            "cycler                        0.10.0\n",
            "cymem                         2.0.5\n",
            "Cython                        0.29.23\n",
            "daft                          0.0.4\n",
            "dask                          2.12.0\n",
            "datascience                   0.10.6\n",
            "debugpy                       1.0.0\n",
            "decorator                     4.4.2\n",
            "defusedxml                    0.7.1\n",
            "descartes                     1.1.0\n",
            "dill                          0.3.4\n",
            "distributed                   1.25.3\n",
            "dlib                          19.18.0\n",
            "dm-tree                       0.1.6\n",
            "docopt                        0.6.2\n",
            "docutils                      0.17.1\n",
            "dopamine-rl                   1.0.5\n",
            "earthengine-api               0.1.272\n",
            "easydict                      1.9\n",
            "ecos                          2.0.7.post1\n",
            "editdistance                  0.5.3\n",
            "en-core-web-sm                2.2.5\n",
            "entrypoints                   0.3\n",
            "ephem                         4.0.0.2\n",
            "et-xmlfile                    1.1.0\n",
            "fa2                           0.3.5\n",
            "fastai                        1.0.61\n",
            "fastdtw                       0.3.4\n",
            "fastprogress                  1.0.0\n",
            "fastrlock                     0.6\n",
            "fbprophet                     0.7.1\n",
            "feather-format                0.4.1\n",
            "filelock                      3.0.12\n",
            "firebase-admin                4.4.0\n",
            "fix-yahoo-finance             0.0.22\n",
            "Flask                         1.1.4\n",
            "flatbuffers                   1.12\n",
            "folium                        0.8.3\n",
            "future                        0.16.0\n",
            "gast                          0.4.0\n",
            "GDAL                          2.2.2\n",
            "gdown                         3.6.4\n",
            "gensim                        3.6.0\n",
            "geographiclib                 1.52\n",
            "geopy                         1.17.0\n",
            "gin-config                    0.4.0\n",
            "glob2                         0.7\n",
            "google                        2.0.3\n",
            "google-api-core               1.26.3\n",
            "google-api-python-client      1.12.8\n",
            "google-auth                   1.32.1\n",
            "google-auth-httplib2          0.0.4\n",
            "google-auth-oauthlib          0.4.4\n",
            "google-cloud-bigquery         1.21.0\n",
            "google-cloud-bigquery-storage 1.1.0\n",
            "google-cloud-core             1.0.3\n",
            "google-cloud-datastore        1.8.0\n",
            "google-cloud-firestore        1.7.0\n",
            "google-cloud-language         1.2.0\n",
            "google-cloud-storage          1.18.1\n",
            "google-cloud-translate        1.5.0\n",
            "google-colab                  1.0.0\n",
            "google-pasta                  0.2.0\n",
            "google-resumable-media        0.4.1\n",
            "googleapis-common-protos      1.53.0\n",
            "googledrivedownloader         0.4\n",
            "graphviz                      0.10.1\n",
            "greenlet                      1.1.0\n",
            "grpcio                        1.34.1\n",
            "gspread                       3.0.1\n",
            "gspread-dataframe             3.0.8\n",
            "gym                           0.17.3\n",
            "h5py                          3.1.0\n",
            "HeapDict                      1.0.1\n",
            "hijri-converter               2.1.3\n",
            "holidays                      0.10.5.2\n",
            "holoviews                     1.14.4\n",
            "html5lib                      1.0.1\n",
            "httpimport                    0.5.18\n",
            "httplib2                      0.17.4\n",
            "httplib2shim                  0.0.3\n",
            "humanize                      0.5.1\n",
            "hyperopt                      0.1.2\n",
            "ideep4py                      2.0.0.post3\n",
            "idna                          2.10\n",
            "imageio                       2.4.1\n",
            "imagesize                     1.2.0\n",
            "imbalanced-learn              0.4.3\n",
            "imblearn                      0.0\n",
            "imgaug                        0.2.9\n",
            "importlib-metadata            4.6.1\n",
            "importlib-resources           5.2.0\n",
            "imutils                       0.5.4\n",
            "inflect                       2.1.0\n",
            "iniconfig                     1.1.1\n",
            "install                       1.3.4\n",
            "intel-openmp                  2021.3.0\n",
            "intervaltree                  2.1.0\n",
            "ipykernel                     4.10.1\n",
            "ipython                       5.5.0\n",
            "ipython-genutils              0.2.0\n",
            "ipython-sql                   0.3.9\n",
            "ipywidgets                    7.6.3\n",
            "itsdangerous                  1.1.0\n",
            "jax                           0.2.17\n",
            "jaxlib                        0.1.69+cuda110\n",
            "jdcal                         1.4.1\n",
            "jedi                          0.18.0\n",
            "jieba                         0.42.1\n",
            "Jinja2                        2.11.3\n",
            "joblib                        1.0.1\n",
            "jpeg4py                       0.1.4\n",
            "jsonschema                    2.6.0\n",
            "jupyter                       1.0.0\n",
            "jupyter-client                5.3.5\n",
            "jupyter-console               5.2.0\n",
            "jupyter-core                  4.7.1\n",
            "jupyterlab-pygments           0.1.2\n",
            "jupyterlab-widgets            1.0.0\n",
            "kaggle                        1.5.12\n",
            "kapre                         0.3.5\n",
            "Keras                         2.4.3\n",
            "keras-nightly                 2.5.0.dev2021032900\n",
            "Keras-Preprocessing           1.1.2\n",
            "keras-vis                     0.4.1\n",
            "kiwisolver                    1.3.1\n",
            "korean-lunar-calendar         0.2.1\n",
            "librosa                       0.8.1\n",
            "lightgbm                      2.2.3\n",
            "llvmlite                      0.34.0\n",
            "lmdb                          0.99\n",
            "LunarCalendar                 0.0.9\n",
            "lxml                          4.2.6\n",
            "Markdown                      3.3.4\n",
            "MarkupSafe                    2.0.1\n",
            "matplotlib                    3.2.2\n",
            "matplotlib-inline             0.1.2\n",
            "matplotlib-venn               0.11.6\n",
            "missingno                     0.5.0\n",
            "mistune                       0.8.4\n",
            "mizani                        0.6.0\n",
            "mkl                           2019.0\n",
            "mlxtend                       0.14.0\n",
            "more-itertools                8.8.0\n",
            "moviepy                       0.2.3.5\n",
            "mpmath                        1.2.1\n",
            "msgpack                       1.0.2\n",
            "multiprocess                  0.70.12.2\n",
            "multitasking                  0.0.9\n",
            "murmurhash                    1.0.5\n",
            "music21                       5.5.0\n",
            "natsort                       5.5.0\n",
            "nbclient                      0.5.3\n",
            "nbconvert                     5.6.1\n",
            "nbformat                      5.1.3\n",
            "nest-asyncio                  1.5.1\n",
            "netCDF4                       1.5.7\n",
            "networkx                      2.5.1\n",
            "nibabel                       3.0.2\n",
            "nltk                          3.2.5\n",
            "notebook                      5.3.1\n",
            "numba                         0.51.2\n",
            "numexpr                       2.7.3\n",
            "numpy                         1.19.5\n",
            "nvidia-ml-py3                 7.352.0\n",
            "oauth2client                  4.1.3\n",
            "oauthlib                      3.1.1\n",
            "okgrade                       0.4.3\n",
            "opencv-contrib-python         4.1.2.30\n",
            "opencv-python                 4.1.2.30\n",
            "openpyxl                      2.5.9\n",
            "opt-einsum                    3.3.0\n",
            "osqp                          0.6.2.post0\n",
            "packaging                     21.0\n",
            "palettable                    3.3.0\n",
            "pandas                        1.1.5\n",
            "pandas-datareader             0.9.0\n",
            "pandas-gbq                    0.13.3\n",
            "pandas-profiling              1.4.1\n",
            "pandocfilters                 1.4.3\n",
            "panel                         0.11.3\n",
            "param                         1.11.1\n",
            "parso                         0.8.2\n",
            "pathlib                       1.0.1\n",
            "patsy                         0.5.1\n",
            "pexpect                       4.8.0\n",
            "pickleshare                   0.7.5\n",
            "Pillow                        7.1.2\n",
            "pip                           21.1.3\n",
            "pip-tools                     4.5.1\n",
            "plac                          1.1.3\n",
            "plotly                        4.4.1\n",
            "plotnine                      0.6.0\n",
            "pluggy                        0.7.1\n",
            "pooch                         1.4.0\n",
            "portpicker                    1.3.9\n",
            "prefetch-generator            1.0.1\n",
            "preshed                       3.0.5\n",
            "prettytable                   2.1.0\n",
            "progressbar2                  3.38.0\n",
            "prometheus-client             0.11.0\n",
            "promise                       2.3\n",
            "prompt-toolkit                1.0.18\n",
            "protobuf                      3.17.3\n",
            "psutil                        5.4.8\n",
            "psycopg2                      2.7.6.1\n",
            "ptyprocess                    0.7.0\n",
            "py                            1.10.0\n",
            "pyarrow                       3.0.0\n",
            "pyasn1                        0.4.8\n",
            "pyasn1-modules                0.2.8\n",
            "pycocotools                   2.0.2\n",
            "pycparser                     2.20\n",
            "pyct                          0.4.8\n",
            "pydata-google-auth            1.2.0\n",
            "pydot                         1.3.0\n",
            "pydot-ng                      2.0.0\n",
            "pydotplus                     2.0.2\n",
            "PyDrive                       1.3.1\n",
            "pyemd                         0.5.1\n",
            "pyerfa                        2.0.0\n",
            "pyglet                        1.5.0\n",
            "Pygments                      2.6.1\n",
            "pygobject                     3.26.1\n",
            "pymc3                         3.11.2\n",
            "PyMeeus                       0.5.11\n",
            "pymongo                       3.11.4\n",
            "pymystem3                     0.2.0\n",
            "PyOpenGL                      3.1.5\n",
            "pyparsing                     2.4.7\n",
            "pyrsistent                    0.18.0\n",
            "pysndfile                     1.3.8\n",
            "PySocks                       1.7.1\n",
            "pystan                        2.19.1.1\n",
            "pytest                        3.6.4\n",
            "python-apt                    0.0.0\n",
            "python-chess                  0.23.11\n",
            "python-dateutil               2.8.1\n",
            "python-louvain                0.15\n",
            "python-slugify                5.0.2\n",
            "python-utils                  2.5.6\n",
            "pytz                          2018.9\n",
            "pyviz-comms                   2.1.0\n",
            "PyWavelets                    1.1.1\n",
            "PyYAML                        3.13\n",
            "pyzmq                         22.1.0\n",
            "qdldl                         0.1.5.post0\n",
            "qtconsole                     5.1.1\n",
            "QtPy                          1.9.0\n",
            "regex                         2019.12.20\n",
            "requests                      2.23.0\n",
            "requests-oauthlib             1.3.0\n",
            "resampy                       0.2.2\n",
            "retrying                      1.3.3\n",
            "rpy2                          3.4.5\n",
            "rsa                           4.7.2\n",
            "scikit-image                  0.16.2\n",
            "scikit-learn                  0.22.2.post1\n",
            "scipy                         1.4.1\n",
            "screen-resolution-extra       0.0.0\n",
            "scs                           2.1.4\n",
            "seaborn                       0.11.1\n",
            "semver                        2.13.0\n",
            "Send2Trash                    1.7.1\n",
            "setuptools                    57.2.0\n",
            "setuptools-git                1.2\n",
            "Shapely                       1.7.1\n",
            "simplegeneric                 0.8.1\n",
            "six                           1.15.0\n",
            "sklearn                       0.0\n",
            "sklearn-pandas                1.8.0\n",
            "smart-open                    5.1.0\n",
            "snowballstemmer               2.1.0\n",
            "sortedcontainers              2.4.0\n",
            "SoundFile                     0.10.3.post1\n",
            "spacy                         2.2.4\n",
            "Sphinx                        1.8.5\n",
            "sphinxcontrib-serializinghtml 1.1.5\n",
            "sphinxcontrib-websupport      1.2.4\n",
            "SQLAlchemy                    1.4.20\n",
            "sqlparse                      0.4.1\n",
            "srsly                         1.0.5\n",
            "statsmodels                   0.10.2\n",
            "sympy                         1.7.1\n",
            "tables                        3.4.4\n",
            "tabulate                      0.8.9\n",
            "tblib                         1.7.0\n",
            "tensorboard                   2.5.0\n",
            "tensorboard-data-server       0.6.1\n",
            "tensorboard-plugin-wit        1.8.0\n",
            "tensorflow                    2.5.0\n",
            "tensorflow-datasets           4.0.1\n",
            "tensorflow-estimator          2.5.0\n",
            "tensorflow-gcs-config         2.5.0\n",
            "tensorflow-hub                0.12.0\n",
            "tensorflow-metadata           1.1.0\n",
            "tensorflow-probability        0.13.0\n",
            "termcolor                     1.1.0\n",
            "terminado                     0.10.1\n",
            "testpath                      0.5.0\n",
            "text-unidecode                1.3\n",
            "textblob                      0.15.3\n",
            "Theano-PyMC                   1.1.2\n",
            "thinc                         7.4.0\n",
            "tifffile                      2021.7.2\n",
            "toml                          0.10.2\n",
            "toolz                         0.11.1\n",
            "torch                         1.9.0+cu102\n",
            "torchsummary                  1.5.1\n",
            "torchtext                     0.10.0\n",
            "torchvision                   0.10.0+cu102\n",
            "tornado                       5.1.1\n",
            "tqdm                          4.41.1\n",
            "traitlets                     5.0.5\n",
            "tweepy                        3.10.0\n",
            "typeguard                     2.7.1\n",
            "typing-extensions             3.7.4.3\n",
            "tzlocal                       1.5.1\n",
            "uritemplate                   3.0.1\n",
            "urllib3                       1.24.3\n",
            "vega-datasets                 0.9.0\n",
            "wasabi                        0.8.2\n",
            "wcwidth                       0.2.5\n",
            "webencodings                  0.5.1\n",
            "Werkzeug                      1.0.1\n",
            "wheel                         0.36.2\n",
            "widgetsnbextension            3.5.1\n",
            "wordcloud                     1.5.0\n",
            "wrapt                         1.12.1\n",
            "xarray                        0.18.2\n",
            "xgboost                       0.90\n",
            "xkit                          0.0.0\n",
            "xlrd                          1.1.0\n",
            "xlwt                          1.3.0\n",
            "yellowbrick                   0.9.1\n",
            "zict                          2.0.0\n",
            "zipp                          3.5.0\n"
          ],
          "name": "stdout"
        }
      ]
    },
    {
      "cell_type": "code",
      "metadata": {
        "id": "rjUB0bjjhPkZ"
      },
      "source": [
        "import pickle\n",
        "with open('pcapurl.pkl', 'wb') as pkl:\n",
        "    pickle.dump(pcapurl, pkl)\n",
        "with open('pcapurl.pkl', 'rb') as pkl:\n",
        "    pickle_preds = pickle.load(pkl)"
      ],
      "execution_count": null,
      "outputs": []
    }
  ]
}