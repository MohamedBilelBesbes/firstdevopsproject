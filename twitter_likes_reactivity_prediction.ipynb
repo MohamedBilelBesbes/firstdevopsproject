{
  "nbformat": 4,
  "nbformat_minor": 0,
  "metadata": {
    "colab": {
      "provenance": []
    },
    "kernelspec": {
      "name": "python3",
      "display_name": "Python 3"
    },
    "language_info": {
      "name": "python"
    }
  },
  "cells": [
    {
      "cell_type": "markdown",
      "metadata": {
        "id": "HS2aeaiih6J4"
      },
      "source": [
        "These are the necessary imports"
      ]
    },
    {
      "cell_type": "code",
      "metadata": {
        "id": "wNYRxqVlCGxN"
      },
      "source": [
        "import pandas as pd\n",
        "import numpy as np\n",
        "import matplotlib.pyplot as plt\n",
        "import seaborn as sns\n",
        "from sklearn.model_selection import train_test_split\n",
        "from sklearn.preprocessing import OrdinalEncoder\n",
        "from sklearn.preprocessing import StandardScaler\n",
        "from sklearn.ensemble import RandomForestRegressor as rfr\n",
        "from sklearn.ensemble import RandomForestRegressor\n",
        "from sklearn.model_selection import GridSearchCV\n",
        "from sklearn.metrics import mean_absolute_error\n",
        "from sklearn.ensemble import GradientBoostingRegressor\n",
        "from sklearn.decomposition import PCA\n",
        "import xgboost as xgb\n",
        "from xgboost import XGBRegressor\n",
        "import pickle"
      ],
      "execution_count": null,
      "outputs": []
    },
    {
      "cell_type": "markdown",
      "metadata": {
        "id": "bU7zXVWviMD5"
      },
      "source": [
        "Getting the dataframe from a csv"
      ]
    },
    {
      "cell_type": "code",
      "metadata": {
        "colab": {
          "base_uri": "https://localhost:8080/"
        },
        "id": "RlryXWPvHZU-",
        "outputId": "5e51c81f-e72e-466c-cd0b-b3dba2f014cf"
      },
      "source": [
        "from google.colab import drive\n",
        "drive.mount('/content/drive')"
      ],
      "execution_count": null,
      "outputs": [
        {
          "output_type": "stream",
          "name": "stdout",
          "text": [
            "Mounted at /content/drive\n"
          ]
        }
      ]
    },
    {
      "cell_type": "code",
      "metadata": {
        "id": "qJFGKF_0DMnM"
      },
      "source": [
        "df = pd.read_csv('/content/drive/MyDrive/colab_datasets/twitterscraping/alldatacleaned.csv', index_col=None)\n",
        "df = df.drop_duplicates()"
      ],
      "execution_count": null,
      "outputs": []
    },
    {
      "cell_type": "markdown",
      "metadata": {
        "id": "P4ZhaLqAiTbt"
      },
      "source": [
        "Making a copy of the dataframe to work on it so initial state of the dataset can be restored in case something bad happens.\n",
        "**Note : *** I will be referencing to the number of likes, number of comments, and number of retweets as **reaction indices**"
      ]
    },
    {
      "cell_type": "code",
      "metadata": {
        "id": "VamsBGAyfMy1"
      },
      "source": [
        "dfcopy = df.copy()"
      ],
      "execution_count": null,
      "outputs": []
    },
    {
      "cell_type": "markdown",
      "metadata": {
        "id": "xTbr0wgBjh6h"
      },
      "source": [
        "Dropping the 'Content' column because we cannot extract useful data from it anymore"
      ]
    },
    {
      "cell_type": "code",
      "metadata": {
        "id": "hRz_JyUDgGX0"
      },
      "source": [
        "dfcopy = dfcopy.drop(columns=['Content'])"
      ],
      "execution_count": null,
      "outputs": []
    },
    {
      "cell_type": "markdown",
      "metadata": {
        "id": "z9ocnsVojsNn"
      },
      "source": [
        "Some of the data has zero as the number of likes, retweets, and comments respectively, which means that the extraction of the data was wrong (as observed in the dataset, some users have tousands of followers and thousands of tweets but have not a single intercation on a post that was putted more than a day ago). However, some users who have less than five followers and less than five posts have no interaction on their last post, which makes sense. So, I created a function that drops rows where there is no interaction (zero likes, comments, and retweets) if their correspondant user have more than five followers or more than five posts"
      ]
    },
    {
      "cell_type": "code",
      "metadata": {
        "id": "tEFODlfkKRPI"
      },
      "source": [
        "def dropzeros(df):\n",
        "  l = []\n",
        "  for i in range(df.shape[0]):\n",
        "    if (df['NumberOfLikes'].iloc[i] == 0 and df['NumberOfRetweets'].iloc[i] == 0 and df['NumberOfComments'].iloc[i] == 0):\n",
        "      l.append(i)\n",
        "  df.drop(df.index[l], inplace=True)"
      ],
      "execution_count": null,
      "outputs": []
    },
    {
      "cell_type": "markdown",
      "metadata": {
        "id": "BWnsbKngRErE"
      },
      "source": [
        "def dropzeros(df):\n",
        "  l = []\n",
        "  for i in range(df.shape[0]):\n",
        "    if (df['NumberOfLikes'].iloc[i] == 0 and df['NumberOfRetweets'].iloc[i] == 0 and df['NumberOfComments'].iloc[i] == 0 and (df['NumberofTweets'].iloc[i] < 6 or df['NumberofFollowers'].iloc[i] < 6)):\n",
        "      l.append(i)\n",
        "  df.drop(df.index[l], inplace=True)"
      ]
    },
    {
      "cell_type": "code",
      "metadata": {
        "id": "aw2jvif8NhoR"
      },
      "source": [
        "dropzeros(dfcopy)"
      ],
      "execution_count": null,
      "outputs": []
    },
    {
      "cell_type": "markdown",
      "metadata": {
        "id": "7FMYFgeHmcdD"
      },
      "source": [
        "The correlation map shows that the number of reaction indices' columns are weakly correlated to other columns"
      ]
    },
    {
      "cell_type": "code",
      "metadata": {
        "id": "e8UFAlGOguJj",
        "colab": {
          "base_uri": "https://localhost:8080/",
          "height": 381
        },
        "outputId": "f1920a6d-bf36-4006-b921-7b79cc137413"
      },
      "source": [
        "corr = dfcopy.corr()\n",
        "sns.heatmap(corr)"
      ],
      "execution_count": null,
      "outputs": [
        {
          "output_type": "execute_result",
          "data": {
            "text/plain": [
              "<matplotlib.axes._subplots.AxesSubplot at 0x7f22d8870a50>"
            ]
          },
          "metadata": {},
          "execution_count": 10
        },
        {
          "output_type": "display_data",
          "data": {
            "image/png": "[encoded data removed]",
            "text/plain": [
              "<Figure size 432x288 with 2 Axes>"
            ]
          },
          "metadata": {
            "needs_background": "light"
          }
        }
      ]
    },
    {
      "cell_type": "markdown",
      "metadata": {
        "id": "yQU0jMAJnrIu"
      },
      "source": [
        "This shows that only a small percentage of the rows actually have a video content in them"
      ]
    },
    {
      "cell_type": "code",
      "metadata": {
        "id": "TOsxmt-Jk92A",
        "colab": {
          "base_uri": "https://localhost:8080/",
          "height": 405
        },
        "outputId": "eaac7174-b339-4484-aeda-8b662cc8aee3"
      },
      "source": [
        "plt.figure(figsize=(15, 6))\n",
        "sns.countplot(data = dfcopy , x = 'Video')"
      ],
      "execution_count": null,
      "outputs": [
        {
          "output_type": "execute_result",
          "data": {
            "text/plain": [
              "<matplotlib.axes._subplots.AxesSubplot at 0x7f22f7908d10>"
            ]
          },
          "metadata": {},
          "execution_count": 11
        },
        {
          "output_type": "display_data",
          "data": {
            "image/png": "[encoded data removed]",
            "text/plain": [
              "<Figure size 1080x432 with 1 Axes>"
            ]
          },
          "metadata": {
            "needs_background": "light"
          }
        }
      ]
    },
    {
      "cell_type": "code",
      "metadata": {
        "id": "YquIMZPvzYm4"
      },
      "source": [
        "dff = dfcopy.copy()"
      ],
      "execution_count": null,
      "outputs": []
    },
    {
      "cell_type": "markdown",
      "metadata": {
        "id": "sLv4stMYoR10"
      },
      "source": [
        "The 'language' column is categorical and have 55 values, so we will transform it using the Ordinal Encoder"
      ]
    },
    {
      "cell_type": "code",
      "metadata": {
        "id": "M7dakV0DzFKp"
      },
      "source": [
        "\n",
        "#Encoder = OrdinalEncoder(dtype=int)\n",
        "#Encoder.fit(dff[['language']])\n",
        "with open('/content/drive/MyDrive/colab_datasets/twitterscraping/Encoder.pkl', 'rb') as pkl:\n",
        "  Encoder = pickle.load(pkl)\n",
        "dff[['language']] = Encoder.transform(dff[['language']])"
      ],
      "execution_count": null,
      "outputs": []
    },
    {
      "cell_type": "code",
      "metadata": {
        "colab": {
          "base_uri": "https://localhost:8080/",
          "height": 224
        },
        "id": "GEQfeCA8Hry6",
        "outputId": "e0367aa3-1624-4809-cf2f-ff2b7a59451b"
      },
      "source": [
        "dff.head()"
      ],
      "execution_count": null,
      "outputs": [
        {
          "output_type": "execute_result",
          "data": {
            "text/html": [
              "<div>\n",
              "<style scoped>\n",
              "    .dataframe tbody tr th:only-of-type {\n",
              "        vertical-align: middle;\n",
              "    }\n",
              "\n",
              "    .dataframe tbody tr th {\n",
              "        vertical-align: top;\n",
              "    }\n",
              "\n",
              "    .dataframe thead th {\n",
              "        text-align: right;\n",
              "    }\n",
              "</style>\n",
              "<table border=\"1\" class=\"dataframe\">\n",
              "  <thead>\n",
              "    <tr style=\"text-align: right;\">\n",
              "      <th></th>\n",
              "      <th>NumberofTweets</th>\n",
              "      <th>NumberofFollowing</th>\n",
              "      <th>NumberofFollowers</th>\n",
              "      <th>Picture</th>\n",
              "      <th>Video</th>\n",
              "      <th>NumberOfComments</th>\n",
              "      <th>NumberOfRetweets</th>\n",
              "      <th>NumberOfLikes</th>\n",
              "      <th>tweetage</th>\n",
              "      <th>numberOfHashtags</th>\n",
              "      <th>numberOfTags</th>\n",
              "      <th>numberOfURLs</th>\n",
              "      <th>language</th>\n",
              "    </tr>\n",
              "  </thead>\n",
              "  <tbody>\n",
              "    <tr>\n",
              "      <th>0</th>\n",
              "      <td>2610</td>\n",
              "      <td>51</td>\n",
              "      <td>35700</td>\n",
              "      <td>1</td>\n",
              "      <td>0</td>\n",
              "      <td>14</td>\n",
              "      <td>25</td>\n",
              "      <td>186</td>\n",
              "      <td>4</td>\n",
              "      <td>0</td>\n",
              "      <td>1</td>\n",
              "      <td>0</td>\n",
              "      <td>10</td>\n",
              "    </tr>\n",
              "    <tr>\n",
              "      <th>1</th>\n",
              "      <td>1390</td>\n",
              "      <td>277</td>\n",
              "      <td>159100</td>\n",
              "      <td>1</td>\n",
              "      <td>0</td>\n",
              "      <td>68</td>\n",
              "      <td>186</td>\n",
              "      <td>3700</td>\n",
              "      <td>4</td>\n",
              "      <td>0</td>\n",
              "      <td>1</td>\n",
              "      <td>0</td>\n",
              "      <td>9</td>\n",
              "    </tr>\n",
              "    <tr>\n",
              "      <th>2</th>\n",
              "      <td>6088</td>\n",
              "      <td>431</td>\n",
              "      <td>45600</td>\n",
              "      <td>1</td>\n",
              "      <td>0</td>\n",
              "      <td>0</td>\n",
              "      <td>19</td>\n",
              "      <td>255</td>\n",
              "      <td>4</td>\n",
              "      <td>1</td>\n",
              "      <td>0</td>\n",
              "      <td>0</td>\n",
              "      <td>49</td>\n",
              "    </tr>\n",
              "    <tr>\n",
              "      <th>3</th>\n",
              "      <td>408</td>\n",
              "      <td>71</td>\n",
              "      <td>49800</td>\n",
              "      <td>0</td>\n",
              "      <td>0</td>\n",
              "      <td>64</td>\n",
              "      <td>91</td>\n",
              "      <td>2200</td>\n",
              "      <td>4</td>\n",
              "      <td>0</td>\n",
              "      <td>0</td>\n",
              "      <td>0</td>\n",
              "      <td>9</td>\n",
              "    </tr>\n",
              "    <tr>\n",
              "      <th>4</th>\n",
              "      <td>2126</td>\n",
              "      <td>143</td>\n",
              "      <td>13200</td>\n",
              "      <td>0</td>\n",
              "      <td>0</td>\n",
              "      <td>68</td>\n",
              "      <td>183</td>\n",
              "      <td>1700</td>\n",
              "      <td>4</td>\n",
              "      <td>0</td>\n",
              "      <td>0</td>\n",
              "      <td>0</td>\n",
              "      <td>9</td>\n",
              "    </tr>\n",
              "  </tbody>\n",
              "</table>\n",
              "</div>"
            ],
            "text/plain": [
              "   NumberofTweets  NumberofFollowing  ...  numberOfURLs  language\n",
              "0            2610                 51  ...             0        10\n",
              "1            1390                277  ...             0         9\n",
              "2            6088                431  ...             0        49\n",
              "3             408                 71  ...             0         9\n",
              "4            2126                143  ...             0         9\n",
              "\n",
              "[5 rows x 13 columns]"
            ]
          },
          "metadata": {},
          "execution_count": 14
        }
      ]
    },
    {
      "cell_type": "code",
      "metadata": {
        "id": "LQCx3hzQziq0",
        "colab": {
          "base_uri": "https://localhost:8080/",
          "height": 224
        },
        "outputId": "179c7489-e530-48f5-c0b2-33a38562da0c"
      },
      "source": [
        "dff.head()"
      ],
      "execution_count": null,
      "outputs": [
        {
          "output_type": "execute_result",
          "data": {
            "text/html": [
              "<div>\n",
              "<style scoped>\n",
              "    .dataframe tbody tr th:only-of-type {\n",
              "        vertical-align: middle;\n",
              "    }\n",
              "\n",
              "    .dataframe tbody tr th {\n",
              "        vertical-align: top;\n",
              "    }\n",
              "\n",
              "    .dataframe thead th {\n",
              "        text-align: right;\n",
              "    }\n",
              "</style>\n",
              "<table border=\"1\" class=\"dataframe\">\n",
              "  <thead>\n",
              "    <tr style=\"text-align: right;\">\n",
              "      <th></th>\n",
              "      <th>NumberofTweets</th>\n",
              "      <th>NumberofFollowing</th>\n",
              "      <th>NumberofFollowers</th>\n",
              "      <th>Picture</th>\n",
              "      <th>Video</th>\n",
              "      <th>NumberOfComments</th>\n",
              "      <th>NumberOfRetweets</th>\n",
              "      <th>NumberOfLikes</th>\n",
              "      <th>tweetage</th>\n",
              "      <th>numberOfHashtags</th>\n",
              "      <th>numberOfTags</th>\n",
              "      <th>numberOfURLs</th>\n",
              "      <th>language</th>\n",
              "    </tr>\n",
              "  </thead>\n",
              "  <tbody>\n",
              "    <tr>\n",
              "      <th>0</th>\n",
              "      <td>2610</td>\n",
              "      <td>51</td>\n",
              "      <td>35700</td>\n",
              "      <td>1</td>\n",
              "      <td>0</td>\n",
              "      <td>14</td>\n",
              "      <td>25</td>\n",
              "      <td>186</td>\n",
              "      <td>4</td>\n",
              "      <td>0</td>\n",
              "      <td>1</td>\n",
              "      <td>0</td>\n",
              "      <td>10</td>\n",
              "    </tr>\n",
              "    <tr>\n",
              "      <th>1</th>\n",
              "      <td>1390</td>\n",
              "      <td>277</td>\n",
              "      <td>159100</td>\n",
              "      <td>1</td>\n",
              "      <td>0</td>\n",
              "      <td>68</td>\n",
              "      <td>186</td>\n",
              "      <td>3700</td>\n",
              "      <td>4</td>\n",
              "      <td>0</td>\n",
              "      <td>1</td>\n",
              "      <td>0</td>\n",
              "      <td>9</td>\n",
              "    </tr>\n",
              "    <tr>\n",
              "      <th>2</th>\n",
              "      <td>6088</td>\n",
              "      <td>431</td>\n",
              "      <td>45600</td>\n",
              "      <td>1</td>\n",
              "      <td>0</td>\n",
              "      <td>0</td>\n",
              "      <td>19</td>\n",
              "      <td>255</td>\n",
              "      <td>4</td>\n",
              "      <td>1</td>\n",
              "      <td>0</td>\n",
              "      <td>0</td>\n",
              "      <td>49</td>\n",
              "    </tr>\n",
              "    <tr>\n",
              "      <th>3</th>\n",
              "      <td>408</td>\n",
              "      <td>71</td>\n",
              "      <td>49800</td>\n",
              "      <td>0</td>\n",
              "      <td>0</td>\n",
              "      <td>64</td>\n",
              "      <td>91</td>\n",
              "      <td>2200</td>\n",
              "      <td>4</td>\n",
              "      <td>0</td>\n",
              "      <td>0</td>\n",
              "      <td>0</td>\n",
              "      <td>9</td>\n",
              "    </tr>\n",
              "    <tr>\n",
              "      <th>4</th>\n",
              "      <td>2126</td>\n",
              "      <td>143</td>\n",
              "      <td>13200</td>\n",
              "      <td>0</td>\n",
              "      <td>0</td>\n",
              "      <td>68</td>\n",
              "      <td>183</td>\n",
              "      <td>1700</td>\n",
              "      <td>4</td>\n",
              "      <td>0</td>\n",
              "      <td>0</td>\n",
              "      <td>0</td>\n",
              "      <td>9</td>\n",
              "    </tr>\n",
              "  </tbody>\n",
              "</table>\n",
              "</div>"
            ],
            "text/plain": [
              "   NumberofTweets  NumberofFollowing  ...  numberOfURLs  language\n",
              "0            2610                 51  ...             0        10\n",
              "1            1390                277  ...             0         9\n",
              "2            6088                431  ...             0        49\n",
              "3             408                 71  ...             0         9\n",
              "4            2126                143  ...             0         9\n",
              "\n",
              "[5 rows x 13 columns]"
            ]
          },
          "metadata": {},
          "execution_count": 15
        }
      ]
    },
    {
      "cell_type": "markdown",
      "metadata": {
        "id": "veqFHYyps53D"
      },
      "source": [
        "The boxplot shows significant imbalance in the y axis"
      ]
    },
    {
      "cell_type": "code",
      "metadata": {
        "id": "M14ouZ_utHjb",
        "colab": {
          "base_uri": "https://localhost:8080/",
          "height": 296
        },
        "outputId": "be630348-46a7-40bb-9c65-674d27192f42"
      },
      "source": [
        "sns.boxplot(x=dff['NumberOfLikes'])"
      ],
      "execution_count": null,
      "outputs": [
        {
          "output_type": "execute_result",
          "data": {
            "text/plain": [
              "<matplotlib.axes._subplots.AxesSubplot at 0x7f22d87315d0>"
            ]
          },
          "metadata": {},
          "execution_count": 16
        },
        {
          "output_type": "display_data",
          "data": {
            "image/png": "[encoded data removed]",
            "text/plain": [
              "<Figure size 432x288 with 1 Axes>"
            ]
          },
          "metadata": {
            "needs_background": "light"
          }
        }
      ]
    },
    {
      "cell_type": "markdown",
      "metadata": {
        "id": "hGo24qGKpEBy"
      },
      "source": [
        "The following histogram shows the distribution of the number of retweets and it shows that a large number of the data points are under the value of 2000, on the other hand, there are values that extend to more than 20 tousands which is surely indicates the existence of outliers."
      ]
    },
    {
      "cell_type": "code",
      "metadata": {
        "id": "HQcYuGkC-AFe",
        "colab": {
          "base_uri": "https://localhost:8080/",
          "height": 225
        },
        "outputId": "0d8a4f11-e260-40bf-b9a7-2d27a1f22189"
      },
      "source": [
        "plt.figure(figsize=(5, 3))\n",
        "dff.NumberOfLikes.plot.hist(grid=True,range=[0,dff.NumberOfLikes.max()], bins=100, rwidth=0.9)\n",
        "plt.xlabel('Number of Likes')\n",
        "plt.grid(axis='y', alpha=0.75)\n",
        "#dff = dff[dff.NumberOfLikes < 1001]"
      ],
      "execution_count": null,
      "outputs": [
        {
          "output_type": "display_data",
          "data": {
            "image/png": "[encoded data removed]",
            "text/plain": [
              "<Figure size 360x216 with 1 Axes>"
            ]
          },
          "metadata": {
            "needs_background": "light"
          }
        }
      ]
    },
    {
      "cell_type": "markdown",
      "metadata": {
        "id": "Ad7uQysuq7O7"
      },
      "source": [
        "There are also outliers that does not appear in the y columns (the 'NumberOfLikes' column) but can rather be observed in the proportion between the number of retweets with the number of followers, followinf, and tweets, which indicates the existance of outliers. So there should be an outlier deletion technique that takes into account all the columns, not just the y column"
      ]
    },
    {
      "cell_type": "code",
      "metadata": {
        "id": "a0baF4WiQANQ",
        "colab": {
          "base_uri": "https://localhost:8080/",
          "height": 616
        },
        "outputId": "97b2a582-1322-49e2-96ca-62b83763b38f"
      },
      "source": [
        "fig, ax = plt.subplots(3,figsize=(4,10))\n",
        "ax[0].scatter(dff['NumberofFollowing'],dff['NumberOfLikes'])\n",
        "ax[0].set_xlabel('number of following')\n",
        "ax[0].set_ylabel('number of likes')\n",
        "ax[1].scatter(dff['NumberofFollowers'],dff['NumberOfLikes'])\n",
        "ax[1].set_xlabel('number of followers')\n",
        "ax[1].set_ylabel('number of likes')\n",
        "ax[2].scatter(dff['NumberofTweets'],dff['NumberOfLikes'])\n",
        "ax[2].set_xlabel('number of tweets')\n",
        "ax[2].set_ylabel('number of likes')\n",
        "plt.show()"
      ],
      "execution_count": null,
      "outputs": [
        {
          "output_type": "display_data",
          "data": {
            "image/png": "[encoded data removed]",
            "text/plain": [
              "<Figure size 288x720 with 3 Axes>"
            ]
          },
          "metadata": {
            "needs_background": "light"
          }
        }
      ]
    },
    {
      "cell_type": "markdown",
      "metadata": {
        "id": "XZoSXHJ-tMqZ"
      },
      "source": [
        "\"**the Z-score : The intuition behind Z-score is to describe any data point by finding their relationship with the Standard Deviation and Mean of the group of data points. Z-score is finding the distribution of data where mean is 0 and standard deviation is 1 i.e. normal distribution.**\"\n",
        "\n",
        "To take into account all the columns upon performing the outlier rows selection, we use the z score which will give a good set of rows that are cadidated to be deleted"
      ]
    },
    {
      "cell_type": "code",
      "metadata": {
        "id": "vkjOyufDXwFk"
      },
      "source": [
        "from scipy import stats\n",
        "import numpy as np\n",
        "z = np.abs(stats.zscore(dff))"
      ],
      "execution_count": null,
      "outputs": []
    },
    {
      "cell_type": "markdown",
      "metadata": {
        "id": "Hyt-etWwu2zx"
      },
      "source": [
        "\"**You must be wondering that, how does this help in identifying the outliers? Well, while calculating the Z-score we re-scale and center the data and look for data points which are too far from zero. These data points which are way too far from zero will be treated as the outliers. In most of the cases a threshold of 3 or -3 is used i.e if the Z-score value is greater than or less than 3 or -3 respectively, that data point will be identified as outliers.**\"\n",
        "\n",
        "This is a sorted list with all the rows that were considered as outliers by the z-score criterion (if abs of z score is above 3, than it is to be considered as an outlier), we will use it to delete them fro mthe dataset"
      ]
    },
    {
      "cell_type": "code",
      "metadata": {
        "id": "V8Xe7AI4QgMr"
      },
      "source": [
        "l = sorted(list(set.union(set(np.where(z > 3)[0]),set(np.where(z < -3)[0]))))\n",
        "dff.drop(dff.index[l], inplace=True,axis=0)"
      ],
      "execution_count": null,
      "outputs": []
    },
    {
      "cell_type": "markdown",
      "metadata": {
        "id": "FqiGsfRaxsaE"
      },
      "source": [
        "Now, even the outliers related to the propotion between the number of retweets and the number of floowers, following, and number of tweets, are gone"
      ]
    },
    {
      "cell_type": "code",
      "metadata": {
        "id": "qQlvUskUsxZ0",
        "colab": {
          "base_uri": "https://localhost:8080/",
          "height": 606
        },
        "outputId": "e718f128-896c-4e68-b871-461e6ca85780"
      },
      "source": [
        "fig, ax = plt.subplots(3,figsize=(4,10))\n",
        "ax[0].scatter(dff['NumberofFollowing'],dff['NumberOfLikes'])\n",
        "ax[0].set_xlabel('number of following')\n",
        "ax[0].set_ylabel('number of likes')\n",
        "ax[1].scatter(dff['NumberofFollowers'],dff['NumberOfLikes'])\n",
        "ax[1].set_xlabel('number of followers')\n",
        "ax[1].set_ylabel('number of likes')\n",
        "ax[2].scatter(dff['NumberofTweets'],dff['NumberOfLikes'])\n",
        "ax[2].set_xlabel('number of tweets')\n",
        "ax[2].set_ylabel('number of likes')\n",
        "plt.show()"
      ],
      "execution_count": null,
      "outputs": [
        {
          "output_type": "display_data",
          "data": {
            "image/png": "[encoded data removed]",
            "text/plain": [
              "<Figure size 288x720 with 3 Axes>"
            ]
          },
          "metadata": {
            "needs_background": "light"
          }
        }
      ]
    },
    {
      "cell_type": "markdown",
      "metadata": {
        "id": "7w3yuoylx-OX"
      },
      "source": [
        "The dataset is being split into x and y, with the 'NumberOfLikes' column is the the y"
      ]
    },
    {
      "cell_type": "code",
      "metadata": {
        "id": "1V-ZhRv57bQ2"
      },
      "source": [
        "dff = dff[dff.NumberOfLikes < 100]"
      ],
      "execution_count": null,
      "outputs": []
    },
    {
      "cell_type": "code",
      "metadata": {
        "id": "oZyRbuyCUhiQ"
      },
      "source": [
        "x = dff[['NumberofTweets', 'NumberofFollowing', 'NumberofFollowers', 'Picture',\n",
        "       'Video', 'tweetage', 'numberOfHashtags', 'numberOfTags', 'numberOfURLs','language']]\n",
        "y = np.log10(dff['NumberOfLikes'] + 1)"
      ],
      "execution_count": null,
      "outputs": []
    },
    {
      "cell_type": "markdown",
      "metadata": {
        "id": "KbKvR11ByMaE"
      },
      "source": [
        "The dataset is bring split into train and test datasets, with the test dataset being 12% of the original dataset"
      ]
    },
    {
      "cell_type": "code",
      "metadata": {
        "id": "0jWKz4XgTadu"
      },
      "source": [
        "x_train , x_test , y_train , y_test = train_test_split(x,y,test_size=0.12,random_state=25)"
      ],
      "execution_count": null,
      "outputs": []
    },
    {
      "cell_type": "code",
      "metadata": {
        "id": "UWS1vLX5RcBI"
      },
      "source": [
        "df = pd"
      ],
      "execution_count": null,
      "outputs": []
    },
    {
      "cell_type": "code",
      "metadata": {
        "id": "At0MLWt61R02",
        "colab": {
          "base_uri": "https://localhost:8080/"
        },
        "outputId": "0c69542f-88fc-4654-df71-1d4aad615a32"
      },
      "source": [
        "#Scaler = StandardScaler()\n",
        "#Scaler.fit(x_train[['NumberofTweets', 'NumberofFollowing', 'NumberofFollowers', 'numberOfHashtags', 'numberOfTags', 'numberOfURLs','tweetage','language']])\n",
        "with open('/content/drive/MyDrive/colab_datasets/twitterscraping/Scaler.pkl', 'rb') as pkl:\n",
        "  Scaler = pickle.load(pkl)\n",
        "x_train[['NumberofTweets', 'NumberofFollowing', 'NumberofFollowers', 'numberOfHashtags', 'numberOfTags', 'numberOfURLs','tweetage','language']] = Scaler.transform(x_train[['NumberofTweets', 'NumberofFollowing', 'NumberofFollowers', 'numberOfHashtags', 'numberOfTags', 'numberOfURLs','tweetage','language']])\n",
        "x_test[['NumberofTweets', 'NumberofFollowing', 'NumberofFollowers', 'numberOfHashtags', 'numberOfTags', 'numberOfURLs','tweetage','language']] = Scaler.transform(x_test[['NumberofTweets', 'NumberofFollowing', 'NumberofFollowers', 'numberOfHashtags', 'numberOfTags', 'numberOfURLs','tweetage','language']])"
      ],
      "execution_count": null,
      "outputs": [
        {
          "output_type": "stream",
          "name": "stderr",
          "text": [
            "/usr/local/lib/python3.7/dist-packages/ipykernel_launcher.py:5: SettingWithCopyWarning: \n",
            "A value is trying to be set on a copy of a slice from a DataFrame.\n",
            "Try using .loc[row_indexer,col_indexer] = value instead\n",
            "\n",
            "See the caveats in the documentation: https://pandas.pydata.org/pandas-docs/stable/user_guide/indexing.html#returning-a-view-versus-a-copy\n",
            "  \"\"\"\n",
            "/usr/local/lib/python3.7/dist-packages/pandas/core/indexing.py:1734: SettingWithCopyWarning: \n",
            "A value is trying to be set on a copy of a slice from a DataFrame.\n",
            "Try using .loc[row_indexer,col_indexer] = value instead\n",
            "\n",
            "See the caveats in the documentation: https://pandas.pydata.org/pandas-docs/stable/user_guide/indexing.html#returning-a-view-versus-a-copy\n",
            "  isetter(loc, value[:, i].tolist())\n",
            "/usr/local/lib/python3.7/dist-packages/ipykernel_launcher.py:6: SettingWithCopyWarning: \n",
            "A value is trying to be set on a copy of a slice from a DataFrame.\n",
            "Try using .loc[row_indexer,col_indexer] = value instead\n",
            "\n",
            "See the caveats in the documentation: https://pandas.pydata.org/pandas-docs/stable/user_guide/indexing.html#returning-a-view-versus-a-copy\n",
            "  \n",
            "/usr/local/lib/python3.7/dist-packages/pandas/core/indexing.py:1734: SettingWithCopyWarning: \n",
            "A value is trying to be set on a copy of a slice from a DataFrame.\n",
            "Try using .loc[row_indexer,col_indexer] = value instead\n",
            "\n",
            "See the caveats in the documentation: https://pandas.pydata.org/pandas-docs/stable/user_guide/indexing.html#returning-a-view-versus-a-copy\n",
            "  isetter(loc, value[:, i].tolist())\n"
          ]
        }
      ]
    },
    {
      "cell_type": "markdown",
      "metadata": {
        "id": "teQ5Cbdyyo6U"
      },
      "source": [
        "**\"The Mutual Information is a measure of the similarity between two labels of the same data\"**\n",
        "\n",
        "\"**We will use mutual information regression for feature ranking and selection. This metric measures the dependence between two random variables, in this case each feature in the data set and the number of retweets. Note that this doesn't consider combinations of feature values (for example, the dependence between number of followers and the y combined with number of tweets), which may also be useful**\"\n",
        "\n",
        "the mutual information score gives an idea on the important features in the x compared to the y"
      ]
    },
    {
      "cell_type": "code",
      "metadata": {
        "id": "rFlBSVCXcwQh",
        "colab": {
          "base_uri": "https://localhost:8080/"
        },
        "outputId": "e5623443-ddd0-499f-af8c-8df3bb51ce2a"
      },
      "source": [
        "import sklearn.feature_selection as fs\n",
        "yt = [i for i in y_train]\n",
        "featurerank = fs.mutual_info_regression(x_train,yt)\n",
        "feature_scores = []\n",
        "included_features = x_train.columns\n",
        "for i in np.arange(len(included_features)):\n",
        "  feature_scores.append([included_features[i],featurerank[i]])\n",
        "sorted_scores = sorted(np.array(feature_scores),key=lambda s: float(s[1]), reverse=True)\n",
        "print(np.array(sorted_scores))"
      ],
      "execution_count": null,
      "outputs": [
        {
          "output_type": "stream",
          "name": "stdout",
          "text": [
            "[['NumberofFollowers' '0.30175954785227965']\n",
            " ['NumberofTweets' '0.30041461021555893']\n",
            " ['NumberofFollowing' '0.2122558822706102']\n",
            " ['tweetage' '0.10879395891857957']\n",
            " ['language' '0.0683362025943266']\n",
            " ['numberOfHashtags' '0.03167785297308434']\n",
            " ['Video' '0.016575852858908835']\n",
            " ['Picture' '0.0']\n",
            " ['numberOfTags' '0.0']\n",
            " ['numberOfURLs' '0.0']]\n"
          ]
        }
      ]
    },
    {
      "cell_type": "markdown",
      "metadata": {
        "id": "GKSYpALY1EhN"
      },
      "source": [
        "**\"Linear model for testing the individual effect of each of many regressors. This is a scoring function to be used in a feature selection procedure, not a free standing feature selection procedure\"**\n",
        "\n",
        "f_regression is just another metric to help us in feature selection"
      ]
    },
    {
      "cell_type": "code",
      "metadata": {
        "id": "k2XD5trXlLdG",
        "colab": {
          "base_uri": "https://localhost:8080/"
        },
        "outputId": "838b3707-3b54-4ff1-9c84-209a0a7f2f61"
      },
      "source": [
        "featureranking = fs.f_regression(x_train,yt)\n",
        "feature_scoring = []\n",
        "for i in np.arange(len(included_features)):\n",
        "  feature_scoring.append([included_features[i],featureranking[0][i]])\n",
        "sorted_sc = sorted(np.array(feature_scoring),key=lambda s: float(s[1]), reverse=True)\n",
        "print(np.array(sorted_sc))"
      ],
      "execution_count": null,
      "outputs": [
        {
          "output_type": "stream",
          "name": "stdout",
          "text": [
            "[['NumberofFollowers' '281.38812422706127']\n",
            " ['NumberofTweets' '267.46287535824683']\n",
            " ['tweetage' '117.84491768783876']\n",
            " ['numberOfURLs' '34.28610850105772']\n",
            " ['Video' '13.817530948342519']\n",
            " ['language' '3.95396930017046']\n",
            " ['numberOfHashtags' '3.4729396098076775']\n",
            " ['Picture' '1.6363211996430964']\n",
            " ['numberOfTags' '0.1608466111975235']\n",
            " ['NumberofFollowing' '0.0035151731695796896']]\n"
          ]
        }
      ]
    },
    {
      "cell_type": "markdown",
      "metadata": {
        "id": "htNHT-ZeEhy3"
      },
      "source": [
        "**Selecting the most relevant columns :**\n",
        "\n",
        "some columns are very very relevant to the y, and some others aren't that relevant. So, the irrelevant columns should be known to try to find a solution for them"
      ]
    },
    {
      "cell_type": "code",
      "metadata": {
        "id": "FY6ppQkekTl4",
        "colab": {
          "base_uri": "https://localhost:8080/"
        },
        "outputId": "5c763216-c843-4901-ab26-95c2b19aa07b"
      },
      "source": [
        "from sklearn.feature_selection import SelectFromModel\n",
        "sel = SelectFromModel(rfr(n_estimators = 100))\n",
        "sel.fit(x_train, y_train)\n",
        "sel.get_support()\n",
        "x_train.columns[(sel.get_support())]"
      ],
      "execution_count": null,
      "outputs": [
        {
          "output_type": "execute_result",
          "data": {
            "text/plain": [
              "Index(['NumberofTweets', 'NumberofFollowing', 'NumberofFollowers'], dtype='object')"
            ]
          },
          "metadata": {},
          "execution_count": 29
        }
      ]
    },
    {
      "cell_type": "markdown",
      "metadata": {
        "id": "wyd7d9GelXxS"
      },
      "source": [
        "So it turned out, only the 'NumberofTweets', 'NumberofFollowing', 'NumberofFollowers' columns are the most relevant and informative to the model concerning the y column.\n",
        "Now, let's try to reduce the number of columns by using PCA on the least relevant columns to the y column"
      ]
    },
    {
      "cell_type": "code",
      "metadata": {
        "id": "hZ77NVMJYHs5",
        "colab": {
          "base_uri": "https://localhost:8080/"
        },
        "outputId": "d1c36fe5-aeff-4ff8-f17a-4001701f2488"
      },
      "source": [
        "d = {}\n",
        "for i in range(len(x_train.columns)-1):\n",
        "  for j in range(i+1,len(x_train.columns)):\n",
        "    aa = x_train[[x_train.columns[i],x_train.columns[j]]]\n",
        "    pca = PCA(n_components=1)\n",
        "    aa = pca.fit_transform(aa)\n",
        "    d[x_train.columns[i] + ' ' + x_train.columns[j]] = pca.explained_variance_ratio_\n",
        "d"
      ],
      "execution_count": null,
      "outputs": [
        {
          "output_type": "execute_result",
          "data": {
            "text/plain": [
              "{'NumberofFollowers Picture': array([0.83491208]),\n",
              " 'NumberofFollowers Video': array([0.89943578]),\n",
              " 'NumberofFollowers language': array([0.56701835]),\n",
              " 'NumberofFollowers numberOfHashtags': array([0.58196555]),\n",
              " 'NumberofFollowers numberOfTags': array([0.56531082]),\n",
              " 'NumberofFollowers numberOfURLs': array([0.66005943]),\n",
              " 'NumberofFollowers tweetage': array([0.7946824]),\n",
              " 'NumberofFollowing NumberofFollowers': array([0.61061803]),\n",
              " 'NumberofFollowing Picture': array([0.8197516]),\n",
              " 'NumberofFollowing Video': array([0.8894195]),\n",
              " 'NumberofFollowing language': array([0.57139652]),\n",
              " 'NumberofFollowing numberOfHashtags': array([0.59200727]),\n",
              " 'NumberofFollowing numberOfTags': array([0.58392011]),\n",
              " 'NumberofFollowing numberOfURLs': array([0.59298096]),\n",
              " 'NumberofFollowing tweetage': array([0.62670589]),\n",
              " 'NumberofTweets NumberofFollowers': array([0.92421677]),\n",
              " 'NumberofTweets NumberofFollowing': array([0.60489722]),\n",
              " 'NumberofTweets Picture': array([0.86716647]),\n",
              " 'NumberofTweets Video': array([0.92161241]),\n",
              " 'NumberofTweets language': array([0.53998707]),\n",
              " 'NumberofTweets numberOfHashtags': array([0.60247299]),\n",
              " 'NumberofTweets numberOfTags': array([0.51573804]),\n",
              " 'NumberofTweets numberOfURLs': array([0.60047641]),\n",
              " 'NumberofTweets tweetage': array([0.82807206]),\n",
              " 'Picture Video': array([0.66350633]),\n",
              " 'Picture language': array([0.85841982]),\n",
              " 'Picture numberOfHashtags': array([0.86659677]),\n",
              " 'Picture numberOfTags': array([0.86368947]),\n",
              " 'Picture numberOfURLs': array([0.85941291]),\n",
              " 'Picture tweetage': array([0.86661663]),\n",
              " 'Video language': array([0.91471817]),\n",
              " 'Video numberOfHashtags': array([0.92058358]),\n",
              " 'Video numberOfTags': array([0.91804583]),\n",
              " 'Video numberOfURLs': array([0.91456673]),\n",
              " 'Video tweetage': array([0.92088872]),\n",
              " 'numberOfHashtags language': array([0.53632243]),\n",
              " 'numberOfHashtags numberOfTags': array([0.51744866]),\n",
              " 'numberOfHashtags numberOfURLs': array([0.55734653]),\n",
              " 'numberOfTags language': array([0.5227271]),\n",
              " 'numberOfTags numberOfURLs': array([0.52954377]),\n",
              " 'numberOfURLs language': array([0.5723739]),\n",
              " 'tweetage language': array([0.52573776]),\n",
              " 'tweetage numberOfHashtags': array([0.59672481]),\n",
              " 'tweetage numberOfTags': array([0.54558102]),\n",
              " 'tweetage numberOfURLs': array([0.61757183])}"
            ]
          },
          "metadata": {},
          "execution_count": 30
        }
      ]
    },
    {
      "cell_type": "markdown",
      "metadata": {
        "id": "gSDc-Be9mwV4"
      },
      "source": [
        "So basically, the Video and Picture columns are very good for preserving the information along with any other column that is not very relevant to the model, especially NumberOfTags, NumberOfHashtags, and NumberOfLinks. It is observable that the results between these three and column Video or column Picture is very close so the selection will not be on the basis of the highest explained_variance_ratio_ value, but rather will be on the basis of how closely relevant the column is to the y column where the most relevant among the will stay 'unmerged' with another column.\n",
        "Looking back to the result that we get from the mutual information score which measures the dependance between the x columns and the y column. We got this previously :\n",
        " \n",
        "                 ['numberOfHashtags' '0.08560174137269616']\n",
        "\n",
        "                 ['numberOfTags' '0.0500935962796909']\n",
        "\n",
        "                 ['numberOfURLs' '0.04733436430045623']\n",
        "\n",
        " which indicates that we will merge the NumberOfTags and NumberOfURLs columns together with the Video and Picture columns.\n",
        "\n",
        " Choosing the correspondance of the pairs is done on the basis of the explained_variance_ratio_ value; the pairs to be putten through the PCA process are :\n",
        "\n",
        "                ['Video' , 'numberOfTags']\n",
        "                \n",
        "                ['Picture' , 'numberOfURLs']\n"
      ]
    },
    {
      "cell_type": "code",
      "metadata": {
        "id": "ZKCABuX-rJH9",
        "colab": {
          "base_uri": "https://localhost:8080/"
        },
        "outputId": "0b5f0ce9-fadb-4129-8c63-2de09d1cdc6c"
      },
      "source": [
        "videotagstrain = x_train[['Video' , 'numberOfTags']]\n",
        "picurlstrain = x_train[['Picture' , 'numberOfURLs']]\n",
        "videotagstest = x_test[['Video' , 'numberOfTags']]\n",
        "picurlstest = x_test[['Picture' , 'numberOfURLs']]\n",
        "#pcavtag = PCA(n_components=1)\n",
        "#pcapurl = PCA(n_components=1)\n",
        "#pcavtag.fit(videotagstrain)\n",
        "#pcapurl.fit(picurlstrain)\n",
        "with open('/content/drive/MyDrive/colab_datasets/twitterscraping/pcavtag.pkl', 'rb') as pkl:\n",
        "  pcavtag = pickle.load(pkl)\n",
        "with open('/content/drive/MyDrive/colab_datasets/twitterscraping/pcapurl.pkl', 'rb') as pkl:\n",
        "  pcapurl = pickle.load(pkl)\n",
        "videotagstrain = pcavtag.transform(videotagstrain)\n",
        "picurlstrain = pcapurl.transform(picurlstrain)\n",
        "x_train['VideoNTags'] = 0\n",
        "x_train['PictureNURL'] = 0\n",
        "x_train['VideoNTags'] = videotagstrain.reshape(1,-1)[0]\n",
        "x_train['PictureNURL'] = picurlstrain.reshape(1,-1)[0]\n",
        "videotagstest = pcavtag.transform(videotagstest)\n",
        "picurlstest = pcapurl.transform(picurlstest)\n",
        "x_test['VideoNTags'] = 0\n",
        "x_test['PictureNURL'] = 0\n",
        "x_test['VideoNTags'] = videotagstest.reshape(1,-1)[0]\n",
        "x_test['PictureNURL'] = picurlstest.reshape(1,-1)[0]"
      ],
      "execution_count": null,
      "outputs": [
        {
          "output_type": "stream",
          "name": "stderr",
          "text": [
            "/usr/local/lib/python3.7/dist-packages/ipykernel_launcher.py:15: SettingWithCopyWarning: \n",
            "A value is trying to be set on a copy of a slice from a DataFrame.\n",
            "Try using .loc[row_indexer,col_indexer] = value instead\n",
            "\n",
            "See the caveats in the documentation: https://pandas.pydata.org/pandas-docs/stable/user_guide/indexing.html#returning-a-view-versus-a-copy\n",
            "  from ipykernel import kernelapp as app\n",
            "/usr/local/lib/python3.7/dist-packages/ipykernel_launcher.py:16: SettingWithCopyWarning: \n",
            "A value is trying to be set on a copy of a slice from a DataFrame.\n",
            "Try using .loc[row_indexer,col_indexer] = value instead\n",
            "\n",
            "See the caveats in the documentation: https://pandas.pydata.org/pandas-docs/stable/user_guide/indexing.html#returning-a-view-versus-a-copy\n",
            "  app.launch_new_instance()\n",
            "/usr/local/lib/python3.7/dist-packages/ipykernel_launcher.py:17: SettingWithCopyWarning: \n",
            "A value is trying to be set on a copy of a slice from a DataFrame.\n",
            "Try using .loc[row_indexer,col_indexer] = value instead\n",
            "\n",
            "See the caveats in the documentation: https://pandas.pydata.org/pandas-docs/stable/user_guide/indexing.html#returning-a-view-versus-a-copy\n",
            "/usr/local/lib/python3.7/dist-packages/ipykernel_launcher.py:18: SettingWithCopyWarning: \n",
            "A value is trying to be set on a copy of a slice from a DataFrame.\n",
            "Try using .loc[row_indexer,col_indexer] = value instead\n",
            "\n",
            "See the caveats in the documentation: https://pandas.pydata.org/pandas-docs/stable/user_guide/indexing.html#returning-a-view-versus-a-copy\n",
            "/usr/local/lib/python3.7/dist-packages/ipykernel_launcher.py:21: SettingWithCopyWarning: \n",
            "A value is trying to be set on a copy of a slice from a DataFrame.\n",
            "Try using .loc[row_indexer,col_indexer] = value instead\n",
            "\n",
            "See the caveats in the documentation: https://pandas.pydata.org/pandas-docs/stable/user_guide/indexing.html#returning-a-view-versus-a-copy\n",
            "/usr/local/lib/python3.7/dist-packages/ipykernel_launcher.py:22: SettingWithCopyWarning: \n",
            "A value is trying to be set on a copy of a slice from a DataFrame.\n",
            "Try using .loc[row_indexer,col_indexer] = value instead\n",
            "\n",
            "See the caveats in the documentation: https://pandas.pydata.org/pandas-docs/stable/user_guide/indexing.html#returning-a-view-versus-a-copy\n",
            "/usr/local/lib/python3.7/dist-packages/ipykernel_launcher.py:23: SettingWithCopyWarning: \n",
            "A value is trying to be set on a copy of a slice from a DataFrame.\n",
            "Try using .loc[row_indexer,col_indexer] = value instead\n",
            "\n",
            "See the caveats in the documentation: https://pandas.pydata.org/pandas-docs/stable/user_guide/indexing.html#returning-a-view-versus-a-copy\n",
            "/usr/local/lib/python3.7/dist-packages/ipykernel_launcher.py:24: SettingWithCopyWarning: \n",
            "A value is trying to be set on a copy of a slice from a DataFrame.\n",
            "Try using .loc[row_indexer,col_indexer] = value instead\n",
            "\n",
            "See the caveats in the documentation: https://pandas.pydata.org/pandas-docs/stable/user_guide/indexing.html#returning-a-view-versus-a-copy\n"
          ]
        }
      ]
    },
    {
      "cell_type": "code",
      "metadata": {
        "id": "ZPtjpEq6xegv"
      },
      "source": [
        "x_train = x_train.drop(columns=['Video' , 'numberOfTags' , 'Picture' , 'numberOfURLs'])\n",
        "x_test = x_test.drop(columns=['Video' , 'numberOfTags' , 'Picture' , 'numberOfURLs'])"
      ],
      "execution_count": null,
      "outputs": []
    },
    {
      "cell_type": "markdown",
      "metadata": {
        "id": "LmU2M9mSC3MK"
      },
      "source": [
        "**HyperParameter tuning :**\n",
        "\n",
        "The RandomForestRegressor model will be used due to its good reoutation in finding a good estimator and the fact that it doesn't overfit easily. So a hyperparameter tuning procedure is necessary to get a good estimator"
      ]
    },
    {
      "cell_type": "code",
      "metadata": {
        "id": "wdZnr1Kk49UF",
        "colab": {
          "base_uri": "https://localhost:8080/"
        },
        "outputId": "4e62766c-b7e8-49fe-cc9e-28f93ca3bcb1"
      },
      "source": [
        "param_grid = {\n",
        "    'bootstrap': [True],\n",
        "    'max_depth': [2, 12],\n",
        "    'n_estimators': [10, 50, 70, 100]\n",
        "}\n",
        "rrf = rfr()\n",
        "grids_search = GridSearchCV(estimator = rrf, param_grid = param_grid,\n",
        "                          cv = 10, n_jobs = -1, verbose = 2)\n",
        "grids_search.fit(x_train,y_train)\n",
        "classfff = grids_search.best_estimator_\n",
        "y_preds = classfff.predict(x_test)\n",
        "y_t = y_test.apply(lambda x: 10**x)- 1\n",
        "y_preds = pd.Series(y_preds).apply(lambda x: 10**x) - 1\n",
        "vals_error = mean_absolute_error(y_t, y_preds)\n",
        "vals_error"
      ],
      "execution_count": null,
      "outputs": [
        {
          "output_type": "stream",
          "name": "stdout",
          "text": [
            "Fitting 10 folds for each of 8 candidates, totalling 80 fits\n"
          ]
        },
        {
          "output_type": "stream",
          "name": "stderr",
          "text": [
            "[Parallel(n_jobs=-1)]: Using backend LokyBackend with 2 concurrent workers.\n",
            "[Parallel(n_jobs=-1)]: Done  37 tasks      | elapsed:    3.6s\n",
            "[Parallel(n_jobs=-1)]: Done  80 out of  80 | elapsed:   10.6s finished\n"
          ]
        },
        {
          "output_type": "execute_result",
          "data": {
            "text/plain": [
              "12.241786174161582"
            ]
          },
          "metadata": {},
          "execution_count": 33
        }
      ]
    },
    {
      "cell_type": "code",
      "metadata": {
        "colab": {
          "base_uri": "https://localhost:8080/"
        },
        "id": "f7E26RsZ6rEd",
        "outputId": "21c62e30-ad0e-427d-f0df-657d753a2856"
      },
      "source": [
        "(1/y_test.shape[0])*(y_test - y_preds).abs().divide(y_test + 1,fill_value=0).sum()"
      ],
      "execution_count": null,
      "outputs": [
        {
          "output_type": "execute_result",
          "data": {
            "text/plain": [
              "0.20855387244792295"
            ]
          },
          "metadata": {},
          "execution_count": 34
        }
      ]
    },
    {
      "cell_type": "code",
      "metadata": {
        "colab": {
          "base_uri": "https://localhost:8080/"
        },
        "id": "sgdkOm-FaEjq",
        "outputId": "25f4163b-7278-4db0-f806-393615ddbae7"
      },
      "source": [
        "(y_train.apply(lambda x: 10**x) - 1).mean()"
      ],
      "execution_count": null,
      "outputs": [
        {
          "output_type": "execute_result",
          "data": {
            "text/plain": [
              "19.25359911406423"
            ]
          },
          "metadata": {},
          "execution_count": 35
        }
      ]
    },
    {
      "cell_type": "code",
      "metadata": {
        "colab": {
          "base_uri": "https://localhost:8080/"
        },
        "id": "AM4mrrHRaXFs",
        "outputId": "40067970-76a0-4c15-ccd3-e3f8921525fb"
      },
      "source": [
        "y_test.median()"
      ],
      "execution_count": null,
      "outputs": [
        {
          "output_type": "execute_result",
          "data": {
            "text/plain": [
              "1.0"
            ]
          },
          "metadata": {},
          "execution_count": 36
        }
      ]
    },
    {
      "cell_type": "code",
      "metadata": {
        "id": "HVoGs5Z91JVO",
        "colab": {
          "base_uri": "https://localhost:8080/",
          "height": 527
        },
        "outputId": "964dd8b8-d512-40fe-c109-b02aebca92bd"
      },
      "source": [
        "param_grid = {'bootstrap': [True],\n",
        " 'criterion': ['mse'],\n",
        " 'max_depth': [2, 12],\n",
        " 'n_estimators': [100, 200, 300, 1000],\n",
        " 'max_features': [3 , 5 , 10],\n",
        " 'min_samples_leaf': [3, 4, 5],\n",
        " 'min_samples_split': [8, 10, 12],\n",
        " 'max_leaf_nodes': [None],\n",
        " 'min_impurity_decrease': [0.0],\n",
        " 'min_impurity_split': [None],\n",
        " 'min_weight_fraction_leaf': [0.0],\n",
        " 'oob_score': [False],\n",
        " 'random_state': [42],\n",
        " 'warm_start': [True,False],\n",
        " }\n",
        "rrf = rfr()\n",
        "grids_search = GridSearchCV(estimator = rrf, param_grid = param_grid,\n",
        "                          cv = 10, n_jobs = -1, verbose = 2)\n",
        "grids_search.fit(x_train,y_train)\n",
        "classfff = grids_search.best_estimator_\n",
        "y_t = y_test.apply(lambda x: 10**x)- 1\n",
        "y_preds = classfff.predict(x_test)\n",
        "vals_error = mean_absolute_error(y_t, y_preds)\n",
        "vals_error"
      ],
      "execution_count": null,
      "outputs": [
        {
          "output_type": "stream",
          "name": "stdout",
          "text": [
            "Fitting 10 folds for each of 432 candidates, totalling 4320 fits\n"
          ]
        },
        {
          "output_type": "stream",
          "name": "stderr",
          "text": [
            "[Parallel(n_jobs=-1)]: Using backend LokyBackend with 2 concurrent workers.\n",
            "[Parallel(n_jobs=-1)]: Done  37 tasks      | elapsed:    5.6s\n",
            "[Parallel(n_jobs=-1)]: Done 158 tasks      | elapsed:   59.1s\n",
            "[Parallel(n_jobs=-1)]: Done 361 tasks      | elapsed:  2.1min\n",
            "[Parallel(n_jobs=-1)]: Done 644 tasks      | elapsed:  4.1min\n",
            "[Parallel(n_jobs=-1)]: Done 1009 tasks      | elapsed:  6.4min\n",
            "[Parallel(n_jobs=-1)]: Done 1454 tasks      | elapsed:  9.5min\n",
            "[Parallel(n_jobs=-1)]: Done 2291 tasks      | elapsed: 11.9min\n"
          ]
        },
        {
          "output_type": "error",
          "ename": "KeyboardInterrupt",
          "evalue": "ignored",
          "traceback": [
            "\u001b[0;31m---------------------------------------------------------------------------\u001b[0m",
            "\u001b[0;31mKeyboardInterrupt\u001b[0m                         Traceback (most recent call last)",
            "\u001b[0;32m<ipython-input-37-174dc4c91cdc>\u001b[0m in \u001b[0;36m<module>\u001b[0;34m()\u001b[0m\n\u001b[1;32m     17\u001b[0m grids_search = GridSearchCV(estimator = rrf, param_grid = param_grid,\n\u001b[1;32m     18\u001b[0m                           cv = 10, n_jobs = -1, verbose = 2)\n\u001b[0;32m---> 19\u001b[0;31m \u001b[0mgrids_search\u001b[0m\u001b[0;34m.\u001b[0m\u001b[0mfit\u001b[0m\u001b[0;34m(\u001b[0m\u001b[0mx_train\u001b[0m\u001b[0;34m,\u001b[0m\u001b[0my_train\u001b[0m\u001b[0;34m)\u001b[0m\u001b[0;34m\u001b[0m\u001b[0;34m\u001b[0m\u001b[0m\n\u001b[0m\u001b[1;32m     20\u001b[0m \u001b[0mclassfff\u001b[0m \u001b[0;34m=\u001b[0m \u001b[0mgrids_search\u001b[0m\u001b[0;34m.\u001b[0m\u001b[0mbest_estimator_\u001b[0m\u001b[0;34m\u001b[0m\u001b[0;34m\u001b[0m\u001b[0m\n\u001b[1;32m     21\u001b[0m \u001b[0my_t\u001b[0m \u001b[0;34m=\u001b[0m \u001b[0my_test\u001b[0m\u001b[0;34m.\u001b[0m\u001b[0mapply\u001b[0m\u001b[0;34m(\u001b[0m\u001b[0;32mlambda\u001b[0m \u001b[0mx\u001b[0m\u001b[0;34m:\u001b[0m \u001b[0;36m10\u001b[0m\u001b[0;34m**\u001b[0m\u001b[0mx\u001b[0m\u001b[0;34m)\u001b[0m\u001b[0;34m-\u001b[0m \u001b[0;36m1\u001b[0m\u001b[0;34m\u001b[0m\u001b[0;34m\u001b[0m\u001b[0m\n",
            "\u001b[0;32m/usr/local/lib/python3.7/dist-packages/sklearn/model_selection/_search.py\u001b[0m in \u001b[0;36mfit\u001b[0;34m(self, X, y, groups, **fit_params)\u001b[0m\n\u001b[1;32m    708\u001b[0m                 \u001b[0;32mreturn\u001b[0m \u001b[0mresults\u001b[0m\u001b[0;34m\u001b[0m\u001b[0;34m\u001b[0m\u001b[0m\n\u001b[1;32m    709\u001b[0m \u001b[0;34m\u001b[0m\u001b[0m\n\u001b[0;32m--> 710\u001b[0;31m             \u001b[0mself\u001b[0m\u001b[0;34m.\u001b[0m\u001b[0m_run_search\u001b[0m\u001b[0;34m(\u001b[0m\u001b[0mevaluate_candidates\u001b[0m\u001b[0;34m)\u001b[0m\u001b[0;34m\u001b[0m\u001b[0;34m\u001b[0m\u001b[0m\n\u001b[0m\u001b[1;32m    711\u001b[0m \u001b[0;34m\u001b[0m\u001b[0m\n\u001b[1;32m    712\u001b[0m         \u001b[0;31m# For multi-metric evaluation, store the best_index_, best_params_ and\u001b[0m\u001b[0;34m\u001b[0m\u001b[0;34m\u001b[0m\u001b[0;34m\u001b[0m\u001b[0m\n",
            "\u001b[0;32m/usr/local/lib/python3.7/dist-packages/sklearn/model_selection/_search.py\u001b[0m in \u001b[0;36m_run_search\u001b[0;34m(self, evaluate_candidates)\u001b[0m\n\u001b[1;32m   1149\u001b[0m     \u001b[0;32mdef\u001b[0m \u001b[0m_run_search\u001b[0m\u001b[0;34m(\u001b[0m\u001b[0mself\u001b[0m\u001b[0;34m,\u001b[0m \u001b[0mevaluate_candidates\u001b[0m\u001b[0;34m)\u001b[0m\u001b[0;34m:\u001b[0m\u001b[0;34m\u001b[0m\u001b[0;34m\u001b[0m\u001b[0m\n\u001b[1;32m   1150\u001b[0m         \u001b[0;34m\"\"\"Search all candidates in param_grid\"\"\"\u001b[0m\u001b[0;34m\u001b[0m\u001b[0;34m\u001b[0m\u001b[0m\n\u001b[0;32m-> 1151\u001b[0;31m         \u001b[0mevaluate_candidates\u001b[0m\u001b[0;34m(\u001b[0m\u001b[0mParameterGrid\u001b[0m\u001b[0;34m(\u001b[0m\u001b[0mself\u001b[0m\u001b[0;34m.\u001b[0m\u001b[0mparam_grid\u001b[0m\u001b[0;34m)\u001b[0m\u001b[0;34m)\u001b[0m\u001b[0;34m\u001b[0m\u001b[0;34m\u001b[0m\u001b[0m\n\u001b[0m\u001b[1;32m   1152\u001b[0m \u001b[0;34m\u001b[0m\u001b[0m\n\u001b[1;32m   1153\u001b[0m \u001b[0;34m\u001b[0m\u001b[0m\n",
            "\u001b[0;32m/usr/local/lib/python3.7/dist-packages/sklearn/model_selection/_search.py\u001b[0m in \u001b[0;36mevaluate_candidates\u001b[0;34m(candidate_params)\u001b[0m\n\u001b[1;32m    687\u001b[0m                                \u001b[0;32mfor\u001b[0m \u001b[0mparameters\u001b[0m\u001b[0;34m,\u001b[0m \u001b[0;34m(\u001b[0m\u001b[0mtrain\u001b[0m\u001b[0;34m,\u001b[0m \u001b[0mtest\u001b[0m\u001b[0;34m)\u001b[0m\u001b[0;34m\u001b[0m\u001b[0;34m\u001b[0m\u001b[0m\n\u001b[1;32m    688\u001b[0m                                in product(candidate_params,\n\u001b[0;32m--> 689\u001b[0;31m                                           cv.split(X, y, groups)))\n\u001b[0m\u001b[1;32m    690\u001b[0m \u001b[0;34m\u001b[0m\u001b[0m\n\u001b[1;32m    691\u001b[0m                 \u001b[0;32mif\u001b[0m \u001b[0mlen\u001b[0m\u001b[0;34m(\u001b[0m\u001b[0mout\u001b[0m\u001b[0;34m)\u001b[0m \u001b[0;34m<\u001b[0m \u001b[0;36m1\u001b[0m\u001b[0;34m:\u001b[0m\u001b[0;34m\u001b[0m\u001b[0;34m\u001b[0m\u001b[0m\n",
            "\u001b[0;32m/usr/local/lib/python3.7/dist-packages/joblib/parallel.py\u001b[0m in \u001b[0;36m__call__\u001b[0;34m(self, iterable)\u001b[0m\n\u001b[1;32m   1052\u001b[0m \u001b[0;34m\u001b[0m\u001b[0m\n\u001b[1;32m   1053\u001b[0m             \u001b[0;32mwith\u001b[0m \u001b[0mself\u001b[0m\u001b[0;34m.\u001b[0m\u001b[0m_backend\u001b[0m\u001b[0;34m.\u001b[0m\u001b[0mretrieval_context\u001b[0m\u001b[0;34m(\u001b[0m\u001b[0;34m)\u001b[0m\u001b[0;34m:\u001b[0m\u001b[0;34m\u001b[0m\u001b[0;34m\u001b[0m\u001b[0m\n\u001b[0;32m-> 1054\u001b[0;31m                 \u001b[0mself\u001b[0m\u001b[0;34m.\u001b[0m\u001b[0mretrieve\u001b[0m\u001b[0;34m(\u001b[0m\u001b[0;34m)\u001b[0m\u001b[0;34m\u001b[0m\u001b[0;34m\u001b[0m\u001b[0m\n\u001b[0m\u001b[1;32m   1055\u001b[0m             \u001b[0;31m# Make sure that we get a last message telling us we are done\u001b[0m\u001b[0;34m\u001b[0m\u001b[0;34m\u001b[0m\u001b[0;34m\u001b[0m\u001b[0m\n\u001b[1;32m   1056\u001b[0m             \u001b[0melapsed_time\u001b[0m \u001b[0;34m=\u001b[0m \u001b[0mtime\u001b[0m\u001b[0;34m.\u001b[0m\u001b[0mtime\u001b[0m\u001b[0;34m(\u001b[0m\u001b[0;34m)\u001b[0m \u001b[0;34m-\u001b[0m \u001b[0mself\u001b[0m\u001b[0;34m.\u001b[0m\u001b[0m_start_time\u001b[0m\u001b[0;34m\u001b[0m\u001b[0;34m\u001b[0m\u001b[0m\n",
            "\u001b[0;32m/usr/local/lib/python3.7/dist-packages/joblib/parallel.py\u001b[0m in \u001b[0;36mretrieve\u001b[0;34m(self)\u001b[0m\n\u001b[1;32m    931\u001b[0m             \u001b[0;32mtry\u001b[0m\u001b[0;34m:\u001b[0m\u001b[0;34m\u001b[0m\u001b[0;34m\u001b[0m\u001b[0m\n\u001b[1;32m    932\u001b[0m                 \u001b[0;32mif\u001b[0m \u001b[0mgetattr\u001b[0m\u001b[0;34m(\u001b[0m\u001b[0mself\u001b[0m\u001b[0;34m.\u001b[0m\u001b[0m_backend\u001b[0m\u001b[0;34m,\u001b[0m \u001b[0;34m'supports_timeout'\u001b[0m\u001b[0;34m,\u001b[0m \u001b[0;32mFalse\u001b[0m\u001b[0;34m)\u001b[0m\u001b[0;34m:\u001b[0m\u001b[0;34m\u001b[0m\u001b[0;34m\u001b[0m\u001b[0m\n\u001b[0;32m--> 933\u001b[0;31m                     \u001b[0mself\u001b[0m\u001b[0;34m.\u001b[0m\u001b[0m_output\u001b[0m\u001b[0;34m.\u001b[0m\u001b[0mextend\u001b[0m\u001b[0;34m(\u001b[0m\u001b[0mjob\u001b[0m\u001b[0;34m.\u001b[0m\u001b[0mget\u001b[0m\u001b[0;34m(\u001b[0m\u001b[0mtimeout\u001b[0m\u001b[0;34m=\u001b[0m\u001b[0mself\u001b[0m\u001b[0;34m.\u001b[0m\u001b[0mtimeout\u001b[0m\u001b[0;34m)\u001b[0m\u001b[0;34m)\u001b[0m\u001b[0;34m\u001b[0m\u001b[0;34m\u001b[0m\u001b[0m\n\u001b[0m\u001b[1;32m    934\u001b[0m                 \u001b[0;32melse\u001b[0m\u001b[0;34m:\u001b[0m\u001b[0;34m\u001b[0m\u001b[0;34m\u001b[0m\u001b[0m\n\u001b[1;32m    935\u001b[0m                     \u001b[0mself\u001b[0m\u001b[0;34m.\u001b[0m\u001b[0m_output\u001b[0m\u001b[0;34m.\u001b[0m\u001b[0mextend\u001b[0m\u001b[0;34m(\u001b[0m\u001b[0mjob\u001b[0m\u001b[0;34m.\u001b[0m\u001b[0mget\u001b[0m\u001b[0;34m(\u001b[0m\u001b[0;34m)\u001b[0m\u001b[0;34m)\u001b[0m\u001b[0;34m\u001b[0m\u001b[0;34m\u001b[0m\u001b[0m\n",
            "\u001b[0;32m/usr/local/lib/python3.7/dist-packages/joblib/_parallel_backends.py\u001b[0m in \u001b[0;36mwrap_future_result\u001b[0;34m(future, timeout)\u001b[0m\n\u001b[1;32m    540\u001b[0m         AsyncResults.get from multiprocessing.\"\"\"\n\u001b[1;32m    541\u001b[0m         \u001b[0;32mtry\u001b[0m\u001b[0;34m:\u001b[0m\u001b[0;34m\u001b[0m\u001b[0;34m\u001b[0m\u001b[0m\n\u001b[0;32m--> 542\u001b[0;31m             \u001b[0;32mreturn\u001b[0m \u001b[0mfuture\u001b[0m\u001b[0;34m.\u001b[0m\u001b[0mresult\u001b[0m\u001b[0;34m(\u001b[0m\u001b[0mtimeout\u001b[0m\u001b[0;34m=\u001b[0m\u001b[0mtimeout\u001b[0m\u001b[0;34m)\u001b[0m\u001b[0;34m\u001b[0m\u001b[0;34m\u001b[0m\u001b[0m\n\u001b[0m\u001b[1;32m    543\u001b[0m         \u001b[0;32mexcept\u001b[0m \u001b[0mCfTimeoutError\u001b[0m \u001b[0;32mas\u001b[0m \u001b[0me\u001b[0m\u001b[0;34m:\u001b[0m\u001b[0;34m\u001b[0m\u001b[0;34m\u001b[0m\u001b[0m\n\u001b[1;32m    544\u001b[0m             \u001b[0;32mraise\u001b[0m \u001b[0mTimeoutError\u001b[0m \u001b[0;32mfrom\u001b[0m \u001b[0me\u001b[0m\u001b[0;34m\u001b[0m\u001b[0;34m\u001b[0m\u001b[0m\n",
            "\u001b[0;32m/usr/lib/python3.7/concurrent/futures/_base.py\u001b[0m in \u001b[0;36mresult\u001b[0;34m(self, timeout)\u001b[0m\n\u001b[1;32m    428\u001b[0m                 \u001b[0;32mreturn\u001b[0m \u001b[0mself\u001b[0m\u001b[0;34m.\u001b[0m\u001b[0m__get_result\u001b[0m\u001b[0;34m(\u001b[0m\u001b[0;34m)\u001b[0m\u001b[0;34m\u001b[0m\u001b[0;34m\u001b[0m\u001b[0m\n\u001b[1;32m    429\u001b[0m \u001b[0;34m\u001b[0m\u001b[0m\n\u001b[0;32m--> 430\u001b[0;31m             \u001b[0mself\u001b[0m\u001b[0;34m.\u001b[0m\u001b[0m_condition\u001b[0m\u001b[0;34m.\u001b[0m\u001b[0mwait\u001b[0m\u001b[0;34m(\u001b[0m\u001b[0mtimeout\u001b[0m\u001b[0;34m)\u001b[0m\u001b[0;34m\u001b[0m\u001b[0;34m\u001b[0m\u001b[0m\n\u001b[0m\u001b[1;32m    431\u001b[0m \u001b[0;34m\u001b[0m\u001b[0m\n\u001b[1;32m    432\u001b[0m             \u001b[0;32mif\u001b[0m \u001b[0mself\u001b[0m\u001b[0;34m.\u001b[0m\u001b[0m_state\u001b[0m \u001b[0;32min\u001b[0m \u001b[0;34m[\u001b[0m\u001b[0mCANCELLED\u001b[0m\u001b[0;34m,\u001b[0m \u001b[0mCANCELLED_AND_NOTIFIED\u001b[0m\u001b[0;34m]\u001b[0m\u001b[0;34m:\u001b[0m\u001b[0;34m\u001b[0m\u001b[0;34m\u001b[0m\u001b[0m\n",
            "\u001b[0;32m/usr/lib/python3.7/threading.py\u001b[0m in \u001b[0;36mwait\u001b[0;34m(self, timeout)\u001b[0m\n\u001b[1;32m    294\u001b[0m         \u001b[0;32mtry\u001b[0m\u001b[0;34m:\u001b[0m    \u001b[0;31m# restore state no matter what (e.g., KeyboardInterrupt)\u001b[0m\u001b[0;34m\u001b[0m\u001b[0;34m\u001b[0m\u001b[0m\n\u001b[1;32m    295\u001b[0m             \u001b[0;32mif\u001b[0m \u001b[0mtimeout\u001b[0m \u001b[0;32mis\u001b[0m \u001b[0;32mNone\u001b[0m\u001b[0;34m:\u001b[0m\u001b[0;34m\u001b[0m\u001b[0;34m\u001b[0m\u001b[0m\n\u001b[0;32m--> 296\u001b[0;31m                 \u001b[0mwaiter\u001b[0m\u001b[0;34m.\u001b[0m\u001b[0macquire\u001b[0m\u001b[0;34m(\u001b[0m\u001b[0;34m)\u001b[0m\u001b[0;34m\u001b[0m\u001b[0;34m\u001b[0m\u001b[0m\n\u001b[0m\u001b[1;32m    297\u001b[0m                 \u001b[0mgotit\u001b[0m \u001b[0;34m=\u001b[0m \u001b[0;32mTrue\u001b[0m\u001b[0;34m\u001b[0m\u001b[0;34m\u001b[0m\u001b[0m\n\u001b[1;32m    298\u001b[0m             \u001b[0;32melse\u001b[0m\u001b[0;34m:\u001b[0m\u001b[0;34m\u001b[0m\u001b[0;34m\u001b[0m\u001b[0m\n",
            "\u001b[0;31mKeyboardInterrupt\u001b[0m: "
          ]
        }
      ]
    },
    {
      "cell_type": "code",
      "metadata": {
        "colab": {
          "base_uri": "https://localhost:8080/"
        },
        "id": "m9e8C5bNEbTO",
        "outputId": "b317f10e-4e00-4a49-d3fa-c081274f7b15"
      },
      "source": [
        "best = RandomForestRegressor(bootstrap=True, ccp_alpha=0.0, criterion='mse',\n",
        "                      max_depth=12, max_features=5, max_leaf_nodes=None,\n",
        "                      max_samples=None, min_impurity_decrease=0.0,\n",
        "                      min_impurity_split=None, min_samples_leaf=3,\n",
        "                      min_samples_split=8, min_weight_fraction_leaf=0.0,\n",
        "                      n_estimators=200, n_jobs=None, oob_score=False,\n",
        "                      random_state=42, verbose=0, warm_start=True)\n",
        "best.fit(x_train,y_train)\n",
        "y_t = y_test.apply(lambda x: 10**x)- 1\n",
        "y_preds = pd.Series(best.predict(x_test)).apply(lambda x: 10**x)- 1\n",
        "vals_error = mean_absolute_error(y_t, y_preds)\n",
        "vals_error"
      ],
      "execution_count": null,
      "outputs": [
        {
          "output_type": "execute_result",
          "data": {
            "text/plain": [
              "12.588010001158043"
            ]
          },
          "metadata": {},
          "execution_count": 38
        }
      ]
    },
    {
      "cell_type": "code",
      "metadata": {
        "id": "rJy4he7NMykO",
        "colab": {
          "base_uri": "https://localhost:8080/",
          "height": 1000
        },
        "outputId": "fef81950-f488-4626-b92c-c58585f74064"
      },
      "source": [
        "p = [y_t.reset_index().drop(columns=['index']),y_preds.astype('int64')]\n",
        "pd.concat(p,axis=1).head(60)"
      ],
      "execution_count": null,
      "outputs": [
        {
          "output_type": "execute_result",
          "data": {
            "text/html": [
              "<div>\n",
              "<style scoped>\n",
              "    .dataframe tbody tr th:only-of-type {\n",
              "        vertical-align: middle;\n",
              "    }\n",
              "\n",
              "    .dataframe tbody tr th {\n",
              "        vertical-align: top;\n",
              "    }\n",
              "\n",
              "    .dataframe thead th {\n",
              "        text-align: right;\n",
              "    }\n",
              "</style>\n",
              "<table border=\"1\" class=\"dataframe\">\n",
              "  <thead>\n",
              "    <tr style=\"text-align: right;\">\n",
              "      <th></th>\n",
              "      <th>NumberOfLikes</th>\n",
              "      <th>0</th>\n",
              "    </tr>\n",
              "  </thead>\n",
              "  <tbody>\n",
              "    <tr>\n",
              "      <th>0</th>\n",
              "      <td>18.0</td>\n",
              "      <td>10</td>\n",
              "    </tr>\n",
              "    <tr>\n",
              "      <th>1</th>\n",
              "      <td>8.0</td>\n",
              "      <td>7</td>\n",
              "    </tr>\n",
              "    <tr>\n",
              "      <th>2</th>\n",
              "      <td>71.0</td>\n",
              "      <td>3</td>\n",
              "    </tr>\n",
              "    <tr>\n",
              "      <th>3</th>\n",
              "      <td>0.0</td>\n",
              "      <td>5</td>\n",
              "    </tr>\n",
              "    <tr>\n",
              "      <th>4</th>\n",
              "      <td>1.0</td>\n",
              "      <td>3</td>\n",
              "    </tr>\n",
              "    <tr>\n",
              "      <th>5</th>\n",
              "      <td>1.0</td>\n",
              "      <td>5</td>\n",
              "    </tr>\n",
              "    <tr>\n",
              "      <th>6</th>\n",
              "      <td>81.0</td>\n",
              "      <td>75</td>\n",
              "    </tr>\n",
              "    <tr>\n",
              "      <th>7</th>\n",
              "      <td>17.0</td>\n",
              "      <td>15</td>\n",
              "    </tr>\n",
              "    <tr>\n",
              "      <th>8</th>\n",
              "      <td>2.0</td>\n",
              "      <td>5</td>\n",
              "    </tr>\n",
              "    <tr>\n",
              "      <th>9</th>\n",
              "      <td>28.0</td>\n",
              "      <td>10</td>\n",
              "    </tr>\n",
              "    <tr>\n",
              "      <th>10</th>\n",
              "      <td>12.0</td>\n",
              "      <td>15</td>\n",
              "    </tr>\n",
              "    <tr>\n",
              "      <th>11</th>\n",
              "      <td>15.0</td>\n",
              "      <td>10</td>\n",
              "    </tr>\n",
              "    <tr>\n",
              "      <th>12</th>\n",
              "      <td>52.0</td>\n",
              "      <td>65</td>\n",
              "    </tr>\n",
              "    <tr>\n",
              "      <th>13</th>\n",
              "      <td>9.0</td>\n",
              "      <td>7</td>\n",
              "    </tr>\n",
              "    <tr>\n",
              "      <th>14</th>\n",
              "      <td>76.0</td>\n",
              "      <td>4</td>\n",
              "    </tr>\n",
              "    <tr>\n",
              "      <th>15</th>\n",
              "      <td>19.0</td>\n",
              "      <td>17</td>\n",
              "    </tr>\n",
              "    <tr>\n",
              "      <th>16</th>\n",
              "      <td>61.0</td>\n",
              "      <td>62</td>\n",
              "    </tr>\n",
              "    <tr>\n",
              "      <th>17</th>\n",
              "      <td>15.0</td>\n",
              "      <td>10</td>\n",
              "    </tr>\n",
              "    <tr>\n",
              "      <th>18</th>\n",
              "      <td>78.0</td>\n",
              "      <td>19</td>\n",
              "    </tr>\n",
              "    <tr>\n",
              "      <th>19</th>\n",
              "      <td>37.0</td>\n",
              "      <td>4</td>\n",
              "    </tr>\n",
              "    <tr>\n",
              "      <th>20</th>\n",
              "      <td>90.0</td>\n",
              "      <td>55</td>\n",
              "    </tr>\n",
              "    <tr>\n",
              "      <th>21</th>\n",
              "      <td>12.0</td>\n",
              "      <td>8</td>\n",
              "    </tr>\n",
              "    <tr>\n",
              "      <th>22</th>\n",
              "      <td>20.0</td>\n",
              "      <td>6</td>\n",
              "    </tr>\n",
              "    <tr>\n",
              "      <th>23</th>\n",
              "      <td>1.0</td>\n",
              "      <td>3</td>\n",
              "    </tr>\n",
              "    <tr>\n",
              "      <th>24</th>\n",
              "      <td>1.0</td>\n",
              "      <td>3</td>\n",
              "    </tr>\n",
              "    <tr>\n",
              "      <th>25</th>\n",
              "      <td>38.0</td>\n",
              "      <td>6</td>\n",
              "    </tr>\n",
              "    <tr>\n",
              "      <th>26</th>\n",
              "      <td>45.0</td>\n",
              "      <td>6</td>\n",
              "    </tr>\n",
              "    <tr>\n",
              "      <th>27</th>\n",
              "      <td>21.0</td>\n",
              "      <td>9</td>\n",
              "    </tr>\n",
              "    <tr>\n",
              "      <th>28</th>\n",
              "      <td>21.0</td>\n",
              "      <td>8</td>\n",
              "    </tr>\n",
              "    <tr>\n",
              "      <th>29</th>\n",
              "      <td>29.0</td>\n",
              "      <td>4</td>\n",
              "    </tr>\n",
              "    <tr>\n",
              "      <th>30</th>\n",
              "      <td>24.0</td>\n",
              "      <td>6</td>\n",
              "    </tr>\n",
              "    <tr>\n",
              "      <th>31</th>\n",
              "      <td>1.0</td>\n",
              "      <td>3</td>\n",
              "    </tr>\n",
              "    <tr>\n",
              "      <th>32</th>\n",
              "      <td>2.0</td>\n",
              "      <td>9</td>\n",
              "    </tr>\n",
              "    <tr>\n",
              "      <th>33</th>\n",
              "      <td>25.0</td>\n",
              "      <td>10</td>\n",
              "    </tr>\n",
              "    <tr>\n",
              "      <th>34</th>\n",
              "      <td>33.0</td>\n",
              "      <td>8</td>\n",
              "    </tr>\n",
              "    <tr>\n",
              "      <th>35</th>\n",
              "      <td>38.0</td>\n",
              "      <td>29</td>\n",
              "    </tr>\n",
              "    <tr>\n",
              "      <th>36</th>\n",
              "      <td>5.0</td>\n",
              "      <td>5</td>\n",
              "    </tr>\n",
              "    <tr>\n",
              "      <th>37</th>\n",
              "      <td>28.0</td>\n",
              "      <td>34</td>\n",
              "    </tr>\n",
              "    <tr>\n",
              "      <th>38</th>\n",
              "      <td>3.0</td>\n",
              "      <td>2</td>\n",
              "    </tr>\n",
              "    <tr>\n",
              "      <th>39</th>\n",
              "      <td>32.0</td>\n",
              "      <td>22</td>\n",
              "    </tr>\n",
              "    <tr>\n",
              "      <th>40</th>\n",
              "      <td>3.0</td>\n",
              "      <td>5</td>\n",
              "    </tr>\n",
              "    <tr>\n",
              "      <th>41</th>\n",
              "      <td>1.0</td>\n",
              "      <td>4</td>\n",
              "    </tr>\n",
              "    <tr>\n",
              "      <th>42</th>\n",
              "      <td>11.0</td>\n",
              "      <td>38</td>\n",
              "    </tr>\n",
              "    <tr>\n",
              "      <th>43</th>\n",
              "      <td>2.0</td>\n",
              "      <td>2</td>\n",
              "    </tr>\n",
              "    <tr>\n",
              "      <th>44</th>\n",
              "      <td>1.0</td>\n",
              "      <td>7</td>\n",
              "    </tr>\n",
              "    <tr>\n",
              "      <th>45</th>\n",
              "      <td>19.0</td>\n",
              "      <td>6</td>\n",
              "    </tr>\n",
              "    <tr>\n",
              "      <th>46</th>\n",
              "      <td>58.0</td>\n",
              "      <td>65</td>\n",
              "    </tr>\n",
              "    <tr>\n",
              "      <th>47</th>\n",
              "      <td>4.0</td>\n",
              "      <td>5</td>\n",
              "    </tr>\n",
              "    <tr>\n",
              "      <th>48</th>\n",
              "      <td>9.0</td>\n",
              "      <td>7</td>\n",
              "    </tr>\n",
              "    <tr>\n",
              "      <th>49</th>\n",
              "      <td>2.0</td>\n",
              "      <td>2</td>\n",
              "    </tr>\n",
              "    <tr>\n",
              "      <th>50</th>\n",
              "      <td>1.0</td>\n",
              "      <td>1</td>\n",
              "    </tr>\n",
              "    <tr>\n",
              "      <th>51</th>\n",
              "      <td>1.0</td>\n",
              "      <td>1</td>\n",
              "    </tr>\n",
              "    <tr>\n",
              "      <th>52</th>\n",
              "      <td>4.0</td>\n",
              "      <td>3</td>\n",
              "    </tr>\n",
              "    <tr>\n",
              "      <th>53</th>\n",
              "      <td>64.0</td>\n",
              "      <td>4</td>\n",
              "    </tr>\n",
              "    <tr>\n",
              "      <th>54</th>\n",
              "      <td>13.0</td>\n",
              "      <td>8</td>\n",
              "    </tr>\n",
              "    <tr>\n",
              "      <th>55</th>\n",
              "      <td>28.0</td>\n",
              "      <td>3</td>\n",
              "    </tr>\n",
              "    <tr>\n",
              "      <th>56</th>\n",
              "      <td>12.0</td>\n",
              "      <td>3</td>\n",
              "    </tr>\n",
              "    <tr>\n",
              "      <th>57</th>\n",
              "      <td>18.0</td>\n",
              "      <td>16</td>\n",
              "    </tr>\n",
              "    <tr>\n",
              "      <th>58</th>\n",
              "      <td>6.0</td>\n",
              "      <td>4</td>\n",
              "    </tr>\n",
              "    <tr>\n",
              "      <th>59</th>\n",
              "      <td>3.0</td>\n",
              "      <td>1</td>\n",
              "    </tr>\n",
              "  </tbody>\n",
              "</table>\n",
              "</div>"
            ],
            "text/plain": [
              "    NumberOfLikes   0\n",
              "0            18.0  10\n",
              "1             8.0   7\n",
              "2            71.0   3\n",
              "3             0.0   5\n",
              "4             1.0   3\n",
              "5             1.0   5\n",
              "6            81.0  75\n",
              "7            17.0  15\n",
              "8             2.0   5\n",
              "9            28.0  10\n",
              "10           12.0  15\n",
              "11           15.0  10\n",
              "12           52.0  65\n",
              "13            9.0   7\n",
              "14           76.0   4\n",
              "15           19.0  17\n",
              "16           61.0  62\n",
              "17           15.0  10\n",
              "18           78.0  19\n",
              "19           37.0   4\n",
              "20           90.0  55\n",
              "21           12.0   8\n",
              "22           20.0   6\n",
              "23            1.0   3\n",
              "24            1.0   3\n",
              "25           38.0   6\n",
              "26           45.0   6\n",
              "27           21.0   9\n",
              "28           21.0   8\n",
              "29           29.0   4\n",
              "30           24.0   6\n",
              "31            1.0   3\n",
              "32            2.0   9\n",
              "33           25.0  10\n",
              "34           33.0   8\n",
              "35           38.0  29\n",
              "36            5.0   5\n",
              "37           28.0  34\n",
              "38            3.0   2\n",
              "39           32.0  22\n",
              "40            3.0   5\n",
              "41            1.0   4\n",
              "42           11.0  38\n",
              "43            2.0   2\n",
              "44            1.0   7\n",
              "45           19.0   6\n",
              "46           58.0  65\n",
              "47            4.0   5\n",
              "48            9.0   7\n",
              "49            2.0   2\n",
              "50            1.0   1\n",
              "51            1.0   1\n",
              "52            4.0   3\n",
              "53           64.0   4\n",
              "54           13.0   8\n",
              "55           28.0   3\n",
              "56           12.0   3\n",
              "57           18.0  16\n",
              "58            6.0   4\n",
              "59            3.0   1"
            ]
          },
          "metadata": {},
          "execution_count": 39
        }
      ]
    },
    {
      "cell_type": "code",
      "metadata": {
        "id": "vtQYhS_Jy65c"
      },
      "source": [
        "xtrain = x_train.drop(columns=['language'])\n",
        "xtest = x_test.drop(columns=['language'])"
      ],
      "execution_count": null,
      "outputs": []
    },
    {
      "cell_type": "code",
      "metadata": {
        "colab": {
          "base_uri": "https://localhost:8080/"
        },
        "id": "qJByaCVTmiow",
        "outputId": "2f920f53-854f-4a10-bcc7-5e6a11449bd4"
      },
      "source": [
        "param_tuning = {\n",
        "        'max_depth': [12],\n",
        "        'min_child_weight': [1],\n",
        "        'subsample': [0.7],\n",
        "        'colsample_bytree': [0.7],\n",
        "        'n_estimators' : [2000],\n",
        "        'objective': ['reg:squarederror']\n",
        "}\n",
        "\n",
        "xgb_model = XGBRegressor()\n",
        "\n",
        "gsearch = GridSearchCV(estimator = xgb_model,\n",
        "                           param_grid = param_tuning,                        \n",
        "                           scoring = 'neg_median_absolute_error',\n",
        "                           cv = 20,\n",
        "                           n_jobs = -1,\n",
        "                           verbose = 1)\n",
        "\n",
        "gsearch.fit(x_train,y_train)\n",
        "bst = gsearch.best_estimator_\n",
        "bst.fit(x_train,y_train)"
      ],
      "execution_count": null,
      "outputs": [
        {
          "output_type": "stream",
          "name": "stdout",
          "text": [
            "Fitting 20 folds for each of 1 candidates, totalling 20 fits\n"
          ]
        },
        {
          "output_type": "stream",
          "name": "stderr",
          "text": [
            "[Parallel(n_jobs=-1)]: Using backend LokyBackend with 2 concurrent workers.\n",
            "[Parallel(n_jobs=-1)]: Done  20 out of  20 | elapsed:  1.1min finished\n"
          ]
        },
        {
          "output_type": "execute_result",
          "data": {
            "text/plain": [
              "XGBRegressor(base_score=0.5, booster='gbtree', colsample_bylevel=1,\n",
              "             colsample_bynode=1, colsample_bytree=0.7, gamma=0,\n",
              "             importance_type='gain', learning_rate=0.1, max_delta_step=0,\n",
              "             max_depth=12, min_child_weight=1, missing=None, n_estimators=2000,\n",
              "             n_jobs=1, nthread=None, objective='reg:squarederror',\n",
              "             random_state=0, reg_alpha=0, reg_lambda=1, scale_pos_weight=1,\n",
              "             seed=None, silent=None, subsample=0.7, verbosity=1)"
            ]
          },
          "metadata": {},
          "execution_count": 41
        }
      ]
    },
    {
      "cell_type": "code",
      "metadata": {
        "colab": {
          "base_uri": "https://localhost:8080/"
        },
        "id": "VXJrEL5TfcN3",
        "outputId": "9653dbd2-f303-4ca3-8482-5b49ac5e205b"
      },
      "source": [
        "bst = XGBRegressor(base_score=0.5, booster='gbtree', colsample_bylevel=1,\n",
        "             colsample_bynode=1, colsample_bytree=0.7, gamma=0,\n",
        "             importance_type='gain', learning_rate=0.1, max_delta_step=0,\n",
        "             max_depth=12, min_child_weight=1, missing=None, n_estimators=2000,\n",
        "             n_jobs=1, nthread=None, objective='reg:squarederror',\n",
        "             random_state=0, reg_alpha=0, reg_lambda=1, scale_pos_weight=1,\n",
        "             seed=None, silent=None, subsample=0.7, verbosity=1)\n",
        "bst.fit(x_train,y_train)"
      ],
      "execution_count": null,
      "outputs": [
        {
          "output_type": "execute_result",
          "data": {
            "text/plain": [
              "XGBRegressor(base_score=0.5, booster='gbtree', colsample_bylevel=1,\n",
              "             colsample_bynode=1, colsample_bytree=0.7, gamma=0,\n",
              "             importance_type='gain', learning_rate=0.1, max_delta_step=0,\n",
              "             max_depth=12, min_child_weight=1, missing=None, n_estimators=2000,\n",
              "             n_jobs=1, nthread=None, objective='reg:squarederror',\n",
              "             random_state=0, reg_alpha=0, reg_lambda=1, scale_pos_weight=1,\n",
              "             seed=None, silent=None, subsample=0.7, verbosity=1)"
            ]
          },
          "metadata": {},
          "execution_count": 42
        }
      ]
    },
    {
      "cell_type": "code",
      "metadata": {
        "id": "ZG6ArwQ_s2hR"
      },
      "source": [
        "y_pr = pd.Series(bst.predict(x_test))"
      ],
      "execution_count": null,
      "outputs": []
    },
    {
      "cell_type": "code",
      "metadata": {
        "id": "Qxh0PcE9m8EX"
      },
      "source": [
        "y_pr = pd.Series(bst.predict(x_test)).apply(lambda x : 10**x) - 1"
      ],
      "execution_count": null,
      "outputs": []
    },
    {
      "cell_type": "code",
      "metadata": {
        "id": "zeZA0YS9pg9W"
      },
      "source": [
        "y_t = y_test.apply(lambda x : 10**x) - 1"
      ],
      "execution_count": null,
      "outputs": []
    },
    {
      "cell_type": "code",
      "metadata": {
        "colab": {
          "base_uri": "https://localhost:8080/"
        },
        "id": "Mr9TmavonRXo",
        "outputId": "ccac46bf-33c2-4a6e-b0df-f8d365574812"
      },
      "source": [
        "mean_absolute_error(y_t, y_pr)"
      ],
      "execution_count": null,
      "outputs": [
        {
          "output_type": "execute_result",
          "data": {
            "text/plain": [
              "11.602775624637873"
            ]
          },
          "metadata": {},
          "execution_count": 46
        }
      ]
    },
    {
      "cell_type": "code",
      "metadata": {
        "colab": {
          "base_uri": "https://localhost:8080/"
        },
        "id": "m-lhNbB-trI0",
        "outputId": "1f00e85e-5807-4a8d-8d96-7c65d53e439a"
      },
      "source": [
        "(1/y_t.shape[0])*(y_t - y_pr).abs().divide(y_t + 1,fill_value=0).sum()"
      ],
      "execution_count": null,
      "outputs": [
        {
          "output_type": "execute_result",
          "data": {
            "text/plain": [
              "0.0845460368027909"
            ]
          },
          "metadata": {},
          "execution_count": 47
        }
      ]
    },
    {
      "cell_type": "code",
      "metadata": {
        "id": "XC4pVj84HPyA"
      },
      "source": [
        "bst.save_model(\"likemodel.bin\")\n",
        "model_xgb_2 = xgb.Booster()\n",
        "model_xgb_2.load_model(\"likemodel.bin\")"
      ],
      "execution_count": null,
      "outputs": []
    },
    {
      "cell_type": "markdown",
      "metadata": {
        "id": "dbSkWig1D0E8"
      },
      "source": [
        "Saving the model :\n",
        "\n",
        "So for saving the model, it should be done"
      ]
    },
    {
      "cell_type": "code",
      "metadata": {
        "id": "Vpi_-lexDK9H"
      },
      "source": [
        "import joblib\n",
        "filename = 'examplemodel.sav'\n",
        "joblib.dump(best, filename)\n",
        "loaded_model = joblib.load(filename)"
      ],
      "execution_count": null,
      "outputs": []
    },
    {
      "cell_type": "code",
      "metadata": {
        "id": "X9QcDKQeDFTx"
      },
      "source": [
        "import pickle\n",
        "with open('/content/drive/MyDrive/colab_datasets/twitterscraping/likesexemplemodel.pkl', 'wb') as pkl:\n",
        "    pickle.dump(best, pkl)\n",
        "with open('/content/drive/MyDrive/colab_datasets/twitterscraping/likesexemplemodel.pkl', 'rb') as pkl:\n",
        "    pickle_preds = pickle.load(pkl)"
      ],
      "execution_count": null,
      "outputs": []
    },
    {
      "cell_type": "code",
      "metadata": {
        "id": "rEvw8Iqdh3k8"
      },
      "source": [
        "import joblib\n",
        "filename = 'Scaler.sav'\n",
        "joblib.dump(Scaler, filename)\n",
        "loaded_model = joblib.load(filename)"
      ],
      "execution_count": null,
      "outputs": []
    },
    {
      "cell_type": "code",
      "metadata": {
        "id": "RAkfx8zNhNAU"
      },
      "source": [
        "import pickle\n",
        "with open('Scaler.pkl', 'wb') as pkl:\n",
        "    pickle.dump(Scaler, pkl)\n",
        "with open('Scaler.pkl', 'rb') as pkl:\n",
        "    pickle_preds = pickle.load(pkl)"
      ],
      "execution_count": null,
      "outputs": []
    },
    {
      "cell_type": "code",
      "metadata": {
        "id": "6npAHALkh2wO"
      },
      "source": [
        "import joblib\n",
        "filename = 'Encoder.sav'\n",
        "joblib.dump(bst, filename)\n",
        "loaded_model = joblib.load(filename)"
      ],
      "execution_count": null,
      "outputs": []
    },
    {
      "cell_type": "code",
      "metadata": {
        "id": "3ivdaowIhOdg"
      },
      "source": [
        "import pickle\n",
        "with open('Encoder.pkl', 'wb') as pkl:\n",
        "    pickle.dump(Encoder, pkl)\n",
        "with open('Encoder.pkl', 'rb') as pkl:\n",
        "    pickle_preds = pickle.load(pkl)"
      ],
      "execution_count": null,
      "outputs": []
    },
    {
      "cell_type": "code",
      "metadata": {
        "id": "_hPxD6A0h3I5"
      },
      "source": [
        "import joblib\n",
        "filename = 'pcavtag.sav'\n",
        "joblib.dump(bst, filename)\n",
        "loaded_model = joblib.load(filename)"
      ],
      "execution_count": null,
      "outputs": []
    },
    {
      "cell_type": "code",
      "metadata": {
        "id": "fqF4RxEzhPEK"
      },
      "source": [
        "import pickle\n",
        "with open('pcavtag.pkl', 'wb') as pkl:\n",
        "    pickle.dump(pcavtag, pkl)\n",
        "with open('pcavtag.pkl', 'rb') as pkl:\n",
        "    pickle_preds = pickle.load(pkl)"
      ],
      "execution_count": null,
      "outputs": []
    },
    {
      "cell_type": "code",
      "metadata": {
        "id": "5MwO9gKSiBbp"
      },
      "source": [
        "import joblib\n",
        "filename = 'pcapurl.sav'\n",
        "joblib.dump(bst, filename)\n",
        "loaded_model = joblib.load(filename)"
      ],
      "execution_count": null,
      "outputs": []
    },
    {
      "cell_type": "code",
      "metadata": {
        "id": "rjUB0bjjhPkZ"
      },
      "source": [
        "import pickle\n",
        "with open('pcapurl.pkl', 'wb') as pkl:\n",
        "    pickle.dump(pcapurl, pkl)\n",
        "with open('pcapurl.pkl', 'rb') as pkl:\n",
        "    pickle_preds = pickle.load(pkl)"
      ],
      "execution_count": null,
      "outputs": []
    }
  ]
}