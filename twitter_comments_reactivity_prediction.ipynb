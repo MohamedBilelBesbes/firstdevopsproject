{
  "nbformat": 4,
  "nbformat_minor": 0,
  "metadata": {
    "colab": {
      "provenance": []
    },
    "kernelspec": {
      "name": "python3",
      "display_name": "Python 3"
    },
    "language_info": {
      "name": "python"
    }
  },
  "cells": [
    {
      "cell_type": "code",
      "metadata": {
        "colab": {
          "base_uri": "https://localhost:8080/",
          "height": 394
        },
        "id": "V8bsClSRFEo5",
        "outputId": "28c1048b-4504-4faa-b459-3e516117bf07"
      },
      "source": [
        "import pandas as pd\n",
        "df=pd.read_csv(\"/content/drive/MyDrive/SEM2/alldatacleaned.csv\")\n",
        "df.head()"
      ],
      "execution_count": null,
      "outputs": [
        {
          "output_type": "execute_result",
          "data": {
            "text/html": [
              "<div>\n",
              "<style scoped>\n",
              "    .dataframe tbody tr th:only-of-type {\n",
              "        vertical-align: middle;\n",
              "    }\n",
              "\n",
              "    .dataframe tbody tr th {\n",
              "        vertical-align: top;\n",
              "    }\n",
              "\n",
              "    .dataframe thead th {\n",
              "        text-align: right;\n",
              "    }\n",
              "</style>\n",
              "<table border=\"1\" class=\"dataframe\">\n",
              "  <thead>\n",
              "    <tr style=\"text-align: right;\">\n",
              "      <th></th>\n",
              "      <th>NumberofTweets</th>\n",
              "      <th>NumberofFollowing</th>\n",
              "      <th>NumberofFollowers</th>\n",
              "      <th>Picture</th>\n",
              "      <th>Video</th>\n",
              "      <th>Content</th>\n",
              "      <th>NumberOfComments</th>\n",
              "      <th>NumberOfRetweets</th>\n",
              "      <th>NumberOfLikes</th>\n",
              "      <th>tweetage</th>\n",
              "      <th>numberOfHashtags</th>\n",
              "      <th>numberOfTags</th>\n",
              "      <th>numberOfURLs</th>\n",
              "      <th>language</th>\n",
              "    </tr>\n",
              "  </thead>\n",
              "  <tbody>\n",
              "    <tr>\n",
              "      <th>0</th>\n",
              "      <td>2610</td>\n",
              "      <td>51</td>\n",
              "      <td>35700</td>\n",
              "      <td>1</td>\n",
              "      <td>0</td>\n",
              "      <td>No somos argentinas, pero bebemos mate  y amam...</td>\n",
              "      <td>14</td>\n",
              "      <td>25</td>\n",
              "      <td>186</td>\n",
              "      <td>4</td>\n",
              "      <td>0</td>\n",
              "      <td>1</td>\n",
              "      <td>0</td>\n",
              "      <td>es</td>\n",
              "    </tr>\n",
              "    <tr>\n",
              "      <th>1</th>\n",
              "      <td>1390</td>\n",
              "      <td>277</td>\n",
              "      <td>159100</td>\n",
              "      <td>1</td>\n",
              "      <td>0</td>\n",
              "      <td>Hi, \\n@Wimbledon\\n</td>\n",
              "      <td>68</td>\n",
              "      <td>186</td>\n",
              "      <td>3700</td>\n",
              "      <td>4</td>\n",
              "      <td>0</td>\n",
              "      <td>1</td>\n",
              "      <td>0</td>\n",
              "      <td>en</td>\n",
              "    </tr>\n",
              "    <tr>\n",
              "      <th>2</th>\n",
              "      <td>6088</td>\n",
              "      <td>431</td>\n",
              "      <td>45600</td>\n",
              "      <td>1</td>\n",
              "      <td>0</td>\n",
              "      <td>Yapabilirsin, başarabilirsin. Madalyalar kazan...</td>\n",
              "      <td>0</td>\n",
              "      <td>19</td>\n",
              "      <td>255</td>\n",
              "      <td>4</td>\n",
              "      <td>1</td>\n",
              "      <td>0</td>\n",
              "      <td>0</td>\n",
              "      <td>tr</td>\n",
              "    </tr>\n",
              "    <tr>\n",
              "      <th>3</th>\n",
              "      <td>408</td>\n",
              "      <td>71</td>\n",
              "      <td>49800</td>\n",
              "      <td>0</td>\n",
              "      <td>0</td>\n",
              "      <td>Au revoir Paris ! I’ll come back stronger next...</td>\n",
              "      <td>64</td>\n",
              "      <td>91</td>\n",
              "      <td>2200</td>\n",
              "      <td>4</td>\n",
              "      <td>0</td>\n",
              "      <td>0</td>\n",
              "      <td>0</td>\n",
              "      <td>en</td>\n",
              "    </tr>\n",
              "    <tr>\n",
              "      <th>4</th>\n",
              "      <td>2126</td>\n",
              "      <td>143</td>\n",
              "      <td>13200</td>\n",
              "      <td>0</td>\n",
              "      <td>0</td>\n",
              "      <td>On my way to steal yo man</td>\n",
              "      <td>68</td>\n",
              "      <td>183</td>\n",
              "      <td>1700</td>\n",
              "      <td>4</td>\n",
              "      <td>0</td>\n",
              "      <td>0</td>\n",
              "      <td>0</td>\n",
              "      <td>en</td>\n",
              "    </tr>\n",
              "  </tbody>\n",
              "</table>\n",
              "</div>"
            ],
            "text/plain": [
              "   NumberofTweets  NumberofFollowing  ...  numberOfURLs  language\n",
              "0            2610                 51  ...             0        es\n",
              "1            1390                277  ...             0        en\n",
              "2            6088                431  ...             0        tr\n",
              "3             408                 71  ...             0        en\n",
              "4            2126                143  ...             0        en\n",
              "\n",
              "[5 rows x 14 columns]"
            ]
          },
          "metadata": {
            "tags": []
          },
          "execution_count": 189
        }
      ]
    },
    {
      "cell_type": "code",
      "metadata": {
        "colab": {
          "base_uri": "https://localhost:8080/"
        },
        "id": "bGtLUxpYFjZ5",
        "outputId": "1281afed-d501-4ad5-f977-72ac98539e91"
      },
      "source": [
        "df.info()"
      ],
      "execution_count": null,
      "outputs": [
        {
          "output_type": "stream",
          "text": [
            "<class 'pandas.core.frame.DataFrame'>\n",
            "RangeIndex: 5065 entries, 0 to 5064\n",
            "Data columns (total 14 columns):\n",
            " #   Column             Non-Null Count  Dtype \n",
            "---  ------             --------------  ----- \n",
            " 0   NumberofTweets     5065 non-null   int64 \n",
            " 1   NumberofFollowing  5065 non-null   int64 \n",
            " 2   NumberofFollowers  5065 non-null   int64 \n",
            " 3   Picture            5065 non-null   int64 \n",
            " 4   Video              5065 non-null   int64 \n",
            " 5   Content            4774 non-null   object\n",
            " 6   NumberOfComments   5065 non-null   int64 \n",
            " 7   NumberOfRetweets   5065 non-null   int64 \n",
            " 8   NumberOfLikes      5065 non-null   int64 \n",
            " 9   tweetage           5065 non-null   int64 \n",
            " 10  numberOfHashtags   5065 non-null   int64 \n",
            " 11  numberOfTags       5065 non-null   int64 \n",
            " 12  numberOfURLs       5065 non-null   int64 \n",
            " 13  language           5065 non-null   object\n",
            "dtypes: int64(12), object(2)\n",
            "memory usage: 554.1+ KB\n"
          ],
          "name": "stdout"
        }
      ]
    },
    {
      "cell_type": "code",
      "metadata": {
        "colab": {
          "base_uri": "https://localhost:8080/"
        },
        "id": "vilu7TcvFqvh",
        "outputId": "91654380-35fe-481c-c9ef-330ca3452c3e"
      },
      "source": [
        "df.isnull().sum()"
      ],
      "execution_count": null,
      "outputs": [
        {
          "output_type": "execute_result",
          "data": {
            "text/plain": [
              "NumberofTweets         0\n",
              "NumberofFollowing      0\n",
              "NumberofFollowers      0\n",
              "Picture                0\n",
              "Video                  0\n",
              "Content              291\n",
              "NumberOfComments       0\n",
              "NumberOfRetweets       0\n",
              "NumberOfLikes          0\n",
              "tweetage               0\n",
              "numberOfHashtags       0\n",
              "numberOfTags           0\n",
              "numberOfURLs           0\n",
              "language               0\n",
              "dtype: int64"
            ]
          },
          "metadata": {
            "tags": []
          },
          "execution_count": 191
        }
      ]
    },
    {
      "cell_type": "code",
      "metadata": {
        "colab": {
          "base_uri": "https://localhost:8080/",
          "height": 439
        },
        "id": "_PSLHzK5FyQR",
        "outputId": "deb4e99f-43ee-4d74-e397-b94955e3c1bc"
      },
      "source": [
        "df1=df.drop(['Content'],axis=1)\n",
        "df1"
      ],
      "execution_count": null,
      "outputs": [
        {
          "output_type": "execute_result",
          "data": {
            "text/html": [
              "<div>\n",
              "<style scoped>\n",
              "    .dataframe tbody tr th:only-of-type {\n",
              "        vertical-align: middle;\n",
              "    }\n",
              "\n",
              "    .dataframe tbody tr th {\n",
              "        vertical-align: top;\n",
              "    }\n",
              "\n",
              "    .dataframe thead th {\n",
              "        text-align: right;\n",
              "    }\n",
              "</style>\n",
              "<table border=\"1\" class=\"dataframe\">\n",
              "  <thead>\n",
              "    <tr style=\"text-align: right;\">\n",
              "      <th></th>\n",
              "      <th>NumberofTweets</th>\n",
              "      <th>NumberofFollowing</th>\n",
              "      <th>NumberofFollowers</th>\n",
              "      <th>Picture</th>\n",
              "      <th>Video</th>\n",
              "      <th>NumberOfComments</th>\n",
              "      <th>NumberOfRetweets</th>\n",
              "      <th>NumberOfLikes</th>\n",
              "      <th>tweetage</th>\n",
              "      <th>numberOfHashtags</th>\n",
              "      <th>numberOfTags</th>\n",
              "      <th>numberOfURLs</th>\n",
              "      <th>language</th>\n",
              "    </tr>\n",
              "  </thead>\n",
              "  <tbody>\n",
              "    <tr>\n",
              "      <th>0</th>\n",
              "      <td>2610</td>\n",
              "      <td>51</td>\n",
              "      <td>35700</td>\n",
              "      <td>1</td>\n",
              "      <td>0</td>\n",
              "      <td>14</td>\n",
              "      <td>25</td>\n",
              "      <td>186</td>\n",
              "      <td>4</td>\n",
              "      <td>0</td>\n",
              "      <td>1</td>\n",
              "      <td>0</td>\n",
              "      <td>es</td>\n",
              "    </tr>\n",
              "    <tr>\n",
              "      <th>1</th>\n",
              "      <td>1390</td>\n",
              "      <td>277</td>\n",
              "      <td>159100</td>\n",
              "      <td>1</td>\n",
              "      <td>0</td>\n",
              "      <td>68</td>\n",
              "      <td>186</td>\n",
              "      <td>3700</td>\n",
              "      <td>4</td>\n",
              "      <td>0</td>\n",
              "      <td>1</td>\n",
              "      <td>0</td>\n",
              "      <td>en</td>\n",
              "    </tr>\n",
              "    <tr>\n",
              "      <th>2</th>\n",
              "      <td>6088</td>\n",
              "      <td>431</td>\n",
              "      <td>45600</td>\n",
              "      <td>1</td>\n",
              "      <td>0</td>\n",
              "      <td>0</td>\n",
              "      <td>19</td>\n",
              "      <td>255</td>\n",
              "      <td>4</td>\n",
              "      <td>1</td>\n",
              "      <td>0</td>\n",
              "      <td>0</td>\n",
              "      <td>tr</td>\n",
              "    </tr>\n",
              "    <tr>\n",
              "      <th>3</th>\n",
              "      <td>408</td>\n",
              "      <td>71</td>\n",
              "      <td>49800</td>\n",
              "      <td>0</td>\n",
              "      <td>0</td>\n",
              "      <td>64</td>\n",
              "      <td>91</td>\n",
              "      <td>2200</td>\n",
              "      <td>4</td>\n",
              "      <td>0</td>\n",
              "      <td>0</td>\n",
              "      <td>0</td>\n",
              "      <td>en</td>\n",
              "    </tr>\n",
              "    <tr>\n",
              "      <th>4</th>\n",
              "      <td>2126</td>\n",
              "      <td>143</td>\n",
              "      <td>13200</td>\n",
              "      <td>0</td>\n",
              "      <td>0</td>\n",
              "      <td>68</td>\n",
              "      <td>183</td>\n",
              "      <td>1700</td>\n",
              "      <td>4</td>\n",
              "      <td>0</td>\n",
              "      <td>0</td>\n",
              "      <td>0</td>\n",
              "      <td>en</td>\n",
              "    </tr>\n",
              "    <tr>\n",
              "      <th>...</th>\n",
              "      <td>...</td>\n",
              "      <td>...</td>\n",
              "      <td>...</td>\n",
              "      <td>...</td>\n",
              "      <td>...</td>\n",
              "      <td>...</td>\n",
              "      <td>...</td>\n",
              "      <td>...</td>\n",
              "      <td>...</td>\n",
              "      <td>...</td>\n",
              "      <td>...</td>\n",
              "      <td>...</td>\n",
              "      <td>...</td>\n",
              "    </tr>\n",
              "    <tr>\n",
              "      <th>5060</th>\n",
              "      <td>15000</td>\n",
              "      <td>1382</td>\n",
              "      <td>235</td>\n",
              "      <td>0</td>\n",
              "      <td>0</td>\n",
              "      <td>22</td>\n",
              "      <td>33</td>\n",
              "      <td>282</td>\n",
              "      <td>2</td>\n",
              "      <td>4</td>\n",
              "      <td>0</td>\n",
              "      <td>1</td>\n",
              "      <td>ar</td>\n",
              "    </tr>\n",
              "    <tr>\n",
              "      <th>5061</th>\n",
              "      <td>15000</td>\n",
              "      <td>1382</td>\n",
              "      <td>235</td>\n",
              "      <td>1</td>\n",
              "      <td>0</td>\n",
              "      <td>26</td>\n",
              "      <td>38</td>\n",
              "      <td>318</td>\n",
              "      <td>2</td>\n",
              "      <td>4</td>\n",
              "      <td>0</td>\n",
              "      <td>1</td>\n",
              "      <td>unknown</td>\n",
              "    </tr>\n",
              "    <tr>\n",
              "      <th>5062</th>\n",
              "      <td>413</td>\n",
              "      <td>39</td>\n",
              "      <td>12900000</td>\n",
              "      <td>0</td>\n",
              "      <td>0</td>\n",
              "      <td>2700</td>\n",
              "      <td>751</td>\n",
              "      <td>1900</td>\n",
              "      <td>4</td>\n",
              "      <td>1</td>\n",
              "      <td>2</td>\n",
              "      <td>1</td>\n",
              "      <td>unknown</td>\n",
              "    </tr>\n",
              "    <tr>\n",
              "      <th>5063</th>\n",
              "      <td>15000</td>\n",
              "      <td>1382</td>\n",
              "      <td>235</td>\n",
              "      <td>1</td>\n",
              "      <td>0</td>\n",
              "      <td>27</td>\n",
              "      <td>38</td>\n",
              "      <td>321</td>\n",
              "      <td>2</td>\n",
              "      <td>4</td>\n",
              "      <td>0</td>\n",
              "      <td>1</td>\n",
              "      <td>ar</td>\n",
              "    </tr>\n",
              "    <tr>\n",
              "      <th>5064</th>\n",
              "      <td>15000</td>\n",
              "      <td>1382</td>\n",
              "      <td>235</td>\n",
              "      <td>1</td>\n",
              "      <td>0</td>\n",
              "      <td>27</td>\n",
              "      <td>38</td>\n",
              "      <td>323</td>\n",
              "      <td>2</td>\n",
              "      <td>4</td>\n",
              "      <td>0</td>\n",
              "      <td>1</td>\n",
              "      <td>unknown</td>\n",
              "    </tr>\n",
              "  </tbody>\n",
              "</table>\n",
              "<p>5065 rows × 13 columns</p>\n",
              "</div>"
            ],
            "text/plain": [
              "      NumberofTweets  NumberofFollowing  ...  numberOfURLs  language\n",
              "0               2610                 51  ...             0        es\n",
              "1               1390                277  ...             0        en\n",
              "2               6088                431  ...             0        tr\n",
              "3                408                 71  ...             0        en\n",
              "4               2126                143  ...             0        en\n",
              "...              ...                ...  ...           ...       ...\n",
              "5060           15000               1382  ...             1        ar\n",
              "5061           15000               1382  ...             1   unknown\n",
              "5062             413                 39  ...             1   unknown\n",
              "5063           15000               1382  ...             1        ar\n",
              "5064           15000               1382  ...             1   unknown\n",
              "\n",
              "[5065 rows x 13 columns]"
            ]
          },
          "metadata": {
            "tags": []
          },
          "execution_count": 192
        }
      ]
    },
    {
      "cell_type": "code",
      "metadata": {
        "colab": {
          "base_uri": "https://localhost:8080/"
        },
        "id": "61mtm41XF55e",
        "outputId": "d3a751b9-0f53-46c7-e5a8-1bdcf224d702"
      },
      "source": [
        "df1['language'].values"
      ],
      "execution_count": null,
      "outputs": [
        {
          "output_type": "execute_result",
          "data": {
            "text/plain": [
              "array(['es', 'en', 'tr', ..., 'unknown', 'ar', 'unknown'], dtype=object)"
            ]
          },
          "metadata": {
            "tags": []
          },
          "execution_count": 193
        }
      ]
    },
    {
      "cell_type": "code",
      "metadata": {
        "id": "6G-TCTGjHL3A"
      },
      "source": [
        "#importation of librairies\n",
        "import numpy as np\n",
        "import pandas as pd\n",
        "import numpy as np; np.random.seed(0)\n",
        "import matplotlib.pyplot as plt\n",
        "import seaborn as sns\n",
        "from scipy import stats\n",
        "from sklearn.model_selection import train_test_split\n",
        "from sklearn.linear_model import LinearRegression\n",
        "from sklearn import metrics\n",
        "from sklearn.preprocessing import PolynomialFeatures\n",
        "from sklearn.ensemble import RandomForestRegressor\n",
        "from sklearn.linear_model import LinearRegression, SGDRegressor\n",
        "from sklearn.metrics import mean_absolute_error,r2_score \n",
        "from sklearn.model_selection import GridSearchCV, RandomizedSearchCV\n",
        "from sklearn.compose import ColumnTransformer\n",
        "from sklearn.preprocessing import StandardScaler\n",
        "from sklearn.preprocessing import LabelEncoder"
      ],
      "execution_count": null,
      "outputs": []
    },
    {
      "cell_type": "code",
      "metadata": {
        "colab": {
          "base_uri": "https://localhost:8080/",
          "height": 439
        },
        "id": "V_cKeStsGPBA",
        "outputId": "581df549-d9ed-4ffa-c514-b976d4cc2d6d"
      },
      "source": [
        "encoder= LabelEncoder()\n",
        "df1['language']=encoder.fit_transform(df1['language'])\n",
        "df1"
      ],
      "execution_count": null,
      "outputs": [
        {
          "output_type": "execute_result",
          "data": {
            "text/html": [
              "<div>\n",
              "<style scoped>\n",
              "    .dataframe tbody tr th:only-of-type {\n",
              "        vertical-align: middle;\n",
              "    }\n",
              "\n",
              "    .dataframe tbody tr th {\n",
              "        vertical-align: top;\n",
              "    }\n",
              "\n",
              "    .dataframe thead th {\n",
              "        text-align: right;\n",
              "    }\n",
              "</style>\n",
              "<table border=\"1\" class=\"dataframe\">\n",
              "  <thead>\n",
              "    <tr style=\"text-align: right;\">\n",
              "      <th></th>\n",
              "      <th>NumberofTweets</th>\n",
              "      <th>NumberofFollowing</th>\n",
              "      <th>NumberofFollowers</th>\n",
              "      <th>Picture</th>\n",
              "      <th>Video</th>\n",
              "      <th>NumberOfComments</th>\n",
              "      <th>NumberOfRetweets</th>\n",
              "      <th>NumberOfLikes</th>\n",
              "      <th>tweetage</th>\n",
              "      <th>numberOfHashtags</th>\n",
              "      <th>numberOfTags</th>\n",
              "      <th>numberOfURLs</th>\n",
              "      <th>language</th>\n",
              "    </tr>\n",
              "  </thead>\n",
              "  <tbody>\n",
              "    <tr>\n",
              "      <th>0</th>\n",
              "      <td>2610</td>\n",
              "      <td>51</td>\n",
              "      <td>35700</td>\n",
              "      <td>1</td>\n",
              "      <td>0</td>\n",
              "      <td>14</td>\n",
              "      <td>25</td>\n",
              "      <td>186</td>\n",
              "      <td>4</td>\n",
              "      <td>0</td>\n",
              "      <td>1</td>\n",
              "      <td>0</td>\n",
              "      <td>11</td>\n",
              "    </tr>\n",
              "    <tr>\n",
              "      <th>1</th>\n",
              "      <td>1390</td>\n",
              "      <td>277</td>\n",
              "      <td>159100</td>\n",
              "      <td>1</td>\n",
              "      <td>0</td>\n",
              "      <td>68</td>\n",
              "      <td>186</td>\n",
              "      <td>3700</td>\n",
              "      <td>4</td>\n",
              "      <td>0</td>\n",
              "      <td>1</td>\n",
              "      <td>0</td>\n",
              "      <td>10</td>\n",
              "    </tr>\n",
              "    <tr>\n",
              "      <th>2</th>\n",
              "      <td>6088</td>\n",
              "      <td>431</td>\n",
              "      <td>45600</td>\n",
              "      <td>1</td>\n",
              "      <td>0</td>\n",
              "      <td>0</td>\n",
              "      <td>19</td>\n",
              "      <td>255</td>\n",
              "      <td>4</td>\n",
              "      <td>1</td>\n",
              "      <td>0</td>\n",
              "      <td>0</td>\n",
              "      <td>51</td>\n",
              "    </tr>\n",
              "    <tr>\n",
              "      <th>3</th>\n",
              "      <td>408</td>\n",
              "      <td>71</td>\n",
              "      <td>49800</td>\n",
              "      <td>0</td>\n",
              "      <td>0</td>\n",
              "      <td>64</td>\n",
              "      <td>91</td>\n",
              "      <td>2200</td>\n",
              "      <td>4</td>\n",
              "      <td>0</td>\n",
              "      <td>0</td>\n",
              "      <td>0</td>\n",
              "      <td>10</td>\n",
              "    </tr>\n",
              "    <tr>\n",
              "      <th>4</th>\n",
              "      <td>2126</td>\n",
              "      <td>143</td>\n",
              "      <td>13200</td>\n",
              "      <td>0</td>\n",
              "      <td>0</td>\n",
              "      <td>68</td>\n",
              "      <td>183</td>\n",
              "      <td>1700</td>\n",
              "      <td>4</td>\n",
              "      <td>0</td>\n",
              "      <td>0</td>\n",
              "      <td>0</td>\n",
              "      <td>10</td>\n",
              "    </tr>\n",
              "    <tr>\n",
              "      <th>...</th>\n",
              "      <td>...</td>\n",
              "      <td>...</td>\n",
              "      <td>...</td>\n",
              "      <td>...</td>\n",
              "      <td>...</td>\n",
              "      <td>...</td>\n",
              "      <td>...</td>\n",
              "      <td>...</td>\n",
              "      <td>...</td>\n",
              "      <td>...</td>\n",
              "      <td>...</td>\n",
              "      <td>...</td>\n",
              "      <td>...</td>\n",
              "    </tr>\n",
              "    <tr>\n",
              "      <th>5060</th>\n",
              "      <td>15000</td>\n",
              "      <td>1382</td>\n",
              "      <td>235</td>\n",
              "      <td>0</td>\n",
              "      <td>0</td>\n",
              "      <td>22</td>\n",
              "      <td>33</td>\n",
              "      <td>282</td>\n",
              "      <td>2</td>\n",
              "      <td>4</td>\n",
              "      <td>0</td>\n",
              "      <td>1</td>\n",
              "      <td>1</td>\n",
              "    </tr>\n",
              "    <tr>\n",
              "      <th>5061</th>\n",
              "      <td>15000</td>\n",
              "      <td>1382</td>\n",
              "      <td>235</td>\n",
              "      <td>1</td>\n",
              "      <td>0</td>\n",
              "      <td>26</td>\n",
              "      <td>38</td>\n",
              "      <td>318</td>\n",
              "      <td>2</td>\n",
              "      <td>4</td>\n",
              "      <td>0</td>\n",
              "      <td>1</td>\n",
              "      <td>52</td>\n",
              "    </tr>\n",
              "    <tr>\n",
              "      <th>5062</th>\n",
              "      <td>413</td>\n",
              "      <td>39</td>\n",
              "      <td>12900000</td>\n",
              "      <td>0</td>\n",
              "      <td>0</td>\n",
              "      <td>2700</td>\n",
              "      <td>751</td>\n",
              "      <td>1900</td>\n",
              "      <td>4</td>\n",
              "      <td>1</td>\n",
              "      <td>2</td>\n",
              "      <td>1</td>\n",
              "      <td>52</td>\n",
              "    </tr>\n",
              "    <tr>\n",
              "      <th>5063</th>\n",
              "      <td>15000</td>\n",
              "      <td>1382</td>\n",
              "      <td>235</td>\n",
              "      <td>1</td>\n",
              "      <td>0</td>\n",
              "      <td>27</td>\n",
              "      <td>38</td>\n",
              "      <td>321</td>\n",
              "      <td>2</td>\n",
              "      <td>4</td>\n",
              "      <td>0</td>\n",
              "      <td>1</td>\n",
              "      <td>1</td>\n",
              "    </tr>\n",
              "    <tr>\n",
              "      <th>5064</th>\n",
              "      <td>15000</td>\n",
              "      <td>1382</td>\n",
              "      <td>235</td>\n",
              "      <td>1</td>\n",
              "      <td>0</td>\n",
              "      <td>27</td>\n",
              "      <td>38</td>\n",
              "      <td>323</td>\n",
              "      <td>2</td>\n",
              "      <td>4</td>\n",
              "      <td>0</td>\n",
              "      <td>1</td>\n",
              "      <td>52</td>\n",
              "    </tr>\n",
              "  </tbody>\n",
              "</table>\n",
              "<p>5065 rows × 13 columns</p>\n",
              "</div>"
            ],
            "text/plain": [
              "      NumberofTweets  NumberofFollowing  ...  numberOfURLs  language\n",
              "0               2610                 51  ...             0        11\n",
              "1               1390                277  ...             0        10\n",
              "2               6088                431  ...             0        51\n",
              "3                408                 71  ...             0        10\n",
              "4               2126                143  ...             0        10\n",
              "...              ...                ...  ...           ...       ...\n",
              "5060           15000               1382  ...             1         1\n",
              "5061           15000               1382  ...             1        52\n",
              "5062             413                 39  ...             1        52\n",
              "5063           15000               1382  ...             1         1\n",
              "5064           15000               1382  ...             1        52\n",
              "\n",
              "[5065 rows x 13 columns]"
            ]
          },
          "metadata": {
            "tags": []
          },
          "execution_count": 195
        }
      ]
    },
    {
      "cell_type": "code",
      "metadata": {
        "colab": {
          "base_uri": "https://localhost:8080/"
        },
        "id": "zHI8eZOzHsK_",
        "outputId": "12ea7f22-72af-4b4f-c1d7-ec6a38252d57"
      },
      "source": [
        "df1.duplicated().sum()"
      ],
      "execution_count": null,
      "outputs": [
        {
          "output_type": "execute_result",
          "data": {
            "text/plain": [
              "19"
            ]
          },
          "metadata": {
            "tags": []
          },
          "execution_count": 196
        }
      ]
    },
    {
      "cell_type": "code",
      "metadata": {
        "colab": {
          "base_uri": "https://localhost:8080/"
        },
        "id": "TwdBmQluH1Zm",
        "outputId": "7effa982-5ff0-4839-9ee1-1a5463f86cc5"
      },
      "source": [
        "df2 = df1.drop_duplicates()\n",
        "df2.duplicated().sum()"
      ],
      "execution_count": null,
      "outputs": [
        {
          "output_type": "execute_result",
          "data": {
            "text/plain": [
              "0"
            ]
          },
          "metadata": {
            "tags": []
          },
          "execution_count": 197
        }
      ]
    },
    {
      "cell_type": "code",
      "metadata": {
        "colab": {
          "base_uri": "https://localhost:8080/",
          "height": 317
        },
        "id": "ilGvLeLdIid7",
        "outputId": "8f7c868f-5510-4601-b189-e342ff2b4265"
      },
      "source": [
        "df2.describe()"
      ],
      "execution_count": null,
      "outputs": [
        {
          "output_type": "execute_result",
          "data": {
            "text/html": [
              "<div>\n",
              "<style scoped>\n",
              "    .dataframe tbody tr th:only-of-type {\n",
              "        vertical-align: middle;\n",
              "    }\n",
              "\n",
              "    .dataframe tbody tr th {\n",
              "        vertical-align: top;\n",
              "    }\n",
              "\n",
              "    .dataframe thead th {\n",
              "        text-align: right;\n",
              "    }\n",
              "</style>\n",
              "<table border=\"1\" class=\"dataframe\">\n",
              "  <thead>\n",
              "    <tr style=\"text-align: right;\">\n",
              "      <th></th>\n",
              "      <th>NumberofTweets</th>\n",
              "      <th>NumberofFollowing</th>\n",
              "      <th>NumberofFollowers</th>\n",
              "      <th>Picture</th>\n",
              "      <th>Video</th>\n",
              "      <th>NumberOfComments</th>\n",
              "      <th>NumberOfRetweets</th>\n",
              "      <th>NumberOfLikes</th>\n",
              "      <th>tweetage</th>\n",
              "      <th>numberOfHashtags</th>\n",
              "      <th>numberOfTags</th>\n",
              "      <th>numberOfURLs</th>\n",
              "      <th>language</th>\n",
              "    </tr>\n",
              "  </thead>\n",
              "  <tbody>\n",
              "    <tr>\n",
              "      <th>count</th>\n",
              "      <td>5.046000e+03</td>\n",
              "      <td>5046.000000</td>\n",
              "      <td>5.046000e+03</td>\n",
              "      <td>5046.000000</td>\n",
              "      <td>5046.000000</td>\n",
              "      <td>5046.000000</td>\n",
              "      <td>5046.000000</td>\n",
              "      <td>5046.000000</td>\n",
              "      <td>5046.000000</td>\n",
              "      <td>5046.000000</td>\n",
              "      <td>5046.000000</td>\n",
              "      <td>5046.000000</td>\n",
              "      <td>5046.000000</td>\n",
              "    </tr>\n",
              "    <tr>\n",
              "      <th>mean</th>\n",
              "      <td>3.976937e+04</td>\n",
              "      <td>766.671423</td>\n",
              "      <td>2.175250e+06</td>\n",
              "      <td>0.227903</td>\n",
              "      <td>0.130004</td>\n",
              "      <td>144.170036</td>\n",
              "      <td>1317.941538</td>\n",
              "      <td>4321.305192</td>\n",
              "      <td>3.104241</td>\n",
              "      <td>0.890805</td>\n",
              "      <td>0.316885</td>\n",
              "      <td>0.180737</td>\n",
              "      <td>32.714427</td>\n",
              "    </tr>\n",
              "    <tr>\n",
              "      <th>std</th>\n",
              "      <td>7.797486e+04</td>\n",
              "      <td>2022.942239</td>\n",
              "      <td>5.036073e+06</td>\n",
              "      <td>0.419521</td>\n",
              "      <td>0.336341</td>\n",
              "      <td>1125.545292</td>\n",
              "      <td>6962.563392</td>\n",
              "      <td>26072.791927</td>\n",
              "      <td>1.165678</td>\n",
              "      <td>1.787238</td>\n",
              "      <td>0.982937</td>\n",
              "      <td>0.400982</td>\n",
              "      <td>21.505108</td>\n",
              "    </tr>\n",
              "    <tr>\n",
              "      <th>min</th>\n",
              "      <td>2.000000e+00</td>\n",
              "      <td>0.000000</td>\n",
              "      <td>0.000000e+00</td>\n",
              "      <td>0.000000</td>\n",
              "      <td>0.000000</td>\n",
              "      <td>0.000000</td>\n",
              "      <td>0.000000</td>\n",
              "      <td>0.000000</td>\n",
              "      <td>1.000000</td>\n",
              "      <td>0.000000</td>\n",
              "      <td>0.000000</td>\n",
              "      <td>0.000000</td>\n",
              "      <td>0.000000</td>\n",
              "    </tr>\n",
              "    <tr>\n",
              "      <th>25%</th>\n",
              "      <td>8.925000e+01</td>\n",
              "      <td>103.000000</td>\n",
              "      <td>2.400000e+01</td>\n",
              "      <td>0.000000</td>\n",
              "      <td>0.000000</td>\n",
              "      <td>0.000000</td>\n",
              "      <td>0.000000</td>\n",
              "      <td>1.000000</td>\n",
              "      <td>2.000000</td>\n",
              "      <td>0.000000</td>\n",
              "      <td>0.000000</td>\n",
              "      <td>0.000000</td>\n",
              "      <td>10.000000</td>\n",
              "    </tr>\n",
              "    <tr>\n",
              "      <th>50%</th>\n",
              "      <td>1.867500e+03</td>\n",
              "      <td>316.000000</td>\n",
              "      <td>1.700000e+02</td>\n",
              "      <td>0.000000</td>\n",
              "      <td>0.000000</td>\n",
              "      <td>2.000000</td>\n",
              "      <td>8.000000</td>\n",
              "      <td>27.000000</td>\n",
              "      <td>4.000000</td>\n",
              "      <td>0.000000</td>\n",
              "      <td>0.000000</td>\n",
              "      <td>0.000000</td>\n",
              "      <td>52.000000</td>\n",
              "    </tr>\n",
              "    <tr>\n",
              "      <th>75%</th>\n",
              "      <td>3.377500e+04</td>\n",
              "      <td>848.000000</td>\n",
              "      <td>3.645000e+04</td>\n",
              "      <td>0.000000</td>\n",
              "      <td>0.000000</td>\n",
              "      <td>32.000000</td>\n",
              "      <td>220.000000</td>\n",
              "      <td>658.750000</td>\n",
              "      <td>4.000000</td>\n",
              "      <td>1.000000</td>\n",
              "      <td>0.000000</td>\n",
              "      <td>0.000000</td>\n",
              "      <td>52.000000</td>\n",
              "    </tr>\n",
              "    <tr>\n",
              "      <th>max</th>\n",
              "      <td>1.100000e+06</td>\n",
              "      <td>114100.000000</td>\n",
              "      <td>5.420000e+07</td>\n",
              "      <td>1.000000</td>\n",
              "      <td>1.000000</td>\n",
              "      <td>39300.000000</td>\n",
              "      <td>223300.000000</td>\n",
              "      <td>1000000.000000</td>\n",
              "      <td>4.000000</td>\n",
              "      <td>42.000000</td>\n",
              "      <td>19.000000</td>\n",
              "      <td>3.000000</td>\n",
              "      <td>56.000000</td>\n",
              "    </tr>\n",
              "  </tbody>\n",
              "</table>\n",
              "</div>"
            ],
            "text/plain": [
              "       NumberofTweets  NumberofFollowing  ...  numberOfURLs     language\n",
              "count    5.046000e+03        5046.000000  ...   5046.000000  5046.000000\n",
              "mean     3.976937e+04         766.671423  ...      0.180737    32.714427\n",
              "std      7.797486e+04        2022.942239  ...      0.400982    21.505108\n",
              "min      2.000000e+00           0.000000  ...      0.000000     0.000000\n",
              "25%      8.925000e+01         103.000000  ...      0.000000    10.000000\n",
              "50%      1.867500e+03         316.000000  ...      0.000000    52.000000\n",
              "75%      3.377500e+04         848.000000  ...      0.000000    52.000000\n",
              "max      1.100000e+06      114100.000000  ...      3.000000    56.000000\n",
              "\n",
              "[8 rows x 13 columns]"
            ]
          },
          "metadata": {
            "tags": []
          },
          "execution_count": 198
        }
      ]
    },
    {
      "cell_type": "code",
      "metadata": {
        "colab": {
          "base_uri": "https://localhost:8080/",
          "height": 969
        },
        "id": "sH8bA4HPIy9A",
        "outputId": "f9c55fcc-ee40-49cf-cf19-04141be411ba"
      },
      "source": [
        "def plot_correlation_map( df2):\n",
        "\n",
        "    corr = df2.corr()\n",
        "\n",
        "    s , ax = plt.subplots( figsize =( 18 , 18 ) )\n",
        "\n",
        "    cmap = sns.diverging_palette( 220 , 20 , as_cmap = True )\n",
        "\n",
        "\n",
        "    s = sns.heatmap(\n",
        "\n",
        "        corr, \n",
        "\n",
        "        cmap = cmap,\n",
        "\n",
        "        square=True, \n",
        "\n",
        "        cbar_kws={ 'shrink' : .9 }, \n",
        "\n",
        "        ax=ax, \n",
        "\n",
        "        annot = True, \n",
        "\n",
        "        annot_kws = { 'fontsize' : 12 }\n",
        "\n",
        "        )\n",
        "    \n",
        "plot_correlation_map( df2)"
      ],
      "execution_count": null,
      "outputs": [
        {
          "output_type": "display_data",
          "data": {
            "image/png": "[encoded data removed]",
            "text/plain": [
              "<Figure size 1296x1296 with 2 Axes>"
            ]
          },
          "metadata": {
            "tags": [],
            "needs_background": "light"
          }
        }
      ]
    },
    {
      "cell_type": "code",
      "metadata": {
        "colab": {
          "base_uri": "https://localhost:8080/",
          "height": 459
        },
        "id": "vCqw_2XtKD36",
        "outputId": "fb9a8fb3-f629-4428-9904-6abfc8ceb543"
      },
      "source": [
        "plt.figure(figsize=(10, 7))\n",
        "sns.scatterplot(data= df2, x='NumberOfLikes', y='NumberOfComments')"
      ],
      "execution_count": null,
      "outputs": [
        {
          "output_type": "execute_result",
          "data": {
            "text/plain": [
              "<matplotlib.axes._subplots.AxesSubplot at 0x7fad1d1cc390>"
            ]
          },
          "metadata": {
            "tags": []
          },
          "execution_count": 200
        },
        {
          "output_type": "display_data",
          "data": {
            "image/png": "[encoded data removed]",
            "text/plain": [
              "<Figure size 720x504 with 1 Axes>"
            ]
          },
          "metadata": {
            "tags": [],
            "needs_background": "light"
          }
        }
      ]
    },
    {
      "cell_type": "markdown",
      "metadata": {
        "id": "y-E97OiMwQNc"
      },
      "source": [
        "#Linear Regression"
      ]
    },
    {
      "cell_type": "code",
      "metadata": {
        "id": "zoWnaz5Os2Zx"
      },
      "source": [
        "X=df2['NumberOfLikes'].values[:,np.newaxis]\n",
        "y=df2['NumberOfComments'].values\n",
        "X_train,X_test,y_train,y_test= train_test_split(X,y,test_size=0.20,random_state=30)"
      ],
      "execution_count": null,
      "outputs": []
    },
    {
      "cell_type": "code",
      "metadata": {
        "id": "pDYo36fytjGu"
      },
      "source": [
        "model=LinearRegression()\n",
        "\n",
        "model.fit(X_train,y_train)\n",
        "predicted=model.predict(X_test)"
      ],
      "execution_count": null,
      "outputs": []
    },
    {
      "cell_type": "code",
      "metadata": {
        "colab": {
          "base_uri": "https://localhost:8080/",
          "height": 295
        },
        "id": "8ORN23Jpvc-q",
        "outputId": "9277d25d-c33d-4743-d2b9-73e0b8ea84dd"
      },
      "source": [
        "plt.scatter(X,y,color='r')\n",
        "plt.title('Linear Regression of NumberOfComments')\n",
        "plt.xlabel('NumberOfLikes')\n",
        "plt.ylabel('NumberOfComments')\n",
        "plt.plot(X,model.predict(X),color='b')\n",
        "plt.show()"
      ],
      "execution_count": null,
      "outputs": [
        {
          "output_type": "display_data",
          "data": {
            "image/png": "[encoded data removed]",
            "text/plain": [
              "<Figure size 432x288 with 1 Axes>"
            ]
          },
          "metadata": {
            "tags": [],
            "needs_background": "light"
          }
        }
      ]
    },
    {
      "cell_type": "code",
      "metadata": {
        "colab": {
          "base_uri": "https://localhost:8080/"
        },
        "id": "u9hxYgicvsj2",
        "outputId": "a699c816-3bbb-47ba-e9e7-f232c3e03ac3"
      },
      "source": [
        "print(\"MSE:\",metrics.mean_squared_error(y_test,predicted))\n",
        "print(\"R squared:\",metrics.r2_score(y_test,predicted))"
      ],
      "execution_count": null,
      "outputs": [
        {
          "output_type": "stream",
          "text": [
            "MSE: 469473.4902178999\n",
            "R squared: 0.2151549342780914\n"
          ],
          "name": "stdout"
        }
      ]
    },
    {
      "cell_type": "markdown",
      "metadata": {
        "id": "qpYONWZpv6tB"
      },
      "source": [
        "==> R squared is less than 0.5 it means that the models doesn't fit the data."
      ]
    },
    {
      "cell_type": "markdown",
      "metadata": {
        "id": "F8MU_U4gwNP9"
      },
      "source": [
        "# Multi-linear Regression"
      ]
    },
    {
      "cell_type": "code",
      "metadata": {
        "colab": {
          "base_uri": "https://localhost:8080/"
        },
        "id": "nTdE-tx_wI5N",
        "outputId": "810bf74d-1302-474f-ea3c-38c015e2b403"
      },
      "source": [
        "X1=df2[['NumberOfLikes','tweetage']]\n",
        "y1=df2['NumberOfComments'].values\n",
        "X1_train,X1_test,y1_train,y1_test= train_test_split(X1,y1,test_size=0.20,random_state=30)\n",
        "#Fitting the model to our data\n",
        "model_1=LinearRegression()\n",
        "model_1.fit(X1_train,y1_train)\n",
        "predicted_1=model_1.predict(X1_test)\n",
        "#Testing model's performances\n",
        "print(\"MSE:\",metrics.mean_squared_error(y1_test,predicted_1))\n",
        "print(\"R squared:\",metrics.r2_score(y1_test,predicted_1))"
      ],
      "execution_count": null,
      "outputs": [
        {
          "output_type": "stream",
          "text": [
            "MSE: 469394.29070962727\n",
            "R squared: 0.21528733652139287\n"
          ],
          "name": "stdout"
        }
      ]
    },
    {
      "cell_type": "markdown",
      "metadata": {
        "id": "8K4hD12-yEah"
      },
      "source": [
        "# Polynomial Regression"
      ]
    },
    {
      "cell_type": "code",
      "metadata": {
        "colab": {
          "base_uri": "https://localhost:8080/"
        },
        "id": "gZwcc8_Ox5yQ",
        "outputId": "72b21cc9-e3a2-4ee5-ff4b-c314cac84af8"
      },
      "source": [
        "X2=df2[['NumberOfLikes','NumberofTweets','Picture']]\n",
        "y2=df2['NumberOfComments'].values\n",
        "#Split data\n",
        "X2_train,X2_test,y2_train,y2_test=train_test_split(X2,y2,test_size=0.20,random_state=30)\n",
        "lg=LinearRegression()\n",
        "poly=PolynomialFeatures(degree=2)\n",
        "#Apply Polynomian transformation on input\n",
        "X2_train_=poly.fit_transform(X2_train)\n",
        "lg.fit(X2_train_,y2_train)\n",
        "X2_test_=poly.fit_transform(X2_test)\n",
        "predicted_2=lg.predict(X2_test_)\n",
        "print(\"MSE:\",metrics.mean_squared_error(y2_test,predicted_2))\n",
        "print(\"R squared:\",metrics.r2_score(y2_test,predicted_2))"
      ],
      "execution_count": null,
      "outputs": [
        {
          "output_type": "stream",
          "text": [
            "MSE: 445457.18379993975\n",
            "R squared: 0.2553043356431246\n"
          ],
          "name": "stdout"
        }
      ]
    },
    {
      "cell_type": "code",
      "metadata": {
        "colab": {
          "base_uri": "https://localhost:8080/",
          "height": 459
        },
        "id": "7KNQiF1SZVQm",
        "outputId": "6f5571fb-508e-4a96-fc03-57ca4c22e62e"
      },
      "source": [
        "#Use a density plot\n",
        "plt.figure(figsize=(10,6))\n",
        "sns.distplot(df2['NumberOfComments'],hist=False,kde=True,bins=20,kde_kws={'linewidth': 1,'shade':True},hist_kws={'edgecolor':'black'})"
      ],
      "execution_count": null,
      "outputs": [
        {
          "output_type": "stream",
          "text": [
            "/usr/local/lib/python3.7/dist-packages/seaborn/distributions.py:2557: FutureWarning: `distplot` is a deprecated function and will be removed in a future version. Please adapt your code to use either `displot` (a figure-level function with similar flexibility) or `kdeplot` (an axes-level function for kernel density plots).\n",
            "  warnings.warn(msg, FutureWarning)\n"
          ],
          "name": "stderr"
        },
        {
          "output_type": "execute_result",
          "data": {
            "text/plain": [
              "<matplotlib.axes._subplots.AxesSubplot at 0x7fad1dea0450>"
            ]
          },
          "metadata": {
            "tags": []
          },
          "execution_count": 207
        },
        {
          "output_type": "display_data",
          "data": {
            "image/png": "[encoded data removed]",
            "text/plain": [
              "<Figure size 720x432 with 1 Axes>"
            ]
          },
          "metadata": {
            "tags": [],
            "needs_background": "light"
          }
        }
      ]
    },
    {
      "cell_type": "markdown",
      "metadata": {
        "id": "DpbvWo3YKno5"
      },
      "source": []
    },
    {
      "cell_type": "code",
      "metadata": {
        "colab": {
          "base_uri": "https://localhost:8080/"
        },
        "id": "Ln7SxYayp9HI",
        "outputId": "0a17b22a-c383-488c-a21e-27b78dc71020"
      },
      "source": [
        "#zscore\n",
        "z1=np.abs(stats.zscore(df2.NumberOfComments))\n",
        "df2_1=df2[(z1<2.5)]\n",
        "print('Number of removed rows',df2.shape[0]-df2_1.shape[0])"
      ],
      "execution_count": null,
      "outputs": [
        {
          "output_type": "stream",
          "text": [
            "Number of removed rows 34\n"
          ],
          "name": "stdout"
        }
      ]
    },
    {
      "cell_type": "code",
      "metadata": {
        "id": "m-nHgOa68T-m"
      },
      "source": [
        "#split data\n",
        "X3=df2.drop(['NumberOfComments'],axis=1)\n",
        "y3=df2['NumberOfComments'].values\n",
        "X3_train,X3_test,y3_train,y3_test= train_test_split(X3,y3,test_size=0.20,random_state=30)"
      ],
      "execution_count": null,
      "outputs": []
    },
    {
      "cell_type": "markdown",
      "metadata": {
        "id": "LSkw4Wa6K9zK"
      },
      "source": [
        "#build 3 models "
      ]
    },
    {
      "cell_type": "code",
      "metadata": {
        "id": "n8SC1UbPGjFd"
      },
      "source": [
        "names=['Linear Regression','Random Forest Regressor']\n",
        "Regressors = [LinearRegression(), RandomForestRegressor()]"
      ],
      "execution_count": null,
      "outputs": []
    },
    {
      "cell_type": "code",
      "metadata": {
        "colab": {
          "base_uri": "https://localhost:8080/"
        },
        "id": "AZELEZEeHpqG",
        "outputId": "9fedd0b4-183f-4744-a740-489b2e2a48e2"
      },
      "source": [
        "for name,Reg in zip(names, Regressors) :\n",
        "      Reg.fit(X3_train, y3_train)\n",
        "      preds = Reg.predict(X3_test)\n",
        "      MAE = mean_absolute_error(y3_test,preds)\n",
        "      R2 = r2_score(y3_test,preds)\n",
        "      print (name, ' : name absolute error : ', \"%.2f\" %(MAE), 'R2_score : ', \"%.2f\" %(R2))"
      ],
      "execution_count": null,
      "outputs": [
        {
          "output_type": "stream",
          "text": [
            "Linear Regression  : name absolute error :  155.66 R2_score :  0.19\n",
            "Random Forest Regressor  : name absolute error :  115.97 R2_score :  -0.34\n"
          ],
          "name": "stdout"
        }
      ]
    },
    {
      "cell_type": "markdown",
      "metadata": {
        "id": "AWGrIe-4K3CM"
      },
      "source": [
        "##Xgboost"
      ]
    },
    {
      "cell_type": "code",
      "metadata": {
        "id": "mhy6xv9TK8Tn"
      },
      "source": [
        "import xgboost as xgb\n",
        "from xgboost import XGBRegressor"
      ],
      "execution_count": null,
      "outputs": []
    },
    {
      "cell_type": "code",
      "metadata": {
        "colab": {
          "base_uri": "https://localhost:8080/",
          "height": 296
        },
        "id": "yQuITWDNfL0Z",
        "outputId": "334b5191-58fa-4759-8d15-864177aeb6bb"
      },
      "source": [
        "sns.boxplot(x=df['NumberOfComments'])"
      ],
      "execution_count": null,
      "outputs": [
        {
          "output_type": "execute_result",
          "data": {
            "text/plain": [
              "<matplotlib.axes._subplots.AxesSubplot at 0x7fad1d4d3f50>"
            ]
          },
          "metadata": {
            "tags": []
          },
          "execution_count": 213
        },
        {
          "output_type": "display_data",
          "data": {
            "image/png": "[encoded data removed]",
            "text/plain": [
              "<Figure size 432x288 with 1 Axes>"
            ]
          },
          "metadata": {
            "tags": [],
            "needs_background": "light"
          }
        }
      ]
    },
    {
      "cell_type": "code",
      "metadata": {
        "colab": {
          "base_uri": "https://localhost:8080/",
          "height": 606
        },
        "id": "nUYj5lUaiG4l",
        "outputId": "37de338c-0479-4404-c32c-3a25635b7e29"
      },
      "source": [
        "fig, ax = plt.subplots(3,figsize=(4,10))\n",
        "ax[0].scatter(df2['NumberOfLikes'],df2['NumberOfComments'])\n",
        "ax[0].set_xlabel('Number of Likes')\n",
        "ax[0].set_ylabel('Number Of Comments')\n",
        "ax[1].scatter(df2['NumberofTweets'],df2['NumberOfComments'])\n",
        "ax[1].set_xlabel('NumberofTweets')\n",
        "ax[1].set_ylabel('Number Of Comments')\n",
        "ax[2].scatter(df2['tweetage'],df2['NumberOfComments'])\n",
        "ax[2].set_xlabel('tweetage')\n",
        "ax[2].set_ylabel('Number Of Comments')\n",
        "plt.show()"
      ],
      "execution_count": null,
      "outputs": [
        {
          "output_type": "display_data",
          "data": {
            "image/png": "[encoded data removed]",
            "text/plain": [
              "<Figure size 288x720 with 3 Axes>"
            ]
          },
          "metadata": {
            "tags": [],
            "needs_background": "light"
          }
        }
      ]
    },
    {
      "cell_type": "markdown",
      "metadata": {
        "id": "tWN8kccuHsAh"
      },
      "source": [
        "##Z-score"
      ]
    },
    {
      "cell_type": "code",
      "metadata": {
        "id": "tfsr6vg3lCPg"
      },
      "source": [
        "from scipy import stats\n",
        "import numpy as np\n",
        "z = np.abs(stats.zscore(df2))"
      ],
      "execution_count": null,
      "outputs": []
    },
    {
      "cell_type": "code",
      "metadata": {
        "colab": {
          "base_uri": "https://localhost:8080/"
        },
        "id": "0nKPUJATlD9E",
        "outputId": "5accc44f-8611-4ee8-d790-5054cacb5bb3"
      },
      "source": [
        "l = sorted(list(set.union(set(np.where(z > 2.5)[0]),set(np.where(z < -2.5)[0]))))\n",
        "df2.drop(df2.index[l], inplace=True,axis=0)"
      ],
      "execution_count": null,
      "outputs": [
        {
          "output_type": "stream",
          "text": [
            "/usr/local/lib/python3.7/dist-packages/pandas/core/frame.py:4174: SettingWithCopyWarning: \n",
            "A value is trying to be set on a copy of a slice from a DataFrame\n",
            "\n",
            "See the caveats in the documentation: https://pandas.pydata.org/pandas-docs/stable/user_guide/indexing.html#returning-a-view-versus-a-copy\n",
            "  errors=errors,\n"
          ],
          "name": "stderr"
        }
      ]
    },
    {
      "cell_type": "code",
      "metadata": {
        "colab": {
          "base_uri": "https://localhost:8080/",
          "height": 607
        },
        "id": "ahGXhH9XlOW9",
        "outputId": "ee0a1912-aaa6-4980-dd91-b1e055ede230"
      },
      "source": [
        "fig, ax = plt.subplots(3,figsize=(4,10))\n",
        "ax[0].scatter(df2['NumberOfLikes'],df2['NumberOfComments'])\n",
        "ax[0].set_xlabel('Number of Likes')\n",
        "ax[0].set_ylabel('Number Of Comments')\n",
        "ax[1].scatter(df2['NumberofTweets'],df2['NumberOfComments'])\n",
        "ax[1].set_xlabel('NumberofTweets')\n",
        "ax[1].set_ylabel('Number Of Comments')\n",
        "ax[2].scatter(df2['tweetage'],df2['NumberOfComments'])\n",
        "ax[2].set_xlabel('tweetage')\n",
        "ax[2].set_ylabel('Number Of Comments')\n",
        "plt.show()"
      ],
      "execution_count": null,
      "outputs": [
        {
          "output_type": "display_data",
          "data": {
            "image/png": "[encoded data removed]",
            "text/plain": [
              "<Figure size 288x720 with 3 Axes>"
            ]
          },
          "metadata": {
            "tags": [],
            "needs_background": "light"
          }
        }
      ]
    },
    {
      "cell_type": "markdown",
      "metadata": {
        "id": "g2YlnICUITgp"
      },
      "source": [
        "##Splitting data"
      ]
    },
    {
      "cell_type": "code",
      "metadata": {
        "id": "zRU_kiH7Q6oc"
      },
      "source": [
        "df2 = df2[df2.NumberOfComments < 100]"
      ],
      "execution_count": null,
      "outputs": []
    },
    {
      "cell_type": "code",
      "metadata": {
        "id": "0DWc7AbxljGr"
      },
      "source": [
        "X= df2[['NumberofTweets', 'NumberofFollowing', 'NumberofFollowers' ,'NumberOfLikes' , 'Picture',\n",
        "       'Video', 'tweetage', 'numberOfHashtags', 'numberOfTags', 'numberOfURLs','language']]\n",
        "y = np.log10(df2['NumberOfComments'] + 1)\n",
        "X_train,X_test,y_train,y_test= train_test_split(X,y,test_size=0.20,random_state=30)"
      ],
      "execution_count": null,
      "outputs": []
    },
    {
      "cell_type": "code",
      "metadata": {
        "colab": {
          "base_uri": "https://localhost:8080/"
        },
        "id": "cGabg7pOmfSy",
        "outputId": "f5dce2a3-7c12-40b1-cdd6-9e46b81ee30e"
      },
      "source": [
        "Scaler = StandardScaler()\n",
        "Scaler.fit\n",
        "Scaler.fit(X_train[['NumberofTweets', 'NumberofFollowing', 'NumberofFollowers' ,  'numberOfHashtags','tweetage']])\n",
        "X_train[['NumberofTweets', 'NumberofFollowing', 'NumberofFollowers' ,  'numberOfHashtags','tweetage']] = Scaler.transform(X_train[['NumberofTweets', 'NumberofFollowing', 'NumberofFollowers' ,  'numberOfHashtags','tweetage']])\n",
        "X_test[['NumberofTweets', 'NumberofFollowing', 'NumberofFollowers' ,  'numberOfHashtags','tweetage']] = Scaler.transform(X_test[['NumberofTweets', 'NumberofFollowing', 'NumberofFollowers' ,  'numberOfHashtags','tweetage']])"
      ],
      "execution_count": null,
      "outputs": [
        {
          "output_type": "stream",
          "text": [
            "/usr/local/lib/python3.7/dist-packages/ipykernel_launcher.py:4: SettingWithCopyWarning: \n",
            "A value is trying to be set on a copy of a slice from a DataFrame.\n",
            "Try using .loc[row_indexer,col_indexer] = value instead\n",
            "\n",
            "See the caveats in the documentation: https://pandas.pydata.org/pandas-docs/stable/user_guide/indexing.html#returning-a-view-versus-a-copy\n",
            "  after removing the cwd from sys.path.\n",
            "/usr/local/lib/python3.7/dist-packages/pandas/core/indexing.py:1734: SettingWithCopyWarning: \n",
            "A value is trying to be set on a copy of a slice from a DataFrame.\n",
            "Try using .loc[row_indexer,col_indexer] = value instead\n",
            "\n",
            "See the caveats in the documentation: https://pandas.pydata.org/pandas-docs/stable/user_guide/indexing.html#returning-a-view-versus-a-copy\n",
            "  isetter(loc, value[:, i].tolist())\n",
            "/usr/local/lib/python3.7/dist-packages/ipykernel_launcher.py:5: SettingWithCopyWarning: \n",
            "A value is trying to be set on a copy of a slice from a DataFrame.\n",
            "Try using .loc[row_indexer,col_indexer] = value instead\n",
            "\n",
            "See the caveats in the documentation: https://pandas.pydata.org/pandas-docs/stable/user_guide/indexing.html#returning-a-view-versus-a-copy\n",
            "  \"\"\"\n",
            "/usr/local/lib/python3.7/dist-packages/pandas/core/indexing.py:1734: SettingWithCopyWarning: \n",
            "A value is trying to be set on a copy of a slice from a DataFrame.\n",
            "Try using .loc[row_indexer,col_indexer] = value instead\n",
            "\n",
            "See the caveats in the documentation: https://pandas.pydata.org/pandas-docs/stable/user_guide/indexing.html#returning-a-view-versus-a-copy\n",
            "  isetter(loc, value[:, i].tolist())\n"
          ],
          "name": "stderr"
        }
      ]
    },
    {
      "cell_type": "markdown",
      "metadata": {
        "id": "5dkZCTakJE_O"
      },
      "source": [
        "##Mutual information"
      ]
    },
    {
      "cell_type": "code",
      "metadata": {
        "colab": {
          "base_uri": "https://localhost:8080/"
        },
        "id": "IKxjd-WfvwIl",
        "outputId": "c936003b-137b-4b73-bb47-93782972dc23"
      },
      "source": [
        "import sklearn.feature_selection as fs\n",
        "yt = [i for i in y_train]\n",
        "featurerank = fs.mutual_info_regression(X_train,yt)\n",
        "feature_scores = []\n",
        "included_features = X_train.columns\n",
        "for i in np.arange(len(included_features)):\n",
        "  feature_scores.append([included_features[i],featurerank[i]])\n",
        "sorted_scores = sorted(np.array(feature_scores),key=lambda s: float(s[1]), reverse=True)\n",
        "print(np.array(sorted_scores))"
      ],
      "execution_count": null,
      "outputs": [
        {
          "output_type": "stream",
          "text": [
            "[['NumberOfLikes' '0.7209880356609606']\n",
            " ['NumberofTweets' '0.374018247683348']\n",
            " ['NumberofFollowing' '0.37057027533005193']\n",
            " ['NumberofFollowers' '0.3566618007996549']\n",
            " ['language' '0.0815744390621127']\n",
            " ['tweetage' '0.07998880452387569']\n",
            " ['numberOfHashtags' '0.05282057378690652']\n",
            " ['numberOfURLs' '0.05083244486310834']\n",
            " ['numberOfTags' '0.034180130693731936']\n",
            " ['Picture' '0.012570038561768637']\n",
            " ['Video' '0.0']]\n"
          ],
          "name": "stdout"
        }
      ]
    },
    {
      "cell_type": "code",
      "metadata": {
        "colab": {
          "base_uri": "https://localhost:8080/"
        },
        "id": "KNWTb4-z2kmL",
        "outputId": "99ab402b-ed99-488c-f3ea-6099d58e6616"
      },
      "source": [
        "featureranking = fs.f_regression(X_train,yt)\n",
        "feature_scoring = []\n",
        "for i in np.arange(len(included_features)):\n",
        "  feature_scoring.append([included_features[i],featureranking[0][i]])\n",
        "sorted_sc = sorted(np.array(feature_scoring),key=lambda s: float(s[1]), reverse=True)\n",
        "print(np.array(sorted_sc))"
      ],
      "execution_count": null,
      "outputs": [
        {
          "output_type": "stream",
          "text": [
            "[['NumberofFollowers' '423.7584756746586']\n",
            " ['NumberofTweets' '270.56277717911814']\n",
            " ['NumberOfLikes' '246.9065090018447']\n",
            " ['Video' 'nan']\n",
            " ['tweetage' '36.285279235817306']\n",
            " ['numberOfURLs' '34.10071729295742']\n",
            " ['numberOfTags' '33.28517389146257']\n",
            " ['language' '6.560713138639441']\n",
            " ['Picture' '6.384394191303427']\n",
            " ['numberOfHashtags' '1.6783819928236894']\n",
            " ['NumberofFollowing' '0.06461107368201076']]\n"
          ],
          "name": "stdout"
        },
        {
          "output_type": "stream",
          "text": [
            "/usr/local/lib/python3.7/dist-packages/sklearn/feature_selection/_univariate_selection.py:299: RuntimeWarning: invalid value encountered in true_divide\n",
            "  corr /= X_norms\n"
          ],
          "name": "stderr"
        }
      ]
    },
    {
      "cell_type": "code",
      "metadata": {
        "colab": {
          "base_uri": "https://localhost:8080/"
        },
        "id": "oYsgq9kM2to8",
        "outputId": "a8baf279-06b7-4584-bda7-45c1d1227a17"
      },
      "source": [
        "from sklearn.ensemble import RandomForestRegressor as rfr\n",
        "from sklearn.feature_selection import SelectFromModel\n",
        "sel = SelectFromModel(rfr(n_estimators = 100))\n",
        "sel.fit(X_train, y_train)\n",
        "sel.get_support()\n",
        "X_train.columns[(sel.get_support())]"
      ],
      "execution_count": null,
      "outputs": [
        {
          "output_type": "execute_result",
          "data": {
            "text/plain": [
              "Index(['NumberOfLikes'], dtype='object')"
            ]
          },
          "metadata": {
            "tags": []
          },
          "execution_count": 223
        }
      ]
    },
    {
      "cell_type": "code",
      "metadata": {
        "colab": {
          "base_uri": "https://localhost:8080/"
        },
        "id": "Yy2u2Een5LcZ",
        "outputId": "7a78ef46-50e7-489b-815d-37ec831ba89c"
      },
      "source": [
        "from sklearn.decomposition import PCA\n",
        "d = {}\n",
        "for i in range(len(X_train.columns)-1):\n",
        "  for j in range(i+1,len(X_train.columns)):\n",
        "    aa = X_train[[X_train.columns[i],X_train.columns[j]]]\n",
        "    pca = PCA(n_components=1)\n",
        "    aa = pca.fit_transform(aa)\n",
        "    d[X_train.columns[i] + ' ' + X_train.columns[j]] = pca.explained_variance_ratio_\n",
        "d"
      ],
      "execution_count": null,
      "outputs": [
        {
          "output_type": "execute_result",
          "data": {
            "text/plain": [
              "{'NumberOfLikes Picture': array([0.99999996]),\n",
              " 'NumberOfLikes Video': array([1.]),\n",
              " 'NumberOfLikes language': array([0.99991277]),\n",
              " 'NumberOfLikes numberOfHashtags': array([0.99999981]),\n",
              " 'NumberOfLikes numberOfTags': array([0.99999996]),\n",
              " 'NumberOfLikes numberOfURLs': array([0.99999997]),\n",
              " 'NumberOfLikes tweetage': array([0.99999981]),\n",
              " 'NumberofFollowers NumberOfLikes': array([0.99999981]),\n",
              " 'NumberofFollowers Picture': array([0.84338624]),\n",
              " 'NumberofFollowers Video': array([1.]),\n",
              " 'NumberofFollowers language': array([0.99789678]),\n",
              " 'NumberofFollowers numberOfHashtags': array([0.60900791]),\n",
              " 'NumberofFollowers numberOfTags': array([0.82982078]),\n",
              " 'NumberofFollowers numberOfURLs': array([0.89008835]),\n",
              " 'NumberofFollowers tweetage': array([0.71927245]),\n",
              " 'NumberofFollowing NumberOfLikes': array([0.99999981]),\n",
              " 'NumberofFollowing NumberofFollowers': array([0.59617514]),\n",
              " 'NumberofFollowing Picture': array([0.84208254]),\n",
              " 'NumberofFollowing Video': array([1.]),\n",
              " 'NumberofFollowing language': array([0.99786333]),\n",
              " 'NumberofFollowing numberOfHashtags': array([0.52502616]),\n",
              " 'NumberofFollowing numberOfTags': array([0.81638766]),\n",
              " 'NumberofFollowing numberOfURLs': array([0.86466882]),\n",
              " 'NumberofFollowing tweetage': array([0.53967691]),\n",
              " 'NumberofTweets NumberOfLikes': array([0.99999981]),\n",
              " 'NumberofTweets NumberofFollowers': array([0.93411749]),\n",
              " 'NumberofTweets NumberofFollowing': array([0.55034507]),\n",
              " 'NumberofTweets Picture': array([0.84232012]),\n",
              " 'NumberofTweets Video': array([1.]),\n",
              " 'NumberofTweets language': array([0.9978869]),\n",
              " 'NumberofTweets numberOfHashtags': array([0.62367519]),\n",
              " 'NumberofTweets numberOfTags': array([0.82079803]),\n",
              " 'NumberofTweets numberOfURLs': array([0.8826855]),\n",
              " 'NumberofTweets tweetage': array([0.77783452]),\n",
              " 'Picture Video': array([1.]),\n",
              " 'Picture language': array([0.9995985]),\n",
              " 'Picture numberOfHashtags': array([0.84534212]),\n",
              " 'Picture numberOfTags': array([0.55999527]),\n",
              " 'Picture numberOfURLs': array([0.57608928]),\n",
              " 'Picture tweetage': array([0.84242934]),\n",
              " 'Video language': array([1.]),\n",
              " 'Video numberOfHashtags': array([1.]),\n",
              " 'Video numberOfTags': array([1.]),\n",
              " 'Video numberOfURLs': array([1.]),\n",
              " 'Video tweetage': array([1.]),\n",
              " 'numberOfHashtags language': array([0.99788105]),\n",
              " 'numberOfHashtags numberOfTags': array([0.81870045]),\n",
              " 'numberOfHashtags numberOfURLs': array([0.8699154]),\n",
              " 'numberOfTags language': array([0.99952156]),\n",
              " 'numberOfTags numberOfURLs': array([0.61962918]),\n",
              " 'numberOfURLs language': array([0.99966208]),\n",
              " 'tweetage language': array([0.99786857]),\n",
              " 'tweetage numberOfHashtags': array([0.58818374]),\n",
              " 'tweetage numberOfTags': array([0.81636729]),\n",
              " 'tweetage numberOfURLs': array([0.87312665])}"
            ]
          },
          "metadata": {
            "tags": []
          },
          "execution_count": 224
        }
      ]
    },
    {
      "cell_type": "code",
      "metadata": {
        "id": "hNmQ_HANLNKe"
      },
      "source": [
        "X_train = X_train.drop(columns=[ 'Video', 'Picture','language' ,'numberOfURLs' , 'numberOfTags'])\n",
        "X_test = X_test.drop(columns=[ 'Video', 'Picture' , 'language' ,'numberOfURLs' , 'numberOfTags'])"
      ],
      "execution_count": null,
      "outputs": []
    },
    {
      "cell_type": "code",
      "metadata": {
        "colab": {
          "base_uri": "https://localhost:8080/",
          "height": 204
        },
        "id": "symwlWccXEQq",
        "outputId": "66b095c0-acfb-4497-93b2-6e5a4477e55e"
      },
      "source": [
        "X_test.head()"
      ],
      "execution_count": null,
      "outputs": [
        {
          "output_type": "execute_result",
          "data": {
            "text/html": [
              "<div>\n",
              "<style scoped>\n",
              "    .dataframe tbody tr th:only-of-type {\n",
              "        vertical-align: middle;\n",
              "    }\n",
              "\n",
              "    .dataframe tbody tr th {\n",
              "        vertical-align: top;\n",
              "    }\n",
              "\n",
              "    .dataframe thead th {\n",
              "        text-align: right;\n",
              "    }\n",
              "</style>\n",
              "<table border=\"1\" class=\"dataframe\">\n",
              "  <thead>\n",
              "    <tr style=\"text-align: right;\">\n",
              "      <th></th>\n",
              "      <th>NumberofTweets</th>\n",
              "      <th>NumberofFollowing</th>\n",
              "      <th>NumberofFollowers</th>\n",
              "      <th>NumberOfLikes</th>\n",
              "      <th>tweetage</th>\n",
              "      <th>numberOfHashtags</th>\n",
              "    </tr>\n",
              "  </thead>\n",
              "  <tbody>\n",
              "    <tr>\n",
              "      <th>4895</th>\n",
              "      <td>-0.501832</td>\n",
              "      <td>-0.486829</td>\n",
              "      <td>-0.352735</td>\n",
              "      <td>4</td>\n",
              "      <td>0.742788</td>\n",
              "      <td>0.250255</td>\n",
              "    </tr>\n",
              "    <tr>\n",
              "      <th>2773</th>\n",
              "      <td>-0.497527</td>\n",
              "      <td>0.907630</td>\n",
              "      <td>-0.352699</td>\n",
              "      <td>4</td>\n",
              "      <td>0.742788</td>\n",
              "      <td>1.119795</td>\n",
              "    </tr>\n",
              "    <tr>\n",
              "      <th>1436</th>\n",
              "      <td>-0.488528</td>\n",
              "      <td>-0.327902</td>\n",
              "      <td>-0.352638</td>\n",
              "      <td>1800</td>\n",
              "      <td>0.742788</td>\n",
              "      <td>0.250255</td>\n",
              "    </tr>\n",
              "    <tr>\n",
              "      <th>143</th>\n",
              "      <td>-0.502291</td>\n",
              "      <td>-0.282787</td>\n",
              "      <td>-0.352744</td>\n",
              "      <td>516</td>\n",
              "      <td>-0.138770</td>\n",
              "      <td>1.119795</td>\n",
              "    </tr>\n",
              "    <tr>\n",
              "      <th>2336</th>\n",
              "      <td>-0.473636</td>\n",
              "      <td>-0.656010</td>\n",
              "      <td>-0.352732</td>\n",
              "      <td>0</td>\n",
              "      <td>0.742788</td>\n",
              "      <td>1.119795</td>\n",
              "    </tr>\n",
              "  </tbody>\n",
              "</table>\n",
              "</div>"
            ],
            "text/plain": [
              "      NumberofTweets  NumberofFollowing  ...  tweetage  numberOfHashtags\n",
              "4895       -0.501832          -0.486829  ...  0.742788          0.250255\n",
              "2773       -0.497527           0.907630  ...  0.742788          1.119795\n",
              "1436       -0.488528          -0.327902  ...  0.742788          0.250255\n",
              "143        -0.502291          -0.282787  ... -0.138770          1.119795\n",
              "2336       -0.473636          -0.656010  ...  0.742788          1.119795\n",
              "\n",
              "[5 rows x 6 columns]"
            ]
          },
          "metadata": {
            "tags": []
          },
          "execution_count": 226
        }
      ]
    },
    {
      "cell_type": "code",
      "metadata": {
        "colab": {
          "base_uri": "https://localhost:8080/"
        },
        "id": "V5bCqZp8K9Wj",
        "outputId": "eaa3360f-1f21-46c1-f437-71280516381c"
      },
      "source": [
        "param_tuning = {\n",
        "        'max_depth': [8],\n",
        "        'min_child_weight': [1],\n",
        "        'subsample': [0.6],\n",
        "        'colsample_bytree': [0.6],\n",
        "        'n_estimators' : [2000],\n",
        "        'objective': ['reg:squarederror']\n",
        "}\n",
        "\n",
        "xgb_model = XGBRegressor()\n",
        "\n",
        "gsearch = GridSearchCV(estimator = xgb_model,\n",
        "                           param_grid = param_tuning,                        \n",
        "                           scoring = 'neg_median_absolute_error',\n",
        "                           cv = 20,\n",
        "                           n_jobs = -1,\n",
        "                           verbose = 1)\n",
        "\n",
        "gsearch.fit(X_train,y_train)"
      ],
      "execution_count": null,
      "outputs": [
        {
          "output_type": "stream",
          "text": [
            "Fitting 20 folds for each of 1 candidates, totalling 20 fits\n"
          ],
          "name": "stdout"
        },
        {
          "output_type": "stream",
          "text": [
            "[Parallel(n_jobs=-1)]: Using backend LokyBackend with 2 concurrent workers.\n",
            "[Parallel(n_jobs=-1)]: Done  20 out of  20 | elapsed:  1.3min finished\n"
          ],
          "name": "stderr"
        },
        {
          "output_type": "execute_result",
          "data": {
            "text/plain": [
              "GridSearchCV(cv=20, error_score=nan,\n",
              "             estimator=XGBRegressor(base_score=0.5, booster='gbtree',\n",
              "                                    colsample_bylevel=1, colsample_bynode=1,\n",
              "                                    colsample_bytree=1, gamma=0,\n",
              "                                    importance_type='gain', learning_rate=0.1,\n",
              "                                    max_delta_step=0, max_depth=3,\n",
              "                                    min_child_weight=1, missing=None,\n",
              "                                    n_estimators=100, n_jobs=1, nthread=None,\n",
              "                                    objective='reg:linear', random_state=0,\n",
              "                                    reg_alpha=0, reg...,\n",
              "                                    scale_pos_weight=1, seed=None, silent=None,\n",
              "                                    subsample=1, verbosity=1),\n",
              "             iid='deprecated', n_jobs=-1,\n",
              "             param_grid={'colsample_bytree': [0.6], 'max_depth': [8],\n",
              "                         'min_child_weight': [1], 'n_estimators': [2000],\n",
              "                         'objective': ['reg:squarederror'],\n",
              "                         'subsample': [0.6]},\n",
              "             pre_dispatch='2*n_jobs', refit=True, return_train_score=False,\n",
              "             scoring='neg_median_absolute_error', verbose=1)"
            ]
          },
          "metadata": {
            "tags": []
          },
          "execution_count": 178
        }
      ]
    },
    {
      "cell_type": "code",
      "metadata": {
        "colab": {
          "base_uri": "https://localhost:8080/"
        },
        "id": "3JJ32g2bK-Wk",
        "outputId": "f29d4b71-50ae-4a00-9427-8874bd054874"
      },
      "source": [
        "bst = gsearch.best_estimator_\n",
        "bst.fit(X_train,y_train)"
      ],
      "execution_count": null,
      "outputs": [
        {
          "output_type": "execute_result",
          "data": {
            "text/plain": [
              "XGBRegressor(base_score=0.5, booster='gbtree', colsample_bylevel=1,\n",
              "             colsample_bynode=1, colsample_bytree=0.6, gamma=0,\n",
              "             importance_type='gain', learning_rate=0.1, max_delta_step=0,\n",
              "             max_depth=8, min_child_weight=1, missing=None, n_estimators=2000,\n",
              "             n_jobs=1, nthread=None, objective='reg:squarederror',\n",
              "             random_state=0, reg_alpha=0, reg_lambda=1, scale_pos_weight=1,\n",
              "             seed=None, silent=None, subsample=0.6, verbosity=1)"
            ]
          },
          "metadata": {
            "tags": []
          },
          "execution_count": 179
        }
      ]
    },
    {
      "cell_type": "code",
      "metadata": {
        "id": "JJXcXsUqrC8C"
      },
      "source": [
        "bst.save_model(\"commentsmodel.bin\")\n",
        "model_xgb = xgb.Booster()\n",
        "model_xgb.load_model(\"commentsmodel.bin\")"
      ],
      "execution_count": null,
      "outputs": []
    },
    {
      "cell_type": "code",
      "metadata": {
        "colab": {
          "base_uri": "https://localhost:8080/",
          "height": 204
        },
        "id": "932InzNiVYg1",
        "outputId": "431f5bd3-dd34-41ff-b5ae-203c9510415a"
      },
      "source": [
        "X_test.head()"
      ],
      "execution_count": null,
      "outputs": [
        {
          "output_type": "execute_result",
          "data": {
            "text/html": [
              "<div>\n",
              "<style scoped>\n",
              "    .dataframe tbody tr th:only-of-type {\n",
              "        vertical-align: middle;\n",
              "    }\n",
              "\n",
              "    .dataframe tbody tr th {\n",
              "        vertical-align: top;\n",
              "    }\n",
              "\n",
              "    .dataframe thead th {\n",
              "        text-align: right;\n",
              "    }\n",
              "</style>\n",
              "<table border=\"1\" class=\"dataframe\">\n",
              "  <thead>\n",
              "    <tr style=\"text-align: right;\">\n",
              "      <th></th>\n",
              "      <th>NumberofTweets</th>\n",
              "      <th>NumberofFollowing</th>\n",
              "      <th>NumberofFollowers</th>\n",
              "      <th>NumberOfLikes</th>\n",
              "      <th>tweetage</th>\n",
              "      <th>numberOfHashtags</th>\n",
              "    </tr>\n",
              "  </thead>\n",
              "  <tbody>\n",
              "    <tr>\n",
              "      <th>4895</th>\n",
              "      <td>-0.501832</td>\n",
              "      <td>-0.486829</td>\n",
              "      <td>-0.352735</td>\n",
              "      <td>4</td>\n",
              "      <td>0.742788</td>\n",
              "      <td>0.250255</td>\n",
              "    </tr>\n",
              "    <tr>\n",
              "      <th>2773</th>\n",
              "      <td>-0.497527</td>\n",
              "      <td>0.907630</td>\n",
              "      <td>-0.352699</td>\n",
              "      <td>4</td>\n",
              "      <td>0.742788</td>\n",
              "      <td>1.119795</td>\n",
              "    </tr>\n",
              "    <tr>\n",
              "      <th>1436</th>\n",
              "      <td>-0.488528</td>\n",
              "      <td>-0.327902</td>\n",
              "      <td>-0.352638</td>\n",
              "      <td>1800</td>\n",
              "      <td>0.742788</td>\n",
              "      <td>0.250255</td>\n",
              "    </tr>\n",
              "    <tr>\n",
              "      <th>143</th>\n",
              "      <td>-0.502291</td>\n",
              "      <td>-0.282787</td>\n",
              "      <td>-0.352744</td>\n",
              "      <td>516</td>\n",
              "      <td>-0.138770</td>\n",
              "      <td>1.119795</td>\n",
              "    </tr>\n",
              "    <tr>\n",
              "      <th>2336</th>\n",
              "      <td>-0.473636</td>\n",
              "      <td>-0.656010</td>\n",
              "      <td>-0.352732</td>\n",
              "      <td>0</td>\n",
              "      <td>0.742788</td>\n",
              "      <td>1.119795</td>\n",
              "    </tr>\n",
              "  </tbody>\n",
              "</table>\n",
              "</div>"
            ],
            "text/plain": [
              "      NumberofTweets  NumberofFollowing  ...  tweetage  numberOfHashtags\n",
              "4895       -0.501832          -0.486829  ...  0.742788          0.250255\n",
              "2773       -0.497527           0.907630  ...  0.742788          1.119795\n",
              "1436       -0.488528          -0.327902  ...  0.742788          0.250255\n",
              "143        -0.502291          -0.282787  ... -0.138770          1.119795\n",
              "2336       -0.473636          -0.656010  ...  0.742788          1.119795\n",
              "\n",
              "[5 rows x 6 columns]"
            ]
          },
          "metadata": {
            "tags": []
          },
          "execution_count": 181
        }
      ]
    },
    {
      "cell_type": "code",
      "metadata": {
        "id": "kse-3L8fVYen"
      },
      "source": [
        "y_pr = pd.Series(bst.predict(X_test))"
      ],
      "execution_count": null,
      "outputs": []
    },
    {
      "cell_type": "code",
      "metadata": {
        "id": "9AdpbWZyrSeC"
      },
      "source": [
        "y_pr = pd.Series(bst.predict(X_test))"
      ],
      "execution_count": null,
      "outputs": []
    },
    {
      "cell_type": "code",
      "metadata": {
        "colab": {
          "base_uri": "https://localhost:8080/"
        },
        "id": "l7a4fm__raLd",
        "outputId": "22f71de5-ef13-4ea0-9835-f1870e62110f"
      },
      "source": [
        "mean_absolute_error(y_test, y_pr)"
      ],
      "execution_count": null,
      "outputs": [
        {
          "output_type": "execute_result",
          "data": {
            "text/plain": [
              "0.15214884611803162"
            ]
          },
          "metadata": {
            "tags": []
          },
          "execution_count": 184
        }
      ]
    },
    {
      "cell_type": "code",
      "metadata": {
        "colab": {
          "base_uri": "https://localhost:8080/"
        },
        "id": "96Y4PTdZksUW",
        "outputId": "ecb5a6e3-b2ff-48cc-d782-8f855440ef5b"
      },
      "source": [
        "df2['NumberOfComments'].describe()"
      ],
      "execution_count": null,
      "outputs": [
        {
          "output_type": "execute_result",
          "data": {
            "text/plain": [
              "count    3423.000000\n",
              "mean        9.847210\n",
              "std        18.849376\n",
              "min         0.000000\n",
              "25%         0.000000\n",
              "50%         1.000000\n",
              "75%        10.000000\n",
              "max        99.000000\n",
              "Name: NumberOfComments, dtype: float64"
            ]
          },
          "metadata": {
            "tags": []
          },
          "execution_count": 185
        }
      ]
    },
    {
      "cell_type": "code",
      "metadata": {
        "colab": {
          "base_uri": "https://localhost:8080/",
          "height": 204
        },
        "id": "x7ntRi9qlO-b",
        "outputId": "db1c8cae-122f-45fd-a0fb-5754cfc110a7"
      },
      "source": [
        "X_train.head()"
      ],
      "execution_count": null,
      "outputs": [
        {
          "output_type": "execute_result",
          "data": {
            "text/html": [
              "<div>\n",
              "<style scoped>\n",
              "    .dataframe tbody tr th:only-of-type {\n",
              "        vertical-align: middle;\n",
              "    }\n",
              "\n",
              "    .dataframe tbody tr th {\n",
              "        vertical-align: top;\n",
              "    }\n",
              "\n",
              "    .dataframe thead th {\n",
              "        text-align: right;\n",
              "    }\n",
              "</style>\n",
              "<table border=\"1\" class=\"dataframe\">\n",
              "  <thead>\n",
              "    <tr style=\"text-align: right;\">\n",
              "      <th></th>\n",
              "      <th>NumberofTweets</th>\n",
              "      <th>NumberofFollowing</th>\n",
              "      <th>NumberofFollowers</th>\n",
              "      <th>NumberOfLikes</th>\n",
              "      <th>tweetage</th>\n",
              "      <th>numberOfHashtags</th>\n",
              "    </tr>\n",
              "  </thead>\n",
              "  <tbody>\n",
              "    <tr>\n",
              "      <th>2277</th>\n",
              "      <td>-0.502009</td>\n",
              "      <td>-0.477601</td>\n",
              "      <td>-0.352736</td>\n",
              "      <td>7</td>\n",
              "      <td>0.742788</td>\n",
              "      <td>-0.619285</td>\n",
              "    </tr>\n",
              "    <tr>\n",
              "      <th>795</th>\n",
              "      <td>0.771580</td>\n",
              "      <td>-0.038756</td>\n",
              "      <td>-0.352708</td>\n",
              "      <td>12</td>\n",
              "      <td>-1.020328</td>\n",
              "      <td>2.858876</td>\n",
              "    </tr>\n",
              "    <tr>\n",
              "      <th>4060</th>\n",
              "      <td>1.692629</td>\n",
              "      <td>0.031992</td>\n",
              "      <td>0.560862</td>\n",
              "      <td>29</td>\n",
              "      <td>-1.901886</td>\n",
              "      <td>0.250255</td>\n",
              "    </tr>\n",
              "    <tr>\n",
              "      <th>4745</th>\n",
              "      <td>-0.502044</td>\n",
              "      <td>-0.652934</td>\n",
              "      <td>-0.352742</td>\n",
              "      <td>579</td>\n",
              "      <td>0.742788</td>\n",
              "      <td>-0.619285</td>\n",
              "    </tr>\n",
              "    <tr>\n",
              "      <th>4666</th>\n",
              "      <td>-0.501709</td>\n",
              "      <td>-0.682669</td>\n",
              "      <td>-0.352744</td>\n",
              "      <td>444</td>\n",
              "      <td>0.742788</td>\n",
              "      <td>0.250255</td>\n",
              "    </tr>\n",
              "  </tbody>\n",
              "</table>\n",
              "</div>"
            ],
            "text/plain": [
              "      NumberofTweets  NumberofFollowing  ...  tweetage  numberOfHashtags\n",
              "2277       -0.502009          -0.477601  ...  0.742788         -0.619285\n",
              "795         0.771580          -0.038756  ... -1.020328          2.858876\n",
              "4060        1.692629           0.031992  ... -1.901886          0.250255\n",
              "4745       -0.502044          -0.652934  ...  0.742788         -0.619285\n",
              "4666       -0.501709          -0.682669  ...  0.742788          0.250255\n",
              "\n",
              "[5 rows x 6 columns]"
            ]
          },
          "metadata": {
            "tags": []
          },
          "execution_count": 186
        }
      ]
    },
    {
      "cell_type": "code",
      "metadata": {
        "id": "weslF0mDocYg"
      },
      "source": [
        "import joblib\n",
        "filename = 'Scaler.sav'\n",
        "joblib.dump(Scaler, filename)\n",
        "loaded_model = joblib.load(filename)"
      ],
      "execution_count": null,
      "outputs": []
    },
    {
      "cell_type": "code",
      "metadata": {
        "id": "OA0gkDlen0j4"
      },
      "source": [
        "import pickle\n",
        "with open('Scaler.pkl', 'wb') as pkl:\n",
        "    pickle.dump(Scaler, pkl)\n",
        "with open('Scaler.pkl', 'rb') as pkl:\n",
        "    pickle_preds = pickle.load(pkl)"
      ],
      "execution_count": null,
      "outputs": []
    }
  ]
}